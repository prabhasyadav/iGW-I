{
 "cells": [
  {
   "cell_type": "code",
   "execution_count": 1,
   "metadata": {
    "ExecuteTime": {
     "end_time": "2021-01-16T22:15:12.644121Z",
     "start_time": "2021-01-16T22:15:11.844073Z"
    },
    "tags": [
     "hide-input",
     "remove-input"
    ]
   },
   "outputs": [],
   "source": [
    "import numpy as np\n",
    "import scipy.special as sci\n",
    "import matplotlib.pyplot as plt\n",
    "from scipy import stats # linregress\n",
    "import pandas as pd\n",
    "from IPython.display import Latex"
   ]
  },
  {
   "cell_type": "code",
   "execution_count": 2,
   "metadata": {
    "ExecuteTime": {
     "end_time": "2021-01-16T23:51:55.297392Z",
     "start_time": "2021-01-16T23:51:55.069965Z"
    },
    "tags": [
     "hide-input"
    ]
   },
   "outputs": [
    {
     "data": {
      "application/papermill.record/image/png": "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\n",
      "application/papermill.record/text/plain": "<Figure size 432x288 with 1 Axes>"
     },
     "metadata": {
      "scrapbook": {
       "mime_prefix": "application/papermill.record/",
       "name": "em_fit"
      }
     },
     "output_type": "display_data"
    }
   ],
   "source": [
    "from myst_nb import glue\n",
    "import numpy as np\n",
    "import matplotlib.pyplot as plt\n",
    "from sklearn.linear_model import LinearRegression\n",
    "\n",
    "# x from 0 to 30\n",
    "x = 30 * np.random.random((20, 1))\n",
    "\n",
    "# y = a*x + b with noise\n",
    "y = 0.2 * x + 3.0 + np.random.normal(size=x.shape)\n",
    "\n",
    "# create a linear regression model\n",
    "model = LinearRegression()\n",
    "model.fit(x, y)\n",
    "\n",
    "# predict y from the data\n",
    "x_new = np.linspace(0, 30, 100)\n",
    "y_new = model.predict(x_new[:, np.newaxis])\n",
    "\n",
    "# plot the results\n",
    "fig, ax = plt.subplots(figsize=(6, 4))\n",
    "ax.scatter(x, y, c=\"red\", label = \"data\")\n",
    "ax.plot(x_new, y_new, label = \"prediction\")\n",
    "\n",
    "ax.set_ylabel(r'Discharge (m$^3$/s)')\n",
    "ax.set_xlabel('Hydraulic Head (m)')\n",
    "\n",
    "ax.axis('tight')\n",
    "ax.legend()\n",
    "\n",
    "plt.close(fig)\n",
    "glue(\"em_fit\", fig, display=False ) "
   ]
  },
  {
   "cell_type": "code",
   "execution_count": 3,
   "metadata": {},
   "outputs": [
    {
     "name": "stdout",
     "output_type": "stream",
     "text": [
      "Provided are:\n",
      "\n",
      "hydraulic conductivity = 0.0002 m\n",
      "head at origin = 10 m\n",
      "head at L = 7.5 m\n",
      "flow length = 175 m\n",
      "Recharge = 1000 mm/a \n",
      "\n",
      "The resulting head without head is 8.84 m \n",
      "\n",
      "The resulting head with head is 8.91 m \n",
      "\n"
     ]
    }
   ],
   "source": [
    " print(\"Provided are:\\n\")\n",
    "\n",
    "K = 2E-4 # hydraulic conductivity [m/s]\n",
    "Ho = 10 # head at the origin [m]\n",
    "Hu = 7.5 # head at L [m]\n",
    "L = 175 #flow length [m]\n",
    "N1 = 0 # no recharge [m/s]\n",
    "N2 = 1000 # recharge [mm/a]\n",
    "\n",
    "# intermediate calculation \n",
    "x = L/2 # mid of the aquifer [m]\n",
    "N_ = N2/1000/365/86400 # recharge, [m/s]\n",
    " \n",
    "#solution\n",
    "h1=(Ho**2-(Ho**2-Hu**2)/L*x+(N1/K*x*(L-x)))**0.5\n",
    "h2=(Ho**2-(Ho**2-Hu**2)/L*x+(N_/K*x*(L-x)))**0.5\n",
    "\n",
    "print(\"hydraulic conductivity = {} m\\nhead at origin = {} m\\nhead at L = {} m\\nflow length = {} m\\nRecharge = {} mm/a\".format(K, Ho, Hu, L, N2 ),\"\\n\")\n",
    "print(\"The resulting head without head is {:0.2f} m \\n\".format(h1))\n",
    "print(\"The resulting head with head is {:0.2f} m \\n\".format(h2))\n",
    "\n"
   ]
  }
 ],
 "metadata": {
  "celltoolbar": "Tags",
  "hide_input": false,
  "kernelspec": {
   "display_name": "Python 3",
   "language": "python",
   "name": "python3"
  },
  "language_info": {
   "codemirror_mode": {
    "name": "ipython",
    "version": 3
   },
   "file_extension": ".py",
   "mimetype": "text/x-python",
   "name": "python",
   "nbconvert_exporter": "python",
   "pygments_lexer": "ipython3",
   "version": "3.10.4"
  },
  "latex_envs": {
   "LaTeX_envs_menu_present": true,
   "autoclose": false,
   "autocomplete": true,
   "bibliofile": "biblio.bib",
   "cite_by": "apalike",
   "current_citInitial": 1,
   "eqLabelWithNumbers": false,
   "eqNumInitial": 1,
   "hotkeys": {
    "equation": "Ctrl-E",
    "itemize": "Ctrl-I"
   },
   "labels_anchors": false,
   "latex_user_defs": false,
   "report_style_numbering": false,
   "user_envs_cfg": false
  },
  "toc": {
   "base_numbering": 1,
   "nav_menu": {},
   "number_sections": true,
   "sideBar": true,
   "skip_h1_title": false,
   "title_cell": "Table of Contents",
   "title_sidebar": "Contents",
   "toc_cell": false,
   "toc_position": {},
   "toc_section_display": true,
   "toc_window_display": false
  },
  "varInspector": {
   "cols": {
    "lenName": 16,
    "lenType": 16,
    "lenVar": 40
   },
   "kernels_config": {
    "python": {
     "delete_cmd_postfix": "",
     "delete_cmd_prefix": "del ",
     "library": "var_list.py",
     "varRefreshCmd": "print(var_dic_list())"
    },
    "r": {
     "delete_cmd_postfix": ") ",
     "delete_cmd_prefix": "rm(",
     "library": "var_list.r",
     "varRefreshCmd": "cat(var_dic_list()) "
    }
   },
   "position": {
    "height": "531.4px",
    "left": "1157px",
    "right": "20px",
    "top": "120px",
    "width": "359px"
   },
   "types_to_exclude": [
    "module",
    "function",
    "builtin_function_or_method",
    "instance",
    "_Feature"
   ],
   "window_display": false
  }
 },
 "nbformat": 4,
 "nbformat_minor": 4
}