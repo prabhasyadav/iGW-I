{
 "cells": [
  {
   "cell_type": "code",
   "execution_count": 1,
   "metadata": {
    "ExecuteTime": {
     "end_time": "2021-01-16T22:15:12.644121Z",
     "start_time": "2021-01-16T22:15:11.844073Z"
    },
    "tags": [
     "hide-input"
    ]
   },
   "outputs": [],
   "source": [
    "import numpy as np\n",
    "import scipy.special as sci\n",
    "import matplotlib.pyplot as plt\n",
    "from scipy import stats # linregress\n",
    "import pandas as pd\n",
    "from IPython.display import Latex"
   ]
  },
  {
   "cell_type": "code",
   "execution_count": 2,
   "metadata": {
    "ExecuteTime": {
     "end_time": "2021-01-16T23:51:55.297392Z",
     "start_time": "2021-01-16T23:51:55.069965Z"
    },
    "tags": [
     "hide-input"
    ]
   },
   "outputs": [
    {
     "data": {
      "application/papermill.record/image/png": "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\n",
      "application/papermill.record/text/plain": "<Figure size 432x288 with 1 Axes>"
     },
     "metadata": {
      "scrapbook": {
       "mime_prefix": "application/papermill.record/",
       "name": "em_fit"
      }
     },
     "output_type": "display_data"
    }
   ],
   "source": [
    "from myst_nb import glue\n",
    "import numpy as np\n",
    "import matplotlib.pyplot as plt\n",
    "from sklearn.linear_model import LinearRegression\n",
    "\n",
    "# x from 0 to 30\n",
    "x = 30 * np.random.random((20, 1))\n",
    "\n",
    "# y = a*x + b with noise\n",
    "y = 0.2 * x + 3.0 + np.random.normal(size=x.shape)\n",
    "\n",
    "# create a linear regression model\n",
    "model = LinearRegression()\n",
    "model.fit(x, y)\n",
    "\n",
    "# predict y from the data\n",
    "x_new = np.linspace(0, 30, 100)\n",
    "y_new = model.predict(x_new[:, np.newaxis])\n",
    "\n",
    "# plot the results\n",
    "fig, ax = plt.subplots(figsize=(6, 4))\n",
    "ax.scatter(x, y, c=\"red\", label = \"data\")\n",
    "ax.plot(x_new, y_new, label = \"prediction\")\n",
    "\n",
    "ax.set_ylabel(r'Discharge (m$^3$/s)')\n",
    "ax.set_xlabel('Hydraulic Head (m)')\n",
    "\n",
    "ax.axis('tight')\n",
    "ax.legend()\n",
    "\n",
    "plt.close(fig)\n",
    "glue(\"em_fit\", fig, display=False ) "
   ]
  },
  {
   "cell_type": "code",
   "execution_count": 3,
   "metadata": {},
   "outputs": [
    {
     "name": "stdout",
     "output_type": "stream",
     "text": [
      "Provided are:\n",
      "\n",
      "hydraulic conductivity = 0.0002 m\n",
      "head at origin = 10 m\n",
      "head at L = 7.5 m\n",
      "flow length = 175 m\n",
      "Recharge = 1000 mm/a \n",
      "\n",
      "The resulting head without head is 8.84 m \n",
      "\n",
      "The resulting head with head is 8.91 m \n",
      "\n"
     ]
    }
   ],
   "source": [
    " print(\"Provided are:\\n\")\n",
    "\n",
    "K = 2E-4 # hydraulic conductivity [m/s]\n",
    "Ho = 10 # head at the origin [m]\n",
    "Hu = 7.5 # head at L [m]\n",
    "L = 175 #flow length [m]\n",
    "N1 = 0 # no recharge [m/s]\n",
    "N2 = 1000 # recharge [mm/a]\n",
    "\n",
    "# intermediate calculation \n",
    "x = L/2 # mid of the aquifer [m]\n",
    "N_ = N2/1000/365/86400 # recharge, [m/s]\n",
    " \n",
    "#solution\n",
    "h1=(Ho**2-(Ho**2-Hu**2)/L*x+(N1/K*x*(L-x)))**0.5\n",
    "h2=(Ho**2-(Ho**2-Hu**2)/L*x+(N_/K*x*(L-x)))**0.5\n",
    "\n",
    "print(\"hydraulic conductivity = {} m\\nhead at origin = {} m\\nhead at L = {} m\\nflow length = {} m\\nRecharge = {} mm/a\".format(K, Ho, Hu, L, N2 ),\"\\n\")\n",
    "print(\"The resulting head without head is {:0.2f} m \\n\".format(h1))\n",
    "print(\"The resulting head with head is {:0.2f} m \\n\".format(h2))\n",
    "\n"
   ]
  }
 ],
 "metadata": {
  "hide_input": false,
  "kernelspec": {
   "display_name": "Python 3",
   "language": "python",
   "name": "python3"
  },
  "language_info": {
   "codemirror_mode": {
    "name": "ipython",
    "version": 3
   },
   "file_extension": ".py",
   "mimetype": "text/x-python",
   "name": "python",
   "nbconvert_exporter": "python",
   "pygments_lexer": "ipython3",
   "version": "3.10.4"
  },
  "latex_envs": {
   "LaTeX_envs_menu_present": true,
   "autoclose": false,
   "autocomplete": true,
   "bibliofile": "biblio.bib",
   "cite_by": "apalike",
   "current_citInitial": 1,
   "eqLabelWithNumbers": false,
   "eqNumInitial": 1,
   "hotkeys": {
    "equation": "Ctrl-E",
    "itemize": "Ctrl-I"
   },
   "labels_anchors": false,
   "latex_user_defs": false,
   "report_style_numbering": false,
   "user_envs_cfg": false
  },
  "toc": {
   "base_numbering": 1,
   "nav_menu": {},
   "number_sections": true,
   "sideBar": true,
   "skip_h1_title": false,
   "title_cell": "Table of Contents",
   "title_sidebar": "Contents",
   "toc_cell": false,
   "toc_position": {},
   "toc_section_display": true,
   "toc_window_display": false
  },
  "varInspector": {
   "cols": {
    "lenName": 16,
    "lenType": 16,
    "lenVar": 40
   },
   "kernels_config": {
    "python": {
     "delete_cmd_postfix": "",
     "delete_cmd_prefix": "del ",
     "library": "var_list.py",
     "varRefreshCmd": "print(var_dic_list())"
    },
    "r": {
     "delete_cmd_postfix": ") ",
     "delete_cmd_prefix": "rm(",
     "library": "var_list.r",
     "varRefreshCmd": "cat(var_dic_list()) "
    }
   },
   "position": {
    "height": "531.4px",
    "left": "1157px",
    "right": "20px",
    "top": "120px",
    "width": "359px"
   },
   "types_to_exclude": [
    "module",
    "function",
    "builtin_function_or_method",
    "instance",
    "_Feature"
   ],
   "window_display": false
  }
 },
 "nbformat": 4,
 "nbformat_minor": 4
}