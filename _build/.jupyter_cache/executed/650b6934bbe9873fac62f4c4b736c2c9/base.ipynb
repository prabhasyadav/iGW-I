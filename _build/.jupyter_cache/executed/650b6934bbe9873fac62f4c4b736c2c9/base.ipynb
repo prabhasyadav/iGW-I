{
 "cells": [
  {
   "cell_type": "code",
   "execution_count": 1,
   "metadata": {
    "ExecuteTime": {
     "end_time": "2021-01-16T22:15:12.644121Z",
     "start_time": "2021-01-16T22:15:11.844073Z"
    },
    "tags": [
     "hide-input"
    ]
   },
   "outputs": [],
   "source": [
    "import numpy as np\n",
    "import scipy.special as sci\n",
    "import matplotlib.pyplot as plt\n",
    "from scipy import stats # linregress\n",
    "import pandas as pd\n",
    "from IPython.display import Latex"
   ]
  },
  {
   "cell_type": "code",
   "execution_count": 2,
   "metadata": {
    "ExecuteTime": {
     "end_time": "2021-01-16T23:51:55.297392Z",
     "start_time": "2021-01-16T23:51:55.069965Z"
    },
    "tags": [
     "hide-input"
    ]
   },
   "outputs": [
    {
     "data": {
      "application/papermill.record/image/png": "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\n",
      "application/papermill.record/text/plain": "<Figure size 432x288 with 1 Axes>"
     },
     "metadata": {
      "scrapbook": {
       "mime_prefix": "application/papermill.record/",
       "name": "em_fit"
      }
     },
     "output_type": "display_data"
    }
   ],
   "source": [
    "from myst_nb import glue\n",
    "import numpy as np\n",
    "import matplotlib.pyplot as plt\n",
    "from sklearn.linear_model import LinearRegression\n",
    "\n",
    "# x from 0 to 30\n",
    "x = 30 * np.random.random((20, 1))\n",
    "\n",
    "# y = a*x + b with noise\n",
    "y = 0.2 * x + 3.0 + np.random.normal(size=x.shape)\n",
    "\n",
    "# create a linear regression model\n",
    "model = LinearRegression()\n",
    "model.fit(x, y)\n",
    "\n",
    "# predict y from the data\n",
    "x_new = np.linspace(0, 30, 100)\n",
    "y_new = model.predict(x_new[:, np.newaxis])\n",
    "\n",
    "# plot the results\n",
    "fig, ax = plt.subplots(figsize=(6, 4))\n",
    "ax.scatter(x, y, c=\"red\", label = \"data\")\n",
    "ax.plot(x_new, y_new, label = \"prediction\")\n",
    "\n",
    "ax.set_ylabel(r'Discharge (m$^3$/s)')\n",
    "ax.set_xlabel('Hydraulic Head (m)')\n",
    "\n",
    "ax.axis('tight')\n",
    "ax.legend()\n",
    "\n",
    "plt.close(fig)\n",
    "glue(\"em_fit\", fig, display=False ) "
   ]
  },
  {
   "cell_type": "code",
   "execution_count": 3,
   "metadata": {},
   "outputs": [
    {
     "name": "stdout",
     "output_type": "stream",
     "text": [
      "Provided are:\n",
      "\n",
      "hydraulic conductivity = 0.0002 m\n",
      "head at origin = 10 m\n",
      "head at L = 7.5 m\n",
      "flow length = 175 m\n",
      "Recharge = 1000 mm/a \n",
      "\n",
      "The resulting head without head is 8.84 m \n",
      "\n",
      "The resulting head with head is 8.91 m \n",
      "\n"
     ]
    }
   ],
   "source": [
    " print(\"Provided are:\\n\")\n",
    "\n",
    "K = 2E-4 # hydraulic conductivity [m/s]\n",
    "Ho = 10 # head at the origin [m]\n",
    "Hu = 7.5 # head at L [m]\n",
    "L = 175 #flow length [m]\n",
    "N1 = 0 # no recharge [m/s]\n",
    "N2 = 1000 # recharge [mm/a]\n",
    "\n",
    "# intermediate calculation \n",
    "x = L/2 # mid of the aquifer [m]\n",
    "N_ = N2/1000/365/86400 # recharge, [m/s]\n",
    " \n",
    "#solution\n",
    "h1=(Ho**2-(Ho**2-Hu**2)/L*x+(N1/K*x*(L-x)))**0.5\n",
    "h2=(Ho**2-(Ho**2-Hu**2)/L*x+(N_/K*x*(L-x)))**0.5\n",
    "\n",
    "print(\"hydraulic conductivity = {} m\\nhead at origin = {} m\\nhead at L = {} m\\nflow length = {} m\\nRecharge = {} mm/a\".format(K, Ho, Hu, L, N2 ),\"\\n\")\n",
    "print(\"The resulting head without head is {:0.2f} m \\n\".format(h1))\n",
    "print(\"The resulting head with head is {:0.2f} m \\n\".format(h2))\n",
    "\n"
   ]
  }
 ],
 "metadata": {
  "hide_input": false,
  "kernelspec": {
   "display_name": "Python 3",
   "language": "python",
   "name": "python3"
  },
  "language_info": {
   "codemirror_mode": {
    "name": "ipython",
    "version": 3
   },
   "file_extension": ".py",
   "mimetype": "text/x-python",
   "name": "python",
   "nbconvert_exporter": "python",
   "pygments_lexer": "ipython3",
   "version": "3.8.3"
  },
  "latex_envs": {
   "LaTeX_envs_menu_present": true,
   "autoclose": false,
   "autocomplete": true,
   "bibliofile": "biblio.bib",
   "cite_by": "apalike",
   "current_citInitial": 1,
   "eqLabelWithNumbers": false,
   "eqNumInitial": 1,
   "hotkeys": {
    "equation": "Ctrl-E",
    "itemize": "Ctrl-I"
   },
   "labels_anchors": false,
   "latex_user_defs": false,
   "report_style_numbering": false,
   "user_envs_cfg": false
  },
  "toc": {
   "base_numbering": 1,
   "nav_menu": {},
   "number_sections": true,
   "sideBar": true,
   "skip_h1_title": false,
   "title_cell": "Table of Contents",
   "title_sidebar": "Contents",
   "toc_cell": false,
   "toc_position": {},
   "toc_section_display": true,
   "toc_window_display": false
  },
  "varInspector": {
   "cols": {
    "lenName": 16,
    "lenType": 16,
    "lenVar": 40
   },
   "kernels_config": {
    "python": {
     "delete_cmd_postfix": "",
     "delete_cmd_prefix": "del ",
     "library": "var_list.py",
     "varRefreshCmd": "print(var_dic_list())"
    },
    "r": {
     "delete_cmd_postfix": ") ",
     "delete_cmd_prefix": "rm(",
     "library": "var_list.r",
     "varRefreshCmd": "cat(var_dic_list()) "
    }
   },
   "position": {
    "height": "531.4px",
    "left": "1157px",
    "right": "20px",
    "top": "120px",
    "width": "359px"
   },
   "types_to_exclude": [
    "module",
    "function",
    "builtin_function_or_method",
    "instance",
    "_Feature"
   ],
   "window_display": false
  }
 },
 "nbformat": 4,
 "nbformat_minor": 4
}