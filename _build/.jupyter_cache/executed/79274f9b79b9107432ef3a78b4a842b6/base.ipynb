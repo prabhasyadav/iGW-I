{
 "cells": [
  {
   "cell_type": "code",
   "execution_count": 1,
   "metadata": {
    "tags": [
     "hide-input"
    ]
   },
   "outputs": [],
   "source": [
    "import numpy as np\n",
    "import matplotlib.pyplot as plt\n",
    "import pandas as pd\n"
   ]
  },
  {
   "cell_type": "code",
   "execution_count": 2,
   "metadata": {},
   "outputs": [
    {
     "name": "stdout",
     "output_type": "stream",
     "text": [
      "Let us find the total energy head.\n",
      "\n",
      "Provided are:\n",
      "elevation = 0.8 m\n",
      "acceleration due to gravity = 9.81 m\n",
      "fluid pressure = 1500 m\n",
      "fluid density = 1000 m, and\n",
      "velocity = 1e-06 m/s \n",
      "\n",
      "The resulting total energy head is 0.95 m\n"
     ]
    }
   ],
   "source": [
    "print(\"Let us find the total energy head.\\n\\nProvided are:\")\n",
    "\n",
    "z = 0.8 #elevation\n",
    "g = 9.81 # [m/s^2]\n",
    "p = 1500 # fluid pressure [N/m^2]\n",
    "rho = 1000 # fluid density [kg/m^3]\n",
    "v = 1e-6 #velocity [m/s]\n",
    "\n",
    "#solution\n",
    "h = z + p/(rho*g)+ v**2/(2*g) # m, head\n",
    "\n",
    "print(\"elevation = {} m\\nacceleration due to gravity = {} m\\nfluid pressure = {} m\\nfluid density = {} m, and\\nvelocity = {} m/s\".format(z,g,p,rho,v),\"\\n\")\n",
    "print(\"The resulting total energy head is {0:0.2f} m\".format(h))"
   ]
  },
  {
   "cell_type": "code",
   "execution_count": 3,
   "metadata": {},
   "outputs": [
    {
     "name": "stdout",
     "output_type": "stream",
     "text": [
      "\n",
      "Provided are:\n",
      "\n",
      "Conductivity = 0.0005 m/s\n",
      "Surface = 10 m²\n",
      "Hydraulic head at the inlet = 10 m\n",
      "Hydraulic head at the outlet = 2 m\n",
      "Lenght of the column = 5 m \n",
      "\n",
      "Solution:\n",
      "The resulting specific discharge is 8e-04 m/s \n",
      "and the flow rate is 8e-03 m³/s\n"
     ]
    }
   ],
   "source": [
    "print(\"\\nProvided are:\\n\")\n",
    "\n",
    "K = 5e-4 # m/s, conductivity\n",
    "A = 10 # m², surface\n",
    "h_in = 10 # m, hydraulic head at the inlet\n",
    "h_out = 2 # m, hydraulic head at the outlet\n",
    "L = 5 #m, lenght of the column\n",
    "\n",
    "#intermediate calculation\n",
    "I = (h_in-h_out)/L\n",
    "\n",
    "#solution\n",
    "q = K*I\n",
    "Q = K*I*A\n",
    "\n",
    "print(\"Conductivity = {} m/s\\nSurface = {} m²\\nHydraulic head at the inlet = {} m\\nHydraulic head at the outlet = {} m\\nLenght of the column = {} m\".format(K, A, h_in, h_out, L), \"\\n\")\n",
    "print(\"Solution:\\nThe resulting specific discharge is {0:0.0e} m/s\".format(q), \"\\nand the flow rate is {0:0.0e} m³/s\".format(Q))"
   ]
  },
  {
   "cell_type": "code",
   "execution_count": 4,
   "metadata": {},
   "outputs": [
    {
     "name": "stdout",
     "output_type": "stream",
     "text": [
      "Let us find the hydraulic conductivities.\n",
      "\n",
      "Provided are:\n",
      "grain diameter corresponding to 10% of cumulative mass fraction = 0.13 mm\n",
      "Temperature = 10 °C\n",
      "temperature change = 5 K \n",
      "\n",
      "The resulting hydraulic Conductivity at 20°C is 1.96e-04 m/s \n",
      "and the resulting hydraulic conductivity at 25°C is 2.25e-04 m/s\n"
     ]
    }
   ],
   "source": [
    "print(\"Let us find the hydraulic conductivities.\\n\\nProvided are:\")\n",
    "\n",
    "d10 = 0.13 # mm,  grain diameter corresponding to 10% of cumulative mass fraction\n",
    "T1 = 10 # °C, Temperature\n",
    "deltaT = 5 # °C, temperature change\n",
    "\n",
    "#intermediate calculation\n",
    "T2 = T1 + deltaT\n",
    "\n",
    "#solution based on Hazen's formula\n",
    "K1 = 0.0116 * d10**2 * (0.7 + 0.03*T1)\n",
    "K2 = 0.0116 * d10**2 * (0.7 + 0.03*T2)\n",
    "\n",
    "print(\"grain diameter corresponding to 10% of cumulative mass fraction = {} mm\\nTemperature = {} °C\\ntemperature change = {} K\".format(d10, T1, deltaT),\"\\n\")\n",
    "print(\"The resulting hydraulic Conductivity at 20°C is {0:0.2e} m/s\".format(K1),\n",
    "      \"\\nand the resulting hydraulic conductivity at 25°C is {0:0.2e} m/s\".format(K2))"
   ]
  },
  {
   "cell_type": "code",
   "execution_count": 5,
   "metadata": {},
   "outputs": [
    {
     "name": "stdout",
     "output_type": "stream",
     "text": [
      "Let us find the hydraulic conductivity with a constant-head permeameter.\n",
      "\n",
      "Provided are:\n",
      "Length of the permeameter = 15 cm \n",
      "cross-sectional area = 25 cm²\n",
      "hydraulic head = 5 cm \n",
      "Volume = 100 mL \n",
      "time = 12 min \n",
      "\n",
      "The resulting hydraulic Conductivity is 1e+00 cm/min \n",
      "and which is 2e-04 m/s\n"
     ]
    }
   ],
   "source": [
    "print(\"Let us find the hydraulic conductivity with a constant-head permeameter.\\n\\nProvided are:\")\n",
    "\n",
    "L = 15 # Length of the permeameter [cm]\n",
    "A = 25 # cross-sectional area [cm^2]\n",
    "h = 5 # hydraulic head [cm]\n",
    "V = 100 # Volume of collected water [mL = cm^3]\n",
    "t = 12 # time [min]\n",
    "\n",
    "#solution\n",
    "K1 = (V * L)/(A * t * h)\n",
    "K2 = K1/(60*100)\n",
    "\n",
    "print(\"Length of the permeameter = {} cm \\ncross-sectional area = {} cm\\u00b2\\nhydraulic head = {} cm \\nVolume = {} mL \\ntime = {} min\".format(L,A,h,V,t),\"\\n\")\n",
    "print(\"The resulting hydraulic Conductivity is {0:2.0e} cm/min\".format(K1),\n",
    "      \"\\nand which is {:02.0e} m/s\".format(K2))"
   ]
  },
  {
   "cell_type": "code",
   "execution_count": 6,
   "metadata": {},
   "outputs": [
    {
     "name": "stdout",
     "output_type": "stream",
     "text": [
      "Let us find the hydraulic conductivity.\n",
      "intrinsic permeability = 2.7e-15 m²\n",
      "density = 999.7 kg/m³\n",
      "dynamic viscosity = 0.013097 Pa*s \n",
      "\n",
      "The resulting hydraulic conductivity at 20°C is 2.0e-09 m/s\n"
     ]
    }
   ],
   "source": [
    "print(\"Let us find the hydraulic conductivity.\")\n",
    "\n",
    "k = 2.7e-15 # intrinsic permeability [m^2]\n",
    "rho = 999.7 # density at 20°C [kg/m^3]\n",
    "eta = 0.013097 # dynamic viscosity at 20°C [Pa*s]\n",
    "g = 9.81 # [m/s^2]\n",
    "\n",
    "# solution\n",
    "K = k * ((rho * g)/eta)\n",
    "\n",
    "print(\"intrinsic permeability = {} m\\u00b2\\ndensity = {} kg/m\\u00b3\\ndynamic viscosity = {} Pa*s\".format(k, rho, eta),\"\\n\")\n",
    "print(\"The resulting hydraulic conductivity at 20°C is {0:0.1e} m/s\".format(K))"
   ]
  },
  {
   "cell_type": "code",
   "execution_count": 7,
   "metadata": {},
   "outputs": [
    {
     "name": "stdout",
     "output_type": "stream",
     "text": [
      "Provided data are:\n",
      "\n",
      "Flow rate = 0.005 m³/s\n",
      "total area = 1000 m²\n",
      "effective porosity = 0.4  \n",
      "\n",
      "The resulting average interstitial velocity is 1.08 m/d\n"
     ]
    }
   ],
   "source": [
    "print(\"Provided data are:\\n\")\n",
    "\n",
    "Q = 0.005 # Flow rate [m^3/s]\n",
    "A = 1000 # total area of soil specimen [m^2]\n",
    "ne = 0.4 # effective porosity [-] = \n",
    "\n",
    "\n",
    "#solution\n",
    "vs = Q / (ne * A)*3600*24 \n",
    "\n",
    "print(\"Flow rate = {} m\\u00b3/s\\ntotal area = {} m\\u00b2\\neffective porosity = {} \".format(Q, A, ne),\"\\n\")\n",
    "print(\"The resulting average interstitial velocity is {} m/d\".format(vs))"
   ]
  },
  {
   "cell_type": "code",
   "execution_count": 8,
   "metadata": {},
   "outputs": [
    {
     "name": "stdout",
     "output_type": "stream",
     "text": [
      "Provided are:\n",
      "\n",
      "travel time of water = 100 s\n",
      "Length = 200 m²\n",
      "effective porosity = 0.25  \n",
      "\n",
      "The linear velocity is 2.0 m/h \n",
      "the pore volume is 100.0 s, and \n",
      "the darcy velocity is 0.5 m/h\n"
     ]
    }
   ],
   "source": [
    "print(\"Provided are:\\n\")\n",
    "\n",
    "t = 100 # travel time of water [h]\n",
    "L = 200 # Distance from injection to measurement [m]\n",
    "ne = 0.25 # effective porosity [-] \n",
    "\n",
    "\n",
    "#solution\n",
    "vs = L / t\n",
    "PV = L / vs\n",
    "v = vs * ne\n",
    "\n",
    "print(\"travel time of water = {} s\\nLength = {} m\\u00b2\\neffective porosity = {} \".format(t, L, ne),\"\\n\")\n",
    "print(\"The linear velocity is {} m/h \\nthe pore volume is {} s, and \\nthe darcy velocity is {} m/h\".format(vs, PV, v))"
   ]
  }
 ],
 "metadata": {
  "kernelspec": {
   "display_name": "Python 3",
   "language": "python",
   "name": "python3"
  },
  "language_info": {
   "codemirror_mode": {
    "name": "ipython",
    "version": 3
   },
   "file_extension": ".py",
   "mimetype": "text/x-python",
   "name": "python",
   "nbconvert_exporter": "python",
   "pygments_lexer": "ipython3",
   "version": "3.8.3"
  }
 },
 "nbformat": 4,
 "nbformat_minor": 4
}