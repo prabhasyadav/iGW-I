{
 "cells": [
  {
   "cell_type": "code",
   "execution_count": 1,
   "metadata": {},
   "outputs": [],
   "source": [
    "# used library\n",
    "#usual libraries\n",
    "import numpy as np\n",
    "import pandas as pd\n",
    "import matplotlib.pyplot as plt\n",
    "\n",
    "# specific libraries\n",
    "from ipywidgets import interactive, widgets, Layout # for interactive plot with slider\n",
    "from scipy.special import expi # for well function"
   ]
  },
  {
   "cell_type": "code",
   "execution_count": 2,
   "metadata": {},
   "outputs": [
    {
     "data": {
      "text/html": [
       "<div>\n",
       "<style scoped>\n",
       "    .dataframe tbody tr th:only-of-type {\n",
       "        vertical-align: middle;\n",
       "    }\n",
       "\n",
       "    .dataframe tbody tr th {\n",
       "        vertical-align: top;\n",
       "    }\n",
       "\n",
       "    .dataframe thead th {\n",
       "        text-align: right;\n",
       "    }\n",
       "</style>\n",
       "<table border=\"1\" class=\"dataframe\">\n",
       "  <thead>\n",
       "    <tr style=\"text-align: right;\">\n",
       "      <th></th>\n",
       "      <th>time (s)</th>\n",
       "      <th>drawdown (m)</th>\n",
       "    </tr>\n",
       "  </thead>\n",
       "  <tbody>\n",
       "    <tr>\n",
       "      <th>0</th>\n",
       "      <td>60</td>\n",
       "      <td>0.01</td>\n",
       "    </tr>\n",
       "    <tr>\n",
       "      <th>1</th>\n",
       "      <td>120</td>\n",
       "      <td>0.03</td>\n",
       "    </tr>\n",
       "    <tr>\n",
       "      <th>2</th>\n",
       "      <td>180</td>\n",
       "      <td>0.05</td>\n",
       "    </tr>\n",
       "    <tr>\n",
       "      <th>3</th>\n",
       "      <td>240</td>\n",
       "      <td>0.06</td>\n",
       "    </tr>\n",
       "    <tr>\n",
       "      <th>4</th>\n",
       "      <td>300</td>\n",
       "      <td>0.07</td>\n",
       "    </tr>\n",
       "  </tbody>\n",
       "</table>\n",
       "</div>"
      ],
      "text/plain": [
       "   time (s)  drawdown (m)\n",
       "0        60          0.01\n",
       "1       120          0.03\n",
       "2       180          0.05\n",
       "3       240          0.06\n",
       "4       300          0.07"
      ]
     },
     "execution_count": 2,
     "metadata": {},
     "output_type": "execute_result"
    }
   ],
   "source": [
    "# input data must be in *.csv format. Time data must be in \"min\", and Drawdown in \"m\". \n",
    "#This can only be done in offline mode currently. Remove numbered comments #1, from below\n",
    "\n",
    "#1 data = pd.read_csv(\"user_data.csv\", sep = \",\", usecols =[\"Time (min)\", \"Drawdown (m)\"])\n",
    "\n",
    "#2 t_m= data19.values[:,0] # extracting time data and converting to numpy array\n",
    "#3 s_m= data19.values[:,1]\n",
    "\n",
    "# You can change the data in t_m and s_m. Pls. comment if you are using offline and import your date (csv file)\n",
    "t_m =np.array([1, 2,    3,    4,    5,    7,    9,   12,   18,   23,   33, 41,   56,  126,  636, 1896])\n",
    "s_m = np.array([0.01, 0.03, 0.05, 0.06, 0.07, 0.09, 0.12, 0.14, 0.16, 0.17, 0.18, 0.19, 0.2 , 0.22, 0.3 , 0.32])\n",
    "\n",
    "\n",
    "t_s = t_m*60 # sec- converting time to sec.\n",
    "\n",
    "d = {'time (s)': t_s, 'drawdown (m)': s_m}\n",
    "df = pd.DataFrame(data=d, index=None) \n",
    "df.head(5) # change 5 to larger number if you want to see more data in the table."
   ]
  },
  {
   "cell_type": "code",
   "execution_count": 3,
   "metadata": {},
   "outputs": [
    {
     "data": {
      "application/vnd.jupyter.widget-view+json": {
       "model_id": "5b71aa8001e84af78034ac96789c0d99",
       "version_major": 2,
       "version_minor": 0
      },
      "text/plain": [
       "interactive(children=(FloatText(value=0.00322, description='Transmissivity  (m²/s):', layout=Layout(width='250…"
      ]
     },
     "metadata": {},
     "output_type": "display_data"
    }
   ],
   "source": [
    "def W(u):  \n",
    "    return  -expi(-u) # provides the well function\n",
    "\n",
    "def well_f(T, S_c, r, Q): # provides the fit curve for given r and Q\n",
    "    \n",
    "        \n",
    "    # calculated function see L07-slide 31\n",
    "    u_1d = 4*T*t_s/(S_c*r**2) # calculating 1/u\n",
    "    w_ud = 4*np.pi*s_m*T/Q   # well function\n",
    "\n",
    "    # plots\n",
    "    u_1 = np.logspace(10,-1,250, base=10.0)\n",
    "    w_u =W(1/u_1) \n",
    "    \n",
    "    plt.figure(figsize=(9,6));\n",
    "    plt.loglog(u_1, w_u, label = \"Type curve\"); \n",
    "    plt.loglog(u_1d, w_ud, \"o\", color=\"red\", label = \"data\")\n",
    "    plt.ylim((0.1, 10));plt.xlim(1, 1e5)\n",
    "    plt.grid(True, which=\"both\",ls=\"-\") \n",
    "    plt.ylabel(r\"W(u)\");plt.xlabel(r\"1/u\")\n",
    "    plt.legend()\n",
    "    \n",
    "style = {'description_width': 'initial'}\n",
    "layout=Layout(width='250px')\n",
    "interactive_plot = interactive(well_f, \n",
    "                            T   = widgets.FloatText(value= 0.00322, description='Transmissivity  (m\\u00b2/s):', disabled=False, style=style, layout=layout,), \n",
    "                            S_c = widgets.FloatText(value= 7.97e-03, description='Storage Coefficient (-):', disabled=False, style=style, layout=layout), \n",
    "                            r   = widgets.FloatText(value= 9.85, description='Obs. well location (m):', disabled=False, style=style, layout=layout), \n",
    "                            Q   = widgets.FloatText(value= 0.0025, description='Discharge (m\\u00b3/s):', disabled=False, style=style, layout=layout)) \n",
    "display(interactive_plot)"
   ]
  },
  {
   "cell_type": "code",
   "execution_count": null,
   "metadata": {},
   "outputs": [],
   "source": []
  }
 ],
 "metadata": {
  "kernelspec": {
   "display_name": "Python 3",
   "language": "python",
   "name": "python3"
  },
  "language_info": {
   "codemirror_mode": {
    "name": "ipython",
    "version": 3
   },
   "file_extension": ".py",
   "mimetype": "text/x-python",
   "name": "python",
   "nbconvert_exporter": "python",
   "pygments_lexer": "ipython3",
   "version": "3.10.4"
  },
  "widgets": {
   "application/vnd.jupyter.widget-state+json": {
    "state": {
     "0af9fa81fccf4e85b1fc18034337aaa6": {
      "model_module": "@jupyter-widgets/controls",
      "model_module_version": "1.5.0",
      "model_name": "FloatTextModel",
      "state": {
       "_dom_classes": [],
       "_model_module": "@jupyter-widgets/controls",
       "_model_module_version": "1.5.0",
       "_model_name": "FloatTextModel",
       "_view_count": null,
       "_view_module": "@jupyter-widgets/controls",
       "_view_module_version": "1.5.0",
       "_view_name": "FloatTextView",
       "continuous_update": false,
       "description": "Transmissivity  (m²/s):",
       "description_tooltip": null,
       "disabled": false,
       "layout": "IPY_MODEL_c995756f96014d38a6fca57009769fc3",
       "step": null,
       "style": "IPY_MODEL_4d420d62c0aa42c6a1ccbf073bef8ec5",
       "value": 0.00322
      }
     },
     "21cda203e3654f40abc0264ed67290fb": {
      "model_module": "@jupyter-widgets/base",
      "model_module_version": "1.2.0",
      "model_name": "LayoutModel",
      "state": {
       "_model_module": "@jupyter-widgets/base",
       "_model_module_version": "1.2.0",
       "_model_name": "LayoutModel",
       "_view_count": null,
       "_view_module": "@jupyter-widgets/base",
       "_view_module_version": "1.2.0",
       "_view_name": "LayoutView",
       "align_content": null,
       "align_items": null,
       "align_self": null,
       "border": null,
       "bottom": null,
       "display": null,
       "flex": null,
       "flex_flow": null,
       "grid_area": null,
       "grid_auto_columns": null,
       "grid_auto_flow": null,
       "grid_auto_rows": null,
       "grid_column": null,
       "grid_gap": null,
       "grid_row": null,
       "grid_template_areas": null,
       "grid_template_columns": null,
       "grid_template_rows": null,
       "height": null,
       "justify_content": null,
       "justify_items": null,
       "left": null,
       "margin": null,
       "max_height": null,
       "max_width": null,
       "min_height": null,
       "min_width": null,
       "object_fit": null,
       "object_position": null,
       "order": null,
       "overflow": null,
       "overflow_x": null,
       "overflow_y": null,
       "padding": null,
       "right": null,
       "top": null,
       "visibility": null,
       "width": null
      }
     },
     "22645679069d49dcb34fd0ab36e496c0": {
      "model_module": "@jupyter-widgets/controls",
      "model_module_version": "1.5.0",
      "model_name": "FloatTextModel",
      "state": {
       "_dom_classes": [],
       "_model_module": "@jupyter-widgets/controls",
       "_model_module_version": "1.5.0",
       "_model_name": "FloatTextModel",
       "_view_count": null,
       "_view_module": "@jupyter-widgets/controls",
       "_view_module_version": "1.5.0",
       "_view_name": "FloatTextView",
       "continuous_update": false,
       "description": "Discharge (m³/s):",
       "description_tooltip": null,
       "disabled": false,
       "layout": "IPY_MODEL_c995756f96014d38a6fca57009769fc3",
       "step": null,
       "style": "IPY_MODEL_37e55f24befe4843a847c9461a52d8d6",
       "value": 0.0025
      }
     },
     "30e9e9c1aee740c59727a87e95b4037c": {
      "model_module": "@jupyter-widgets/output",
      "model_module_version": "1.0.0",
      "model_name": "OutputModel",
      "state": {
       "_dom_classes": [],
       "_model_module": "@jupyter-widgets/output",
       "_model_module_version": "1.0.0",
       "_model_name": "OutputModel",
       "_view_count": null,
       "_view_module": "@jupyter-widgets/output",
       "_view_module_version": "1.0.0",
       "_view_name": "OutputView",
       "layout": "IPY_MODEL_21cda203e3654f40abc0264ed67290fb",
       "msg_id": "",
       "outputs": [
        {
         "data": {
          "image/png": "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\n",
          "text/plain": "<Figure size 648x432 with 1 Axes>"
         },
         "metadata": {
          "needs_background": "light"
         },
         "output_type": "display_data"
        }
       ]
      }
     },
     "37e55f24befe4843a847c9461a52d8d6": {
      "model_module": "@jupyter-widgets/controls",
      "model_module_version": "1.5.0",
      "model_name": "DescriptionStyleModel",
      "state": {
       "_model_module": "@jupyter-widgets/controls",
       "_model_module_version": "1.5.0",
       "_model_name": "DescriptionStyleModel",
       "_view_count": null,
       "_view_module": "@jupyter-widgets/base",
       "_view_module_version": "1.2.0",
       "_view_name": "StyleView",
       "description_width": "initial"
      }
     },
     "4d420d62c0aa42c6a1ccbf073bef8ec5": {
      "model_module": "@jupyter-widgets/controls",
      "model_module_version": "1.5.0",
      "model_name": "DescriptionStyleModel",
      "state": {
       "_model_module": "@jupyter-widgets/controls",
       "_model_module_version": "1.5.0",
       "_model_name": "DescriptionStyleModel",
       "_view_count": null,
       "_view_module": "@jupyter-widgets/base",
       "_view_module_version": "1.2.0",
       "_view_name": "StyleView",
       "description_width": "initial"
      }
     },
     "5b71aa8001e84af78034ac96789c0d99": {
      "model_module": "@jupyter-widgets/controls",
      "model_module_version": "1.5.0",
      "model_name": "VBoxModel",
      "state": {
       "_dom_classes": [
        "widget-interact"
       ],
       "_model_module": "@jupyter-widgets/controls",
       "_model_module_version": "1.5.0",
       "_model_name": "VBoxModel",
       "_view_count": null,
       "_view_module": "@jupyter-widgets/controls",
       "_view_module_version": "1.5.0",
       "_view_name": "VBoxView",
       "box_style": "",
       "children": [
        "IPY_MODEL_0af9fa81fccf4e85b1fc18034337aaa6",
        "IPY_MODEL_7a0ff11de38a4edba3fb9f5388d7d9c6",
        "IPY_MODEL_7a9432ebdad34768b4e5438221ecdaa8",
        "IPY_MODEL_22645679069d49dcb34fd0ab36e496c0",
        "IPY_MODEL_30e9e9c1aee740c59727a87e95b4037c"
       ],
       "layout": "IPY_MODEL_d71cd8dfc5e84cefa9f276b98b122dae"
      }
     },
     "7a0ff11de38a4edba3fb9f5388d7d9c6": {
      "model_module": "@jupyter-widgets/controls",
      "model_module_version": "1.5.0",
      "model_name": "FloatTextModel",
      "state": {
       "_dom_classes": [],
       "_model_module": "@jupyter-widgets/controls",
       "_model_module_version": "1.5.0",
       "_model_name": "FloatTextModel",
       "_view_count": null,
       "_view_module": "@jupyter-widgets/controls",
       "_view_module_version": "1.5.0",
       "_view_name": "FloatTextView",
       "continuous_update": false,
       "description": "Storage Coefficient (-):",
       "description_tooltip": null,
       "disabled": false,
       "layout": "IPY_MODEL_c995756f96014d38a6fca57009769fc3",
       "step": null,
       "style": "IPY_MODEL_7a7d449cebcd486eb2d1d693589188d1",
       "value": 0.00797
      }
     },
     "7a7d449cebcd486eb2d1d693589188d1": {
      "model_module": "@jupyter-widgets/controls",
      "model_module_version": "1.5.0",
      "model_name": "DescriptionStyleModel",
      "state": {
       "_model_module": "@jupyter-widgets/controls",
       "_model_module_version": "1.5.0",
       "_model_name": "DescriptionStyleModel",
       "_view_count": null,
       "_view_module": "@jupyter-widgets/base",
       "_view_module_version": "1.2.0",
       "_view_name": "StyleView",
       "description_width": "initial"
      }
     },
     "7a9432ebdad34768b4e5438221ecdaa8": {
      "model_module": "@jupyter-widgets/controls",
      "model_module_version": "1.5.0",
      "model_name": "FloatTextModel",
      "state": {
       "_dom_classes": [],
       "_model_module": "@jupyter-widgets/controls",
       "_model_module_version": "1.5.0",
       "_model_name": "FloatTextModel",
       "_view_count": null,
       "_view_module": "@jupyter-widgets/controls",
       "_view_module_version": "1.5.0",
       "_view_name": "FloatTextView",
       "continuous_update": false,
       "description": "Obs. well location (m):",
       "description_tooltip": null,
       "disabled": false,
       "layout": "IPY_MODEL_c995756f96014d38a6fca57009769fc3",
       "step": null,
       "style": "IPY_MODEL_9b00b2bed39c43c8be825cf3907de03a",
       "value": 9.85
      }
     },
     "9b00b2bed39c43c8be825cf3907de03a": {
      "model_module": "@jupyter-widgets/controls",
      "model_module_version": "1.5.0",
      "model_name": "DescriptionStyleModel",
      "state": {
       "_model_module": "@jupyter-widgets/controls",
       "_model_module_version": "1.5.0",
       "_model_name": "DescriptionStyleModel",
       "_view_count": null,
       "_view_module": "@jupyter-widgets/base",
       "_view_module_version": "1.2.0",
       "_view_name": "StyleView",
       "description_width": "initial"
      }
     },
     "c995756f96014d38a6fca57009769fc3": {
      "model_module": "@jupyter-widgets/base",
      "model_module_version": "1.2.0",
      "model_name": "LayoutModel",
      "state": {
       "_model_module": "@jupyter-widgets/base",
       "_model_module_version": "1.2.0",
       "_model_name": "LayoutModel",
       "_view_count": null,
       "_view_module": "@jupyter-widgets/base",
       "_view_module_version": "1.2.0",
       "_view_name": "LayoutView",
       "align_content": null,
       "align_items": null,
       "align_self": null,
       "border": null,
       "bottom": null,
       "display": null,
       "flex": null,
       "flex_flow": null,
       "grid_area": null,
       "grid_auto_columns": null,
       "grid_auto_flow": null,
       "grid_auto_rows": null,
       "grid_column": null,
       "grid_gap": null,
       "grid_row": null,
       "grid_template_areas": null,
       "grid_template_columns": null,
       "grid_template_rows": null,
       "height": null,
       "justify_content": null,
       "justify_items": null,
       "left": null,
       "margin": null,
       "max_height": null,
       "max_width": null,
       "min_height": null,
       "min_width": null,
       "object_fit": null,
       "object_position": null,
       "order": null,
       "overflow": null,
       "overflow_x": null,
       "overflow_y": null,
       "padding": null,
       "right": null,
       "top": null,
       "visibility": null,
       "width": "250px"
      }
     },
     "d71cd8dfc5e84cefa9f276b98b122dae": {
      "model_module": "@jupyter-widgets/base",
      "model_module_version": "1.2.0",
      "model_name": "LayoutModel",
      "state": {
       "_model_module": "@jupyter-widgets/base",
       "_model_module_version": "1.2.0",
       "_model_name": "LayoutModel",
       "_view_count": null,
       "_view_module": "@jupyter-widgets/base",
       "_view_module_version": "1.2.0",
       "_view_name": "LayoutView",
       "align_content": null,
       "align_items": null,
       "align_self": null,
       "border": null,
       "bottom": null,
       "display": null,
       "flex": null,
       "flex_flow": null,
       "grid_area": null,
       "grid_auto_columns": null,
       "grid_auto_flow": null,
       "grid_auto_rows": null,
       "grid_column": null,
       "grid_gap": null,
       "grid_row": null,
       "grid_template_areas": null,
       "grid_template_columns": null,
       "grid_template_rows": null,
       "height": null,
       "justify_content": null,
       "justify_items": null,
       "left": null,
       "margin": null,
       "max_height": null,
       "max_width": null,
       "min_height": null,
       "min_width": null,
       "object_fit": null,
       "object_position": null,
       "order": null,
       "overflow": null,
       "overflow_x": null,
       "overflow_y": null,
       "padding": null,
       "right": null,
       "top": null,
       "visibility": null,
       "width": null
      }
     }
    },
    "version_major": 2,
    "version_minor": 0
   }
  }
 },
 "nbformat": 4,
 "nbformat_minor": 4
}