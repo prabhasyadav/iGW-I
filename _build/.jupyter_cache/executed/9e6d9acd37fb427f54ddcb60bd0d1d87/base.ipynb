{
 "cells": [
  {
   "cell_type": "code",
   "execution_count": 1,
   "metadata": {
    "ExecuteTime": {
     "end_time": "2020-11-09T12:11:34.361188Z",
     "start_time": "2020-11-09T12:11:34.353155Z"
    },
    "tags": [
     "hide-input"
    ]
   },
   "outputs": [],
   "source": [
    "import numpy as np\n",
    "import matplotlib.pyplot as plt\n",
    "%matplotlib widget\n",
    "import warnings; warnings.simplefilter('ignore')"
   ]
  },
  {
   "cell_type": "code",
   "execution_count": 2,
   "metadata": {
    "ExecuteTime": {
     "end_time": "2020-11-09T12:11:34.777876Z",
     "start_time": "2020-11-09T12:11:34.773752Z"
    }
   },
   "outputs": [
    {
     "name": "stdout",
     "output_type": "stream",
     "text": [
      " Total porosity is: 10.63%\n"
     ]
    }
   ],
   "source": [
    "# input data\n",
    "V_T= 254 #m^3 total volume\n",
    "V_v=27 #m^3 voids volume\n",
    "\n",
    "#calculations\n",
    "n=(V_v/V_T)*100\n",
    "\n",
    "# Output\n",
    "print(\" Total porosity is: {0:0.2f}%\".format(n) )"
   ]
  },
  {
   "cell_type": "code",
   "execution_count": 3,
   "metadata": {
    "ExecuteTime": {
     "end_time": "2020-11-09T12:11:35.275027Z",
     "start_time": "2020-11-09T12:11:35.263169Z"
    }
   },
   "outputs": [
    {
     "name": "stdout",
     "output_type": "stream",
     "text": [
      "The water content of the sample is: 28% \n",
      "\n",
      "The degree of saturation of the sample is: 93%\n"
     ]
    }
   ],
   "source": [
    "# solution\n",
    "\n",
    "V_T = 0.2 # m^3, Total sample.\n",
    "V_v = 0.06 # m^3, volume of voids\n",
    "V_a = 0.004 # m^3, volume of air\n",
    "\n",
    "# interim calculation\n",
    "V_w = V_v - V_a # m^3, Vol. water,  the remaining volume\n",
    "\n",
    "# calculation\n",
    "\n",
    "Theta = V_w/V_T # -, water content\n",
    "S = V_w/V_v # # -, degree of saturation\n",
    "\n",
    "# print\n",
    "print(\"The water content of the sample is: {0:.0%}\".format(Theta),\"\\n\")\n",
    "print(\"The degree of saturation of the sample is: {0:.0%}\".format(S))\n"
   ]
  },
  {
   "cell_type": "code",
   "execution_count": 4,
   "metadata": {
    "ExecuteTime": {
     "end_time": "2020-11-09T12:11:35.406836Z",
     "start_time": "2020-11-09T12:11:35.400151Z"
    }
   },
   "outputs": [
    {
     "name": "stdout",
     "output_type": "stream",
     "text": [
      "The maximum water rise in this tube is: 0.15 1/R cm\n"
     ]
    }
   ],
   "source": [
    "# input data\n",
    "sigma= 73 #g/s^2 surface tension\n",
    "rho= 0.999 # g/cm^3 water density\n",
    "g=980 #cm/s^2 acceleration of gravity\n",
    "\n",
    "#calculation\n",
    "h_c=(2*sigma)/(rho*g)\n",
    "\n",
    "#output\n",
    "print(\"The maximum water rise in this tube is: {0:0.2f} 1/R cm\".format(h_c))"
   ]
  }
 ],
 "metadata": {
  "hide_input": false,
  "kernelspec": {
   "display_name": "Python 3",
   "language": "python",
   "name": "python3"
  },
  "language_info": {
   "codemirror_mode": {
    "name": "ipython",
    "version": 3
   },
   "file_extension": ".py",
   "mimetype": "text/x-python",
   "name": "python",
   "nbconvert_exporter": "python",
   "pygments_lexer": "ipython3",
   "version": "3.8.3"
  },
  "latex_envs": {
   "LaTeX_envs_menu_present": true,
   "autoclose": false,
   "autocomplete": true,
   "bibliofile": "biblio.bib",
   "cite_by": "apalike",
   "current_citInitial": 1,
   "eqLabelWithNumbers": true,
   "eqNumInitial": 1,
   "hotkeys": {
    "equation": "Ctrl-E",
    "itemize": "Ctrl-I"
   },
   "labels_anchors": false,
   "latex_user_defs": false,
   "report_style_numbering": false,
   "user_envs_cfg": false
  },
  "toc": {
   "base_numbering": 1,
   "nav_menu": {},
   "number_sections": true,
   "sideBar": true,
   "skip_h1_title": false,
   "title_cell": "Table of Contents",
   "title_sidebar": "Contents",
   "toc_cell": false,
   "toc_position": {},
   "toc_section_display": true,
   "toc_window_display": false
  },
  "varInspector": {
   "cols": {
    "lenName": 16,
    "lenType": 16,
    "lenVar": 40
   },
   "kernels_config": {
    "python": {
     "delete_cmd_postfix": "",
     "delete_cmd_prefix": "del ",
     "library": "var_list.py",
     "varRefreshCmd": "print(var_dic_list())"
    },
    "r": {
     "delete_cmd_postfix": ") ",
     "delete_cmd_prefix": "rm(",
     "library": "var_list.r",
     "varRefreshCmd": "cat(var_dic_list()) "
    }
   },
   "types_to_exclude": [
    "module",
    "function",
    "builtin_function_or_method",
    "instance",
    "_Feature"
   ],
   "window_display": false
  }
 },
 "nbformat": 4,
 "nbformat_minor": 4
}