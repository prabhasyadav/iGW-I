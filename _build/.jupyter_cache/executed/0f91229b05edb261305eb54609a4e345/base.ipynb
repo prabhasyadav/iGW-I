{
 "cells": [
  {
   "cell_type": "code",
   "execution_count": 1,
   "metadata": {},
   "outputs": [
    {
     "name": "stdout",
     "output_type": "stream",
     "text": [
      "\n",
      "\u001b[1mProvided are:\u001b[0m\n",
      "\n",
      "hydraulic conductivity = 0.0005 m/s\n",
      "aquifer thickness = 45 m\n",
      "\n",
      "\u001b[1mSolution:\u001b[0m\n",
      "The resulting transmissivity is \u001b[1m0.0225 m²/s\u001b[0m.\n"
     ]
    }
   ],
   "source": [
    "print(\"\\n\\033[1mProvided are:\\033[0m\\n\")\n",
    "\n",
    "K = 5e-4 # m/s, hydraulic conductivity\n",
    "m = 45 # m, aquifer thickness\n",
    "\n",
    "#solution\n",
    "T = K*m\n",
    "\n",
    "print(\"hydraulic conductivity = {} m/s\\naquifer thickness = {} m\\n\".format(K,m),)\n",
    "print(\"\\033[1mSolution:\\033[0m\\nThe resulting transmissivity is \\033[1m{:02.4} m²/s\\033[0m.\".format(T))"
   ]
  },
  {
   "cell_type": "code",
   "execution_count": 2,
   "metadata": {},
   "outputs": [
    {
     "name": "stdout",
     "output_type": "stream",
     "text": [
      "\n",
      "\u001b[1mProvided are:\u001b[0m\n",
      "\n",
      "hydraulic conductivity = 0.0005 m/s\n",
      "hydraulic head = 130 m\n",
      "aquifer bottom elevation = 110 m\n",
      "\n",
      "\u001b[1mSolution:\u001b[0m\n",
      "The resulting transmissivity is \u001b[1m0.01 m²/s\u001b[0m.\n"
     ]
    }
   ],
   "source": [
    "print(\"\\n\\033[1mProvided are:\\033[0m\\n\")\n",
    "\n",
    "K = 5e-4 # m/s, hydraulich conducticity\n",
    "h = 130 # m, hydraulic head\n",
    "z_bot = 110 # m, aquifer bottom elevation\n",
    "\n",
    "#solution\n",
    "T = K*(h-z_bot)\n",
    "\n",
    "print(\"hydraulic conductivity = {} m/s\\nhydraulic head = {} m\\naquifer bottom elevation = {} m\\n\".format(K,h,z_bot))\n",
    "print(\"\\033[1mSolution:\\033[0m\\nThe resulting transmissivity is \\033[1m{:02.4} m²/s\\033[0m.\".format(T))"
   ]
  },
  {
   "cell_type": "code",
   "execution_count": null,
   "metadata": {},
   "outputs": [],
   "source": []
  }
 ],
 "metadata": {
  "kernelspec": {
   "display_name": "Python 3",
   "language": "python",
   "name": "python3"
  },
  "language_info": {
   "codemirror_mode": {
    "name": "ipython",
    "version": 3
   },
   "file_extension": ".py",
   "mimetype": "text/x-python",
   "name": "python",
   "nbconvert_exporter": "python",
   "pygments_lexer": "ipython3",
   "version": "3.8.3"
  }
 },
 "nbformat": 4,
 "nbformat_minor": 4
}