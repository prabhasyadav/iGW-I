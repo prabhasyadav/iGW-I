{
 "cells": [
  {
   "cell_type": "code",
   "execution_count": 1,
   "metadata": {
    "tags": [
     "hide-input"
    ]
   },
   "outputs": [],
   "source": [
    "import numpy as np"
   ]
  },
  {
   "cell_type": "code",
   "execution_count": 2,
   "metadata": {},
   "outputs": [
    {
     "name": "stdout",
     "output_type": "stream",
     "text": [
      "It is Unconfined Aquifer \n",
      "\n",
      "The required transmissivity is 1.62e-03 m²/s\n"
     ]
    }
   ],
   "source": [
    "#print(\"\\n\\033[1m Provided are:\\033[0m\\n\") # \\033[1m \\033[0m bold font, \\n - new line\n",
    "\n",
    "K_a = 8.5e-05 # m/s, Hydraulic conductivity \n",
    "Z_bot = 120 # m, aquifer bottom \n",
    "Z_top = 150 # m, aquifer top\n",
    "h_a   =  139 # m, hydraulic head in aquifer\n",
    "\n",
    "# interim calculation\n",
    "A_t = Z_top-Z_bot # m, Aquifer thickness\n",
    "A_wt = h_a - Z_bot # m, water_table level\n",
    "S_t = min(A_t, A_wt) # m, saturated thickness\n",
    "\n",
    "# result\n",
    "if h_a<Z_top:\n",
    "    print(\"It is Unconfined Aquifer \\n\") \n",
    "else: \n",
    "    print(\"It is Confined Aquifer \\n\") \n",
    "\n",
    "T_a = K_a*S_t # m^2/s, transmissivity\n",
    "\n",
    "print(\"The required transmissivity is {0:1.2e}\".format(T_a), \"m\\u00b2/s\")\n"
   ]
  },
  {
   "cell_type": "code",
   "execution_count": 3,
   "metadata": {},
   "outputs": [
    {
     "name": "stdout",
     "output_type": "stream",
     "text": [
      "\n",
      "\u001b[1m Provided are:\u001b[0m\n",
      "\n",
      " The given dscharge is: 9 m³/min \n",
      "\n",
      " The distance to Well 1 and well 2 are: 8m and 22m  \n",
      "\n",
      " The head at Well 1 and well 2 are: 9m and 10m\n",
      "\n",
      "\u001b[1m Result:\u001b[0m\n",
      "\n",
      "The transmissivity in the aquifer is 1.45 m²/d\n"
     ]
    }
   ],
   "source": [
    "print(\"\\n\\033[1m Provided are:\\033[0m\\n\")\n",
    "\n",
    "Q = 9 # m^3/min, Given discharge\n",
    "r1 = 8 # m, distance from well to point 1\n",
    "h1 = 9 # m, head at well 1\n",
    "R2 = 22 # m, distance from well to point 2\n",
    "H2 = 10 # m, head at well 2\n",
    "\n",
    "print(\" The given dscharge is: {}\".format(Q), \"m\\u00b3/min \\n\")\n",
    "print(\" The distance to Well 1 and well 2 are: {}m and {}m  \\n\".format(r1, R2))\n",
    "print(\" The head at Well 1 and well 2 are: {}m and {}m\".format(h1, H2))\n",
    "\n",
    "#interim calculation \n",
    "Q_min = Q * 1440 # m^3/d\n",
    "\n",
    "#Calculation\n",
    "\n",
    "T = Q/(2*np.pi*(H2-h1))*np.log(R2/r1) # m^2/d, Transmissivity - inverting Theim equation\n",
    "\n",
    "print(\"\\n\\033[1m Result:\\033[0m\\n\")\n",
    "print(\"The transmissivity in the aquifer is {0:0.2f} m\\u00b2/d\".format(T)) "
   ]
  },
  {
   "cell_type": "code",
   "execution_count": 4,
   "metadata": {},
   "outputs": [
    {
     "name": "stdout",
     "output_type": "stream",
     "text": [
      "\n",
      "\u001b[1m Provided are:\u001b[0m\n",
      "\n",
      " The given conductivity is: 24.5 m/d \n",
      "\n",
      " The distance to Well 1 and well 2 are: 0.23 m and 275 m are \n",
      "\n",
      " The head at Well 1 and well 2 are: 12 m and 18 m\n",
      "\n",
      "\u001b[1m Result:\u001b[0m\n",
      "\n",
      "Discharge from the well is 1955.06 m³/d\n"
     ]
    }
   ],
   "source": [
    "print(\"\\n\\033[1m Provided are:\\033[0m\\n\")\n",
    "\n",
    "K = 24.50 # m/d, conductivity\n",
    "r_1 = 0.23 # m, distance from well to point 1\n",
    "h_1 = 12 # m, head at well 1\n",
    "R_2 = 275 # m, distance from well to point 2\n",
    "H_2 = 18 # m, head at well 2\n",
    "\n",
    "print(\" The given conductivity is: {}\".format(K), \"m/d \\n\")\n",
    "print(\" The distance to Well 1 and well 2 are: {} m and {} m are \\n\".format(r_1, R_2))\n",
    "print(\" The head at Well 1 and well 2 are: {} m and {} m\".format(h_1, H_2))\n",
    "\n",
    "#Calculation\n",
    "\n",
    "Q_1 = (np.pi*K*(H_2**2-h_1**2))/(np.log(R_2/r_1)) # m^2/d, Transmissivity - inverting Theim equation\n",
    "\n",
    "print(\"\\n\\033[1m Result:\\033[0m\\n\")\n",
    "print(\"Discharge from the well is {0:0.2f} m\\u00b3/d\".format(Q_1)) "
   ]
  },
  {
   "cell_type": "code",
   "execution_count": null,
   "metadata": {},
   "outputs": [],
   "source": []
  }
 ],
 "metadata": {
  "kernelspec": {
   "display_name": "Python 3",
   "language": "python",
   "name": "python3"
  },
  "language_info": {
   "codemirror_mode": {
    "name": "ipython",
    "version": 3
   },
   "file_extension": ".py",
   "mimetype": "text/x-python",
   "name": "python",
   "nbconvert_exporter": "python",
   "pygments_lexer": "ipython3",
   "version": "3.8.3"
  }
 },
 "nbformat": 4,
 "nbformat_minor": 4
}