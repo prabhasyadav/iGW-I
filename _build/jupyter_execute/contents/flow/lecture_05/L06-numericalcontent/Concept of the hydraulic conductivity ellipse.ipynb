{
 "cells": [
  {
   "cell_type": "markdown",
   "metadata": {},
   "source": [
    "## Concept of the hydraulic conductivity ellipse"
   ]
  },
  {
   "cell_type": "code",
   "execution_count": 1,
   "metadata": {},
   "outputs": [],
   "source": [
    "import numpy as np"
   ]
  },
  {
   "cell_type": "code",
   "execution_count": 2,
   "metadata": {},
   "outputs": [
    {
     "name": "stdout",
     "output_type": "stream",
     "text": [
      "\u001b[1m\u001b[4mA quick example:\u001b[0m You can change the provided values.\n",
      "\n",
      "Calculate the hydraulic conductivity.\n",
      "\n",
      "\u001b[1mProvided are:\u001b[0m\n",
      "\n",
      "horizontal hydraulic conductivity = 1.0e-03 m/s\n",
      "vertical hydraulic conductivity = 1.0e-04 m/s\n",
      "angle = 50°\n",
      "\n",
      "\u001b[1mSolution:\u001b[0m\n",
      "The resulting hydraulic conductivity is \u001b[1m6.2e-04 m/s\u001b[0m.\n"
     ]
    }
   ],
   "source": [
    "print(\"\\033[1m\\033[4mA quick example:\\033[0m You can change the provided values.\\n\")\n",
    "print(\"Calculate the hydraulic conductivity.\\n\\n\\033[1mProvided are:\\033[0m\\n\")\n",
    "\n",
    "Kh =  1e-3 #horizontal hydraulic conductivity [m/s]\n",
    "Kv =  1e-4 #vertical hydraulic conductivity [m/s]\n",
    "theta = 50 #angle between flow direction ans horizontal plane [°]\n",
    "\n",
    "#solution\n",
    "K = 1 /((np.cos(theta)**2/Kh)+(np.sin(theta)**2/Kv))\n",
    "\n",
    "print(\"horizontal hydraulic conductivity = {:02.1e}\".format(Kh), \"m/s\\n\" \"vertical hydraulic conductivity = {:02.1e}\".format(Kv), \"m/s\\n\"\n",
    "      \"angle = {}°\\n\".format(theta))\n",
    "print(\"\\033[1mSolution:\\033[0m\\nThe resulting hydraulic conductivity is \\033[1m{:02.1e} m/s\\033[0m.\".format(K))"
   ]
  }
 ],
 "metadata": {
  "kernelspec": {
   "display_name": "Python 3",
   "language": "python",
   "name": "python3"
  },
  "language_info": {
   "codemirror_mode": {
    "name": "ipython",
    "version": 3
   },
   "file_extension": ".py",
   "mimetype": "text/x-python",
   "name": "python",
   "nbconvert_exporter": "python",
   "pygments_lexer": "ipython3",
   "version": "3.8.3"
  }
 },
 "nbformat": 4,
 "nbformat_minor": 4
}