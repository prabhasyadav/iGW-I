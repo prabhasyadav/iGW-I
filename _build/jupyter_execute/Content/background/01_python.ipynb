{
 "cells": [
  {
   "cell_type": "markdown",
   "metadata": {},
   "source": [
    "## Python Programming language\n",
    "\n",
    "### What is it?\n",
    "\n",
    "Python is an open-source interpreted, high-level, general-purpose programming language. This means:\n",
    "\n",
    "+  Interpreted/high-level language: This makes we avoid the nuances of fundamental coding as done by computer programmers/engineers. \n",
    "\n",
    "+  General purpose programming language and _Open-source_ ecosystem: This means it is extensible. Already over 200,000 Python packages are available ([Check Here](https://pypi.org/)). Also, it means being **free** of cost. \n",
    "\n",
    "+  For Groundwater: We can use Python packages such as **Numpy** (for numerical computing), **Scipy** (for scientific computing), **Sympy** (for symbolic computing), **Matplotlib** (for plotting) etc. for our computing and modelling in the course. "
   ]
  },
  {
   "cell_type": "markdown",
   "metadata": {},
   "source": [
    "### A bit of history of Python Programming language\n",
    "\n",
    "Python is now over 15 years old programming language. Its development can be traced from:\n",
    "\n",
    "+ **Guido van Rossum** began developing Python in 1980 at Centrum Wiskunde & Informatica (CWI), the Netherlands. Its implementation (_Python v.1_) was released in 1994.\n",
    "\n",
    "+ _Python 2.0_, released in 2000 became one of the most used general purpose programming language. Python 2.0 is now being replaced by _Python 3.0_ (from 2020).\n",
    "\n",
    "+ _Python 3.0_ will be used in our class. It is _not_ 100% compatible with earlier versions of _Python._\n",
    "\n",
    "+ _Python_ name comes from the British comedy group Monty Python (Van Rossum enjoyed their show). The official _Python_ documentation [(Check here)](https://www.python.org/doc/) also contains various references to Monty Python routines.\n"
   ]
  },
  {
   "cell_type": "markdown",
   "metadata": {},
   "source": [
    "### Why use Python Programming Language\n",
    "\n",
    "Many reasons but to put a few points here:\n",
    "\n",
    "+ _Python_ is a common tool among engineers, experts and researchers at universities and industry.\n",
    "\n",
    "+ _Python_ is system independent, therefore it is highly portable. Beside, it is a versatile (multi-purpose) language.\n",
    "\n",
    "+ _Python_ is incredibly flexible and can be adapted to specific local needs using enormous number of **PACKAGES**. Beside, it can easily interface with other languages e.g., C++, Java.\n",
    "\n",
    "+ _Python_ is under incredibly active development, improving greatly, and supported wildly by both professional and academic developers."
   ]
  },
  {
   "cell_type": "markdown",
   "metadata": {},
   "source": [
    "### Python Language Popularity\n",
    "\n",
    "```{image} images/bg1_f1.png\n",
    ":width: 600px\n",
    ":align: center\n",
    ":name: Difference between international and German definition of groundwater.\n",
    "```\n",
    "+ _Python_ has become a mainstream computing language. \n",
    "+ Details of the plot are [here](shorturl.at/htwQ7). \n",
    "+ This all means - it is good to learn to code in _Python_\n"
   ]
  },
  {
   "cell_type": "markdown",
   "metadata": {},
   "source": [
    "### Very basics of Python Programming\n",
    "\n",
    "_Python_ is a very extensive language. To get started we learn the very fundamentals of the language.\n",
    "\n",
    "**Fundamentals of Python Programming Language**\n",
    "\n",
    "```{image} images/bg1_f2.png\n",
    ":width: 600px\n",
    ":align: center\n",
    ":name: Very basic of Python language\n",
    "```\n",
    "\n",
    "**Data Types in Python**\n",
    "\n",
    "\n",
    "```{image} images/bg1_f3.png\n",
    ":width: 600px\n",
    ":align: center\n",
    ":name: Very basic of Python language\n",
    "```\n",
    "\n",
    "**Basic operators in Python**\n",
    "\n",
    "Refer to _Python_ documentation for complete description. Python documentation is very extensive and can be obtained from [here](https://www.python.org/doc/)\n",
    "\n",
    "\n",
    "```{image} images/bg1_f4.png\n",
    ":width: 600px\n",
    ":align: center\n",
    ":name: Very basic of Python language\n",
    "```\n",
    "\n",
    "\n",
    "**A FUNCTION in Python**\n",
    "\n",
    "A _function_ in a programming provide an ability to develop a reusable code-block with an option of several operations. This means, a function have input (or a set of input) and provide an (or a set of) output.\n",
    "\n",
    "\n",
    "```{image} images/bg1_f5.png\n",
    ":width: 600px\n",
    ":align: center\n",
    ":name: Defining a FUNCTION\n",
    "```\n",
    "\n",
    "Semicolon (:) in line 1 and _Indentation_ after line 1 are required. **def**, **return** are _Python_ keywords. There are quite few of them.\n"
   ]
  },
  {
   "cell_type": "markdown",
   "metadata": {},
   "source": [
    "### How much Python Programming should we know?\n",
    "\n",
    "This is probably the most important question. The **clear** answer at least for this course is that **no** programming has to be learned. \n",
    "This course do not expect any pre-coding skills. This course is intended for Basic Groundwater teaching, and that is the focus.\n",
    "But, how about learning groundwater by coding?\n",
    "\n",
    "Eventually, the depth of programming to learn is an individual choice. This course considers programming as a tool to learn better.\n",
    "\n",
    "In this course the _codes_ can are written in a way so that it can be easily read. In addition, this interactive book will allow quite many of the _code_ to be edited and executed in the book itself. For more advanced learning the popular notebook interface **JUPYTER** is to be used. \n",
    "\n",
    "**JUPYTER** interface, on which interface this book is developed, is very briefly explained in the next section. "
   ]
  }
 ],
 "metadata": {
  "kernelspec": {
   "display_name": "Python 3",
   "language": "python",
   "name": "python3"
  },
  "language_info": {
   "codemirror_mode": {
    "name": "ipython",
    "version": 3
   },
   "file_extension": ".py",
   "mimetype": "text/x-python",
   "name": "python",
   "nbconvert_exporter": "python",
   "pygments_lexer": "ipython3",
   "version": "3.10.4"
  }
 },
 "nbformat": 4,
 "nbformat_minor": 4
}