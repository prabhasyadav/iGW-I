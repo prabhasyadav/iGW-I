{
 "cells": [
  {
   "cell_type": "markdown",
   "metadata": {},
   "source": [
    "## About this Groundwater Course and Contents\n",
    "\n",
    "The contents provided in this website that forms an interactive book, is based on the Groundwater course created, maintained and lectured by \n",
    "**Prof. Rudolf Liedl** for over 15 years at the [Institute of Groundwater Manangement](https://tu-dresden.de/bu/umwelt/hydro/igw) of [TU Dresden](www.tu-dresden.de).\n",
    "\n",
    "The course structure and contents have been used as an _Introductory_ course on Groundwater for M.Sc. level students coming from multiple academic backgrounds. \n",
    "\n",
    "The **texts** provided in this interactive book is mostly based on the Prof. Liedl's lecture slides and the **interactive codes** are conversion from MS Excel&reg; spreadsheet to _Python_ codes. \n",
    "\n",
    "> **This interactive web-book is dedicated to Prof. Rudolf Liedl efforts to teach, train and inspire us and other students over the years.** \n"
   ]
  },
  {
   "cell_type": "markdown",
   "metadata": {},
   "source": [
    "### Basic contents structure\n",
    "\n",
    "The contents of this interactive book can be broadly divided in the following three groups:\n",
    "\n",
    " 1. Aquifer properties and groundwater flow\n",
    " 2. Transport in groundwater\n",
    " 3. Groundwater Modelling\n",
    "\n",
    "The first group (**aquifer properties and groundwater flow**) makes the core of this course. Here the very basic of groundwater, subsurface structure, properties that quantify groundwater mass and volume budgets, and the flow and other dynamics processes, e.g., abstraction using wells.\n",
    "\n",
    "The **transport in groundwater** topics focus on the quality aspects of groundwater. In particular, transport equations with and without inclusion of chemical reactions (e.g., sorption, decay) are considered. Eventually, few analytical solutions of transport problems are discussed.\n",
    "\n",
    "The **Groundwater Modelling** is for introducing the realm of computer modelling of groundwater and transport. Fundamentals of mathematical modelling, e.g., finite different methods, is introduced. The focus remains towards eventual use of MODFLOW (Flopy and Modelmuse interface), which is introduced in a short tutorial form.\n"
   ]
  },
  {
   "cell_type": "markdown",
   "metadata": {},
   "source": [
    "### What do you need in this course?\n",
    "\n",
    "You will need the following:\n",
    "\n",
    "* Laptop/Smartphone/tablet more convenient with internet connection\n",
    "* Recommended is installed JUPYTER interface.\n",
    "\n",
    "The course contents can be received as:\n",
    "\n",
    "* Lectures: Texts reading and interactive manipulation of codes/problems. Short questions (self-test) should be used to check the understanding of the contents.\n",
    "\n",
    "* Tutorials: Should be understand by manipulating the existing codes. The tutorials should be then independently solved using _JUPYTER_ interface (Mybinder or Personal system)\n",
    "\n",
    "* Additional tools: The course provides several simulation tools- e.g., sieve analysis, effective conductivity, Advection-dispersion etc. These tools (also _Python_) provide high-level interactivity. These tools should be used to enhance learning.\n",
    "\n",
    "* Question banks/exam questions should be used to self-check the level of understanding."
   ]
  },
  {
   "cell_type": "markdown",
   "metadata": {},
   "source": [
    "### How to use the Book \n",
    "\n",
    "The Main Goal of developing the **Interactive GroundWater** Book is to enable the process of _Learning through Coding_, which can in future assist the students in developing their own applications and take a step towards automatizing research by providing aid for solving complex mathematical equations as well as simulating various scenarios. With the help of this book we hope to enable a _spark of interest in the young minds_ towards the **Ground Water field** as well as displaying the _practical application of Python_ to  to solve complex Questions.\n",
    "\n",
    "### Featurs of the Book\n",
    "\n",
    "#### [Hypothes](https://web.hypothes.is/) - Highlighting and Annotating Content \n",
    "\n",
    "* Users can use Hypothes to highlight content on the web page, by simply using you mouse to highlight the lines you want to highlight and then Hyprothes would give an option to the user if they want to Highlight the Content or Annotate the content\n",
    "\n",
    "* It is recommended that while using Hypothes the user creates their own Hypotheis account and when Highlighting the content they create their own Private Group inside of the Hypotheis sidebar so that the notes they make are private to them.\n",
    " \n",
    " \n",
    "#### Running Codes Available\n",
    "\n",
    "To run the Codes available on the Web Page there are 3 options available to the user **Google Collab**, **Live Code** and **My Binder**. \n",
    "\n",
    "To use any of these Code Runners press on the Rocket Button on the top right corner and select the preferable code runner you want to use. \n",
    "\n",
    "Even Though there are plenty of options available to run the code, we would recommend the user to use **Google Collab** as it is one of the quickest running options and is easy to use, inside Google Collab the user just needs to press _run_ on the code cell they want to _execute_.\n",
    "\n",
    "In case of Live Code the Codes can be directly run on the web page itself instead of redirecting to a third party service, but due to server connection issues the loading time for Live Code is too high. \n",
    "\n",
    "#### Additional Resources \n",
    "\n",
    "* Quizzes Available at the End of Each Chapter \n",
    "* Lecture Slides \n",
    "* Short Videos explaining some Key Concepts \n",
    "\n",
    " \n"
   ]
  }
 ],
 "metadata": {
  "kernelspec": {
   "display_name": "Python 3",
   "language": "python",
   "name": "python3"
  },
  "language_info": {
   "codemirror_mode": {
    "name": "ipython",
    "version": 3
   },
   "file_extension": ".py",
   "mimetype": "text/x-python",
   "name": "python",
   "nbconvert_exporter": "python",
   "pygments_lexer": "ipython3",
   "version": "3.10.4"
  }
 },
 "nbformat": 4,
 "nbformat_minor": 4
}