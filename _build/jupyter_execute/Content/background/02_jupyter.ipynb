{
 "cells": [
  {
   "cell_type": "markdown",
   "metadata": {},
   "source": [
    "## JUPYTER Notebook Interface for Python"
   ]
  },
  {
   "cell_type": "markdown",
   "metadata": {},
   "source": [
    "As we mentioned earlier, this interactive book/course can be used without any programming experience. Code based calculations that is part of this book can be mostly executed in the book itself. The codes provided in the book, still with only limited skill programming skill, can be adopted for more illustrative use. This can be done in two ways. First approach, and a quick one, will be to use the web-based tool called [Binder Project](https://mybinder.org/). The second approach will be to use the codes in the off-line systems. Common to both approach is very useful computing interface called **JUPYTER**. \n",
    "\n",
    "Here we briefly learn about **JUPYTER** interface. \n"
   ]
  },
  {
   "cell_type": "markdown",
   "metadata": {},
   "source": [
    "**JUPYTER** is a computing interface and has been in development since 2015. _JUPYTER_ provide computing interface for several programming language, and thus its name is derived from:\n",
    "\n",
    "+ **JU** : Julia programming language\n",
    "+ **PY** : Python programming language\n",
    "+ **R**  : R programming language\n",
    "\n",
    "More important aspects of **JUPYTER** computing interface:\n",
    "\n",
    "+ Browser-based tool: - i.e., should also run in smartphone/tabs in a\n",
    "+ OPen-source: i.e., community based development and personalization\n",
    "+ Active development: Very actively under development, especially from academic/research sector.\n"
   ]
  },
  {
   "cell_type": "markdown",
   "metadata": {},
   "source": [
    "### How to use JUPYTER\n",
    "\n",
    "JUPYTER has a block-based interface (called **CELL**). Each _Cell_ is either an **input (In[1])** cell or corresponding an **output (Out[1])**  cell. The _input_ and _output_ cells can be interactively operated.\n",
    "\n",
    "\n",
    "\n",
    "```{image} images/bg2_f1.png\n",
    ":width: 600px\n",
    ":align: center\n",
    ":name: Very basic of JUPYTER interface\n",
    "```\n",
    "\n",
    "The _cell-based_ interface is very intuitive specially for learning as it can show combine for example the code or mathematical concept with a visualization, i.e., both the cause and effect can be observed immediately and dynamically.\n",
    "\n",
    "\n",
    "```{image} images/bg2_f2.png\n",
    ":width: 600px\n",
    ":align: center\n",
    ":name: JUPYTER input/output cells\n",
    "```\n",
    "\n",
    "For more advanced use, JUPYTER interface can be used for developing codes in different programming languages other than _Python._\n",
    "\n",
    "The JUPYTER cheat-sheet (from [here](https://datacamp-community-prod.s3.amazonaws.com/48093c40-5303-45f4-bbf9-0c96c0133c40)] can be helpful to get quickly started.\n",
    "\n",
    "\n",
    "Also, for better computing and learning, installing **JUPYTER** locally in personal system is encouraged. This can be done using the instructions provided [here](https://jupyter.readthedocs.io/en/latest/install.html)."
   ]
  },
  {
   "cell_type": "code",
   "execution_count": null,
   "metadata": {},
   "outputs": [],
   "source": []
  }
 ],
 "metadata": {
  "hide_input": false,
  "kernelspec": {
   "display_name": "Python 3",
   "language": "python",
   "name": "python3"
  },
  "language_info": {
   "codemirror_mode": {
    "name": "ipython",
    "version": 3
   },
   "file_extension": ".py",
   "mimetype": "text/x-python",
   "name": "python",
   "nbconvert_exporter": "python",
   "pygments_lexer": "ipython3",
   "version": "3.10.4"
  },
  "latex_envs": {
   "LaTeX_envs_menu_present": true,
   "autoclose": false,
   "autocomplete": true,
   "bibliofile": "biblio.bib",
   "cite_by": "apalike",
   "current_citInitial": 1,
   "eqLabelWithNumbers": true,
   "eqNumInitial": 1,
   "hotkeys": {
    "equation": "Ctrl-E",
    "itemize": "Ctrl-I"
   },
   "labels_anchors": false,
   "latex_user_defs": false,
   "report_style_numbering": false,
   "user_envs_cfg": false
  },
  "varInspector": {
   "cols": {
    "lenName": 16,
    "lenType": 16,
    "lenVar": 40
   },
   "kernels_config": {
    "python": {
     "delete_cmd_postfix": "",
     "delete_cmd_prefix": "del ",
     "library": "var_list.py",
     "varRefreshCmd": "print(var_dic_list())"
    },
    "r": {
     "delete_cmd_postfix": ") ",
     "delete_cmd_prefix": "rm(",
     "library": "var_list.r",
     "varRefreshCmd": "cat(var_dic_list()) "
    }
   },
   "types_to_exclude": [
    "module",
    "function",
    "builtin_function_or_method",
    "instance",
    "_Feature"
   ],
   "window_display": false
  }
 },
 "nbformat": 4,
 "nbformat_minor": 4
}