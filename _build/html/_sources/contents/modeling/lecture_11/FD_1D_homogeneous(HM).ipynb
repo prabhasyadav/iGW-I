{
 "cells": [
  {
   "cell_type": "markdown",
   "metadata": {},
   "source": [
    "# .  1D_FD_ homogeneous"
   ]
  },
  {
   "cell_type": "code",
   "execution_count": 1,
   "metadata": {},
   "outputs": [],
   "source": [
    "import numpy as np\n",
    "import itertools  as itt\n",
    "import matplotlib.pyplot as plt \n",
    "import pandas as pd \n",
    "from numpy import array\n",
    "import sys\n",
    "import ipywidgets as widgets\n",
    "from ipywidgets import interact, interactive, fixed, interact_manual"
   ]
  },
  {
   "cell_type": "code",
   "execution_count": 13,
   "metadata": {
    "scrolled": true
   },
   "outputs": [
    {
     "data": {
      "application/vnd.jupyter.widget-view+json": {
       "model_id": "50305b1af4064731b1d7996209f7bff2",
       "version_major": 2,
       "version_minor": 0
      },
      "text/plain": [
       "interactive(children=(FloatText(value=0.0, description='Starting head', style=DescriptionStyle(description_wid…"
      ]
     },
     "metadata": {},
     "output_type": "display_data"
    }
   ],
   "source": [
    "\n",
    "\n",
    "def Head(start_head, final_head, steps, R2, R3, R4, R5, R6, R7, R8, R9, R10, m, K, X):\n",
    "    h=np.array([[start_head, start_head-steps, start_head-(2*steps), start_head-(3*steps), start_head-(4*steps), \n",
    "             start_head-(5*steps), start_head-(6*steps), start_head-(7*steps), start_head-(8*steps), start_head-(9*steps),\n",
    "             start_head-(10*steps)],\n",
    "             [start_head, 0, 0, 0, 0, 0, 0, 0, 0, 0, final_head],\n",
    "             [start_head, 0, 0, 0, 0, 0, 0, 0, 0, 0, final_head],\n",
    "             [start_head, 0, 0, 0, 0, 0, 0, 0, 0, 0, final_head],\n",
    "             [start_head, 0, 0, 0, 0, 0, 0, 0, 0, 0, final_head],\n",
    "             [start_head, 0, 0, 0, 0, 0, 0, 0, 0, 0, final_head]])\n",
    "    T=K*m\n",
    "    R1_new=0\n",
    "    R2_new=(R2/2*T)*(X**2)\n",
    "    R3_new=(R3/2*T)*(X**2)\n",
    "    R4_new=(R4/2*T)*(X**2)\n",
    "    R5_new=(R5/2*T)*(X**2)\n",
    "    R6_new=(R6/2*T)*(X**2)\n",
    "    R7_new=(R7/2*T)*(X**2)\n",
    "    R8_new=(R8/2*T)*(X**2)\n",
    "    R9_new=(R9/2*T)*(X**2)\n",
    "    R10_new=(R10/2*T)*(X**2)\n",
    "    R11_new=0\n",
    "    R=np.array([[0, R2_new, R3_new, R4_new, R5_new, R6_new, R7_new, R8_new, R9_new, R10_new, 0],\n",
    "                [0, R2_new, R3_new, R4_new, R5_new, R6_new, R7_new, R8_new, R9_new, R10_new, 0],\n",
    "                [0, R2_new, R3_new, R4_new, R5_new, R6_new, R7_new, R8_new, R9_new, R10_new, 0],\n",
    "                [0, R2_new, R3_new, R4_new, R5_new, R6_new, R7_new, R8_new, R9_new, R10_new, 0],\n",
    "                [0, R2_new, R3_new, R4_new, R5_new, R6_new, R7_new, R8_new, R9_new, R10_new, 0],\n",
    "                [0, R2_new, R3_new, R4_new, R5_new, R6_new, R7_new, R8_new, R9_new, R10_new, 0]])\n",
    "    for r in range(1, 6):\n",
    "        for c in range (1, 10):\n",
    "            h[r,c]=0.5*(h[r-1, c-1] + h[r-1, c+1])\n",
    "\n",
    "\n",
    "    Final_head=h+R\n",
    "    print( \"The final matrix of hydraulic head iteraion is:\", \"\\n\", Final_head)\n",
    "    return \n",
    "style = {'description_width': 'initial'} \n",
    "inter=widgets.interact_manual(Head,\n",
    "                              start_head=widgets.FloatText(description=\"Starting head\", style=style),\n",
    "                              final_head=widgets.FloatText(description=\"Finished head\", style=style),\n",
    "                              steps=widgets.FloatText(description=\"head difference\", style=style),\n",
    "                              R2= widgets.FloatText(description= \"Recharge on cell 2\", style=style),\n",
    "                              R3= widgets.FloatText(description= \"Recharge on cell 3\", style=style),\n",
    "                              R4= widgets.FloatText(description= \"Recharge on cell 4\", style=style),\n",
    "                              R5= widgets.FloatText(description= \"Recharge on cell 5\", style=style),\n",
    "                              R6= widgets.FloatText(description= \"Recharge on cell 6\", style=style),\n",
    "                              R7= widgets.FloatText(description= \"Recharge on cell 7\", style=style),\n",
    "                              R8= widgets.FloatText(description= \"Recharge on cell 8\", style=style),\n",
    "                              R9= widgets.FloatText(description= \"Recharge on cell 9\", style=style),\n",
    "                              R10= widgets.FloatText(description= \"Recharge on cell 10\", style=style),\n",
    "                              R11= widgets.FloatText(description= \"Recharge on cell 11\", style=style),\n",
    "                              K=widgets.FloatText(description= \"Hydraulic conductivity\", style=style),\n",
    "                              m=widgets.FloatText(description= \"Aquifer thickness\", style=style),\n",
    "                              X=widgets.FloatText(description=\"Cell increment\", style=style))\n",
    "                              "
   ]
  }
 ],
 "metadata": {
  "hide_input": false,
  "kernelspec": {
   "display_name": "Python 3",
   "language": "python",
   "name": "python3"
  },
  "language_info": {
   "codemirror_mode": {
    "name": "ipython",
    "version": 3
   },
   "file_extension": ".py",
   "mimetype": "text/x-python",
   "name": "python",
   "nbconvert_exporter": "python",
   "pygments_lexer": "ipython3",
   "version": "3.8.3"
  },
  "latex_envs": {
   "LaTeX_envs_menu_present": true,
   "autoclose": false,
   "autocomplete": true,
   "bibliofile": "biblio.bib",
   "cite_by": "apalike",
   "current_citInitial": 1,
   "eqLabelWithNumbers": true,
   "eqNumInitial": 1,
   "hotkeys": {
    "equation": "Ctrl-E",
    "itemize": "Ctrl-I"
   },
   "labels_anchors": false,
   "latex_user_defs": false,
   "report_style_numbering": false,
   "user_envs_cfg": false
  },
  "toc": {
   "base_numbering": 1,
   "nav_menu": {},
   "number_sections": true,
   "sideBar": true,
   "skip_h1_title": false,
   "title_cell": "Table of Contents",
   "title_sidebar": "Contents",
   "toc_cell": false,
   "toc_position": {},
   "toc_section_display": true,
   "toc_window_display": false
  },
  "varInspector": {
   "cols": {
    "lenName": 16,
    "lenType": 16,
    "lenVar": 40
   },
   "kernels_config": {
    "python": {
     "delete_cmd_postfix": "",
     "delete_cmd_prefix": "del ",
     "library": "var_list.py",
     "varRefreshCmd": "print(var_dic_list())"
    },
    "r": {
     "delete_cmd_postfix": ") ",
     "delete_cmd_prefix": "rm(",
     "library": "var_list.r",
     "varRefreshCmd": "cat(var_dic_list()) "
    }
   },
   "position": {
    "height": "418.4px",
    "left": "1166px",
    "right": "20px",
    "top": "120px",
    "width": "350px"
   },
   "types_to_exclude": [
    "module",
    "function",
    "builtin_function_or_method",
    "instance",
    "_Feature"
   ],
   "window_display": false
  }
 },
 "nbformat": 4,
 "nbformat_minor": 4
}
