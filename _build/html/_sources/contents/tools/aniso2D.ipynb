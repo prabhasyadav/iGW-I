{
 "cells": [
  {
   "cell_type": "markdown",
   "metadata": {
    "ExecuteTime": {
     "end_time": "2020-12-02T23:02:55.208938Z",
     "start_time": "2020-12-02T23:02:55.206090Z"
    }
   },
   "source": [
    "## Simulating the Anisotropy and flow direction\n",
    "\n",
    "### How to use the tool?\n",
    "\n",
    "1. Go to the Binder by clicking the rocket button (top-right of the page)\n",
    "2. Execute the code cell\n",
    "3. Change the values of different quantities in the box.\n",
    "4. For re-simulations - changes the input values in the boxes. \n",
    "\n",
    "This tool can also be downloaded and run locally. For that download the _aniso2D.ipynb_ file and execute the process in any editor (e.g., JUPYTER notebook, JUPYTER lab) that is able to read and execute this file-type.\n",
    "\n",
    "The code may also be executed in the book page. \n",
    "\n",
    "The codes are licensed under CC by 4.0 [(use anyways, but acknowledge the original work)](https://creativecommons.org/licenses/by/4.0/deed.en)\n",
    "\n",
    "\n"
   ]
  },
  {
   "cell_type": "code",
   "execution_count": 1,
   "metadata": {
    "ExecuteTime": {
     "end_time": "2020-12-02T23:20:25.736514Z",
     "start_time": "2020-12-02T23:20:25.498498Z"
    },
    "code_folding": []
   },
   "outputs": [
    {
     "data": {
      "application/vnd.jupyter.widget-view+json": {
       "model_id": "58321b03aa364cc48460c4fed6549208",
       "version_major": 2,
       "version_minor": 0
      },
      "text/plain": [
       "interactive(children=(BoundedFloatText(value=45.0, description='angle (°)', max=360.0, step=0.5), BoundedIntTe…"
      ]
     },
     "metadata": {},
     "output_type": "display_data"
    }
   ],
   "source": [
    "# The library used \n",
    "\n",
    "import numpy as np\n",
    "import matplotlib.pyplot as plt\n",
    "import pandas as pd\n",
    "from ipywidgets import widgets, interactive\n",
    "\n",
    "\n",
    "\n",
    "# the main programme\n",
    "def aniso(a_d, ani_r):\n",
    "\n",
    "# interim calculation\n",
    "    a_r = a_d*np.pi/180\n",
    "\n",
    "    i_xr = np.cos(a_r) # (-), rel. hyd grad. along x\n",
    "    i_zr = np.sin(a_r) # (-), rel. hyd grad. along z\n",
    "    K_h = 1 # (-), m/s K_h\n",
    "    K_v = 1/ani_r # m/s, rel K_v\n",
    "    f_x = -i_xr*K_h # m/s\n",
    "    f_z = -i_zr*K_v # m/s\n",
    "    f_m = np.sqrt(f_x*f_x+f_z*f_z) # m/s\n",
    "\n",
    "    args = (K_h*i_xr*i_xr + K_v*i_zr*i_zr)/f_m\n",
    "    an_i_f = ((np.pi-np.arccos(args))*180/np.pi)# deg,\n",
    "\n",
    "# plots axes\n",
    "\n",
    "    fig, (ax1, ax2) = plt.subplots(1, 2,figsize=(10,6), gridspec_kw={'width_ratios': [3, 1]})\n",
    "\n",
    "# points for gradient and flux\n",
    "\n",
    "    grad_px = [0, i_xr]#i_xr\n",
    "    grad_pz = [0, i_zr]#i_zr\n",
    "\n",
    "    flux_px = [0, f_x]\n",
    "    flux_pz = [0, f_z]\n",
    "\n",
    "# creating points for intersect lines (5 of them)\n",
    "\n",
    "    p1=-0.5*i_zr; p2 = 0.5*i_zr; p3 =-0.5*i_zr+0.35*i_xr; p4 = 0.5*i_zr+0.35*i_xr; p5 = -0.5*i_zr+0.7*i_xr\n",
    "    p6 = 0.5*i_zr+0.7*i_xr;p7 = -0.5*i_zr-0.35*i_xr; p8 = 0.5*i_zr-0.35*i_xr; p9 = -0.5*i_zr-0.7*i_xr;p10 =0.5*i_zr-0.7*i_xr\n",
    "\n",
    "    q1=0.5*i_xr; q2 =- 0.5*i_xr; q3 =0.5*i_xr+0.35*i_zr; q4 = -0.5*i_xr+0.35*i_zr; q5 = 0.5*i_xr+0.7*i_zr\n",
    "    q6 = -0.5*i_xr+0.7*i_zr;q7 = 0.5*i_xr-0.35*i_zr;q8 = -0.5*i_xr-0.35*i_zr; q9 = 0.5*i_xr-0.7*i_zr;q10 = -0.5*i_xr-0.7*i_zr\n",
    "\n",
    "# plotted points\n",
    "    l_1x =[p1, p2]; l_1y = [q1, q2]\n",
    "    l_2x =[p3, p4]; l_2y = [q3, q4]\n",
    "    l_3x =[p5, p6]; l_3y = [q5, q6]\n",
    "    l_4x =[p7, p8]; l_4y = [q7, q8]\n",
    "    l_5x =[p9, p10]; l_5y = [q9, q10]\n",
    "\n",
    "\n",
    "# creating points for anisotropy\n",
    "    r1 =1.05 if ani_r >= 1 else 1.5-0.45*ani_r\n",
    "    r2 = 1.95 if ani_r >= 1 else 1.5+0.45*ani_r\n",
    "    r3 = 0.5*(r1+r2); r4 = r3\n",
    "\n",
    "    s1 = -0.5; s2 = s1\n",
    "    s3 = -0.05 if ani_r<=1 else -0.5+0.45/ani_r\n",
    "    s4 = -0.95 if ani_r<=1 else -0.5-0.45/ani_r\n",
    "\n",
    "# plotted points\n",
    "    Iso_1x = [r1, r2]; Iso_1y = [s1, s2]\n",
    "    Iso_2x = [r3, r4]; Iso_2y = [s3, s4]\n",
    "    Iso_x =[r1, r2, r3, r4]; Iso_y = [s1,s2,s3,s4]\n",
    "\n",
    "# plotting all points\n",
    "\n",
    "# plotting gradient/flux lines\n",
    "\n",
    "    ax1.plot(grad_px, grad_pz, \"g\", label=\" gradient\") # plotting gradient\n",
    "    ax1.plot(flux_px, flux_pz, \"r\", label=\" flux\") # plotting flux\n",
    "\n",
    "# plotting intersect lines \n",
    "    ax1.plot(l_1x, l_1y, \"b\", label = \"head isoline\")\n",
    "    ax1.plot(l_2x, l_2y, \"b\")\n",
    "    ax1.plot(l_3x, l_3y, \"b\")\n",
    "    ax1.plot(l_4x, l_4y, \"b\")\n",
    "    ax1.plot(l_5x, l_5y, \"b\")\n",
    "    ax1.legend()\n",
    "\n",
    "\n",
    "    ax1.spines['left'].set_position('center') # bring the axis lines in center\n",
    "    ax1.spines['bottom'].set_position('center')\n",
    "    ax1.spines['right'].set_color('none') # remove the top box\n",
    "    ax1.spines['top'].set_color('none') \n",
    "    ax1.set_xticks([]);ax1.set_yticks([]); # remove the ticks\n",
    "    ax1.set_title(\"Anisotropy flux and gradient\", y=0, pad=-25, verticalalignment=\"top\")\n",
    "\n",
    "\n",
    "# plotting Anisotropy\n",
    "    ax2.plot(Iso_1x, Iso_1y, \"k\", label = r\"$K_h: K_v$\")\n",
    "    ax2.plot(Iso_2x, Iso_2y, \"k\")\n",
    "    ax2.legend(bbox_to_anchor=(-0.4, -0.05), loc='lower left')\n",
    "    ax2.set_xlim(1, 2)\n",
    "    ax2.set_ylim(-1, 1)\n",
    "    ax2.axis('off')\n",
    "    ax2.set_title(\"Anisotropy ratio\", y=0, pad=-25, verticalalignment=\"top\");\n",
    "\n",
    "interactive(aniso,\n",
    "         a_d=widgets.BoundedFloatText(value=45, min=0, max=360, step=0.5, description=r'angle (°)', disabled=False),\n",
    "         ani_r=widgets.BoundedIntText(value=1, min=1, max=100, step=1, description='K<sub>h</sub>/K<sub>v</sub>', disabled=False))\n",
    "    "
   ]
  },
  {
   "cell_type": "code",
   "execution_count": null,
   "metadata": {},
   "outputs": [],
   "source": []
  }
 ],
 "metadata": {
  "hide_input": false,
  "kernelspec": {
   "display_name": "Python 3",
   "language": "python",
   "name": "python3"
  },
  "language_info": {
   "codemirror_mode": {
    "name": "ipython",
    "version": 3
   },
   "file_extension": ".py",
   "mimetype": "text/x-python",
   "name": "python",
   "nbconvert_exporter": "python",
   "pygments_lexer": "ipython3",
   "version": "3.8.3"
  },
  "latex_envs": {
   "LaTeX_envs_menu_present": true,
   "autoclose": false,
   "autocomplete": true,
   "bibliofile": "biblio.bib",
   "cite_by": "apalike",
   "current_citInitial": 1,
   "eqLabelWithNumbers": true,
   "eqNumInitial": 1,
   "hotkeys": {
    "equation": "Ctrl-E",
    "itemize": "Ctrl-I"
   },
   "labels_anchors": false,
   "latex_user_defs": false,
   "report_style_numbering": false,
   "user_envs_cfg": false
  },
  "toc": {
   "base_numbering": 1,
   "nav_menu": {},
   "number_sections": true,
   "sideBar": true,
   "skip_h1_title": false,
   "title_cell": "Table of Contents",
   "title_sidebar": "Contents",
   "toc_cell": false,
   "toc_position": {},
   "toc_section_display": true,
   "toc_window_display": false
  },
  "varInspector": {
   "cols": {
    "lenName": 16,
    "lenType": 16,
    "lenVar": 40
   },
   "kernels_config": {
    "python": {
     "delete_cmd_postfix": "",
     "delete_cmd_prefix": "del ",
     "library": "var_list.py",
     "varRefreshCmd": "print(var_dic_list())"
    },
    "r": {
     "delete_cmd_postfix": ") ",
     "delete_cmd_prefix": "rm(",
     "library": "var_list.r",
     "varRefreshCmd": "cat(var_dic_list()) "
    }
   },
   "types_to_exclude": [
    "module",
    "function",
    "builtin_function_or_method",
    "instance",
    "_Feature"
   ],
   "window_display": false
  }
 },
 "nbformat": 4,
 "nbformat_minor": 4
}
