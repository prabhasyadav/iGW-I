{
 "cells": [
  {
   "cell_type": "code",
   "execution_count": 2,
   "metadata": {},
   "outputs": [],
   "source": [
    "import numpy as np\n",
    "import matplotlib.pyplot as plt\n",
    "import scipy as sc\n",
    "import pandas as pd"
   ]
  },
  {
   "cell_type": "markdown",
   "metadata": {},
   "source": [
    "#  Lecture 7 -  Wells and aquifer\n",
    "\n",
    "## Prof. Liedl/Prof. Werth/Prof. Chahar/Prabhas is to add the text contents.\n",
    "## Anne/Sophie is to add the numerical contents\n",
    "\n",
    "Include ipynb file for:\n",
    "\n",
    "Theis method.\n",
    "\n"
   ]
  },
  {
   "cell_type": "markdown",
   "metadata": {},
   "source": [
    "## Transmissivity ##"
   ]
  },
  {
   "cell_type": "markdown",
   "metadata": {},
   "source": [
    "When discussing storage properties in Chapter / Lecture …, we saw that aquifers or single layers may frequently be treated as two-dimensional systems. This is justified because the lateral extension of aquifers is usually much larger than the vertical extension. Thus, vertical variations of storage properties can be replaced by some average value without adversely affecting the quantification of groundwater storage.\n",
    "\n",
    "Similar things can be done with regard to conductivity properties and this brings us to the geohydraulic parameter of **Transmissivity**. The idea is to neglect vertical variations of _hydraulic conductivity_ ($K$)  and to use vertically averaged values instead. This procedure does not eliminate horizontal variability, so _transmissivity_ may still depend on horizontal coordinates $(x, y)$.\n",
    "\n",
    "The vertically averaged $K$ value is then multiplied by the water-saturated thickness to obtain transmissivity. The concept of water-saturated thickness (or water-saturated depth) requires to distinguish whether _confined_ or _unconfined_ flow conditions prevail.\n",
    "\n",
    "In general, water-saturated thickness is the distance from the aquifer bottom to a level up to which all pores are filled with water. For _confined aquifers_, this level is equal to aquifer top and water-saturated thickness is tantamount to aquifer thickness. For _unconfined aquifers_, however, water-saturated thickness corresponds to the distance between aquifer bottom and groundwater level. We will see some illustrations below when we try to quantify _transmissivity_.\n",
    "\n",
    "The symbol $T$ is mostly used to denote transmissivity which has a dimension of $L^2T^{-1}$.\n",
    "\n"
   ]
  },
  {
   "cell_type": "markdown",
   "metadata": {},
   "source": [
    "Let us have a closer look at the confined case first. The black cuboid in Fig.[LINK] illustrates that water-saturated thickness extends from aquifer bottom to aquifer top. So, it is equal to _aquifer thickness_ $m$. Transmissivity is calculated by\n",
    "\n",
    "$$\n",
    "T_x = K_x \\cdot m  \\;\\; \\text{ and }  \\;\\; Ty = K_y \\cdot m\n",
    "$$\n",
    "\n",
    "Here we allow for horizontal aquifer anisotropy with different hydraulic conductivities in $x-$ and $y-$ direction $(K_x \\neq K_y)$. \n",
    "\n",
    "For horizontally isotropic aquifers $(K_x = K_y = K)$, transmissivity is given by $T = K  \\cdot m $.\n",
    "\n",
    "<a href=\"fig1\"></a><img src=\"images/L7_f1.png\" alt =\"Transmissivity-Confined aquifer\" width = \"400\">\n"
   ]
  },
  {
   "cell_type": "code",
   "execution_count": 4,
   "metadata": {},
   "outputs": [
    {
     "name": "stdout",
     "output_type": "stream",
     "text": [
      "We already have large text content and so we can add a simple numerical example here\n"
     ]
    }
   ],
   "source": [
    "print(\"We already have large text content, equations and so we can add a simple numerical example here\")"
   ]
  },
  {
   "cell_type": "markdown",
   "metadata": {},
   "source": [
    "Things are a bit more complicated for _unconfined aquifers_. Fig. [LINK] illustrates that water-saturated thickness extends from the aquifer bottom to the groundwater table. It is important to note that _transmissivity_ of unconfined aquifers depends on the vertical position of the groundwater table. \n",
    "\n",
    "For instance, if the groundwater table is lowered during to a draught period, _transmissivity_ is decreasing. This is fundamentally different from the confined case where the water-saturated thickness is given by aquifer geometry only and is not affected by hydraulic head changes.\n",
    "\n",
    "<a href=\"fig2\"></a><img src=\"images/L7_f2.png\" alt =\"Transmissivity-unconfined aquifer\" width = \"400\">"
   ]
  },
  {
   "cell_type": "markdown",
   "metadata": {},
   "source": [
    "Computing transmissivity of unconfined aquifers requires to determine the difference of hydraulic head h and the elevation of aquifer bottom $z_{bot}$. Based on this, transmissivity is given by:\n",
    "\n",
    "$$T_x = K_x \\cdot (h – z_{bot})$$ \n",
    "and \n",
    "$$T_y = K_y \\cdot (h – z_{bot})$$\n",
    "\n",
    "As above, we are allowing for horizontal aquifer anisotropy. For an isotropic unconfined aquifer we get \n",
    "$$T = K\\cdot(h – z_{bot})$$"
   ]
  },
  {
   "cell_type": "code",
   "execution_count": 5,
   "metadata": {},
   "outputs": [
    {
     "name": "stdout",
     "output_type": "stream",
     "text": [
      "We already have large text content, equations and so we can add a simple numerical example here\n"
     ]
    }
   ],
   "source": [
    "print(\"We already have large text content, equations and so we can add a simple numerical example here\")"
   ]
  },
  {
   "cell_type": "markdown",
   "metadata": {},
   "source": [
    "Two more remarks appear to be appropriate: \n",
    "\n",
    "- First, _transmissivity_ may be computed by the given equations even if the aquifer bottom is not horizontal. This case is not covered by the figure above. \n",
    "- Second, textbooks frequently present the equation $$ T = K\\cdot h $$ for transmissivity of unconfined aquifers. It is to be noted that this equation only holds if two conditions are fulfilled: \n",
    "\n",
    "- The aquifer bottom must be horizontal and \n",
    "- hydraulic head values are expressed with respect to the elevation of aquifer bottom (= reference datum).\n",
    "\n",
    "\n",
    "Finally, we can try to compute transmissivity for isotropic aquifers and check how the result depends on several quantities like aquifer bottom, aquifer top, and hydraulic head.\n"
   ]
  },
  {
   "cell_type": "code",
   "execution_count": 25,
   "metadata": {},
   "outputs": [
    {
     "name": "stdout",
     "output_type": "stream",
     "text": [
      "Q1. Determine if the aquifer is confined or unconfind and compute it's Transmissivity\n",
      "\n",
      " It is a unconfined aquifer\n",
      "\n",
      "The transmissivity is 2.55e-03 m²/s\n"
     ]
    }
   ],
   "source": [
    " # A bit more complicated numerical example here. An example from Prof. Liedl - we improve further.\n",
    "\n",
    "print(\"Q1. Determine if the aquifer is confined or unconfind and compute it's Transmissivity\")\n",
    "\n",
    "# input\n",
    "\n",
    "K = 8.5e-5 # m/s, hydraulic conductivity\n",
    "Ab = 120 # m asl, aquifer bottom elevation \n",
    "At = 150 # m asl, aquifer top elevation \n",
    "H  = 139 # m, hydraulic head\n",
    "\n",
    "#intermediate calculation\n",
    "A_T = At - Ab # m, Aquifer thickness\n",
    "S_T = np.minimum(A_T, (H - Ab))\n",
    "\n",
    "# Results\n",
    "\n",
    "if H < At:\n",
    "    print(\"\\n It is a unconfined aquifer\")\n",
    "else:\n",
    "    print(\"\\n It is a Confined aquifer\")\n",
    "    \n",
    "T = K*A_T # m²/s, Transmissivity\n",
    "\n",
    "print(\"\\nThe transmissivity is {0:0.2e} m\\u00b2/s\".format(T))\n",
    "\n",
    "\n"
   ]
  },
  {
   "cell_type": "code",
   "execution_count": null,
   "metadata": {},
   "outputs": [],
   "source": []
  }
 ],
 "metadata": {
  "kernelspec": {
   "display_name": "Python 3",
   "language": "python",
   "name": "python3"
  },
  "language_info": {
   "codemirror_mode": {
    "name": "ipython",
    "version": 3
   },
   "file_extension": ".py",
   "mimetype": "text/x-python",
   "name": "python",
   "nbconvert_exporter": "python",
   "pygments_lexer": "ipython3",
   "version": "3.7.6"
  }
 },
 "nbformat": 4,
 "nbformat_minor": 4
}
