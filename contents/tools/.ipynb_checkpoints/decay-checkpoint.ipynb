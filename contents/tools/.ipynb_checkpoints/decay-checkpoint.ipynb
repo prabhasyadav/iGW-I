{
 "cells": [
  {
   "cell_type": "code",
   "execution_count": 3,
   "metadata": {
    "ExecuteTime": {
     "end_time": "2020-10-28T05:44:25.898083Z",
     "start_time": "2020-10-28T05:44:25.885677Z"
    },
    "tags": [
     "hide-cell"
    ]
   },
   "outputs": [],
   "source": [
    "import numpy as np\n",
    "from scipy.integrate import odeint\n",
    "import matplotlib.pyplot as plt \n",
    "import pandas as pd \n",
    "import panel as pn\n",
    "import ipywidgets as widgets"
   ]
  },
  {
   "cell_type": "markdown",
   "metadata": {},
   "source": [
    "## Simulating Mass budget ##"
   ]
  },
  {
   "cell_type": "code",
   "execution_count": 4,
   "metadata": {
    "ExecuteTime": {
     "end_time": "2020-10-28T05:44:27.954995Z",
     "start_time": "2020-10-28T05:44:27.397244Z"
    },
    "code_folding": []
   },
   "outputs": [
    {
     "data": {
      "application/vnd.jupyter.widget-view+json": {
       "model_id": "5bd708e154144f979246f2a4ff99bf65",
       "version_major": 2,
       "version_minor": 0
      },
      "text/plain": [
       "interactive(children=(BoundedIntText(value=20, description='&Delta; t (day)'), BoundedFloatText(value=100.0, d…"
      ]
     },
     "metadata": {},
     "output_type": "display_data"
    }
   ],
   "source": [
    "def mass_bal(n_simulation, MA, MB, MC, R_A, R_B):\n",
    "    \n",
    "    A = np.zeros(n_simulation) # creat an array with zros\n",
    "    B = np.zeros(n_simulation)\n",
    "    C = np.zeros(n_simulation) \n",
    "    time  = np.arange(n_simulation)\n",
    "    \n",
    "    for i in range(0,n_simulation-1):\n",
    "        A[0] = MA  # starting input value\n",
    "        \n",
    "        B[0] = MB\n",
    "        C[0] = MC\n",
    "        A[i+1] = A[i]-R_A*A[i]\n",
    "        B[i+1] = B[i]+R_A*A[i]-R_B*B[i] \n",
    "        C[i+1] = C[i]+R_B*B[i]\n",
    "        summ = A[i]+B[i]+C[i]\n",
    "        \n",
    "    d = {\"Mass_A\": A, \"Mass_B\": B, \"Mass_C\": C, \"Total Mass\": summ}\n",
    "    df = pd.DataFrame(d) # Generating result table\n",
    "    label = [\"Mass A (g)\", \"Mass B (g)\", \"Mass C (g)\"]\n",
    "    fig = plt.figure(figsize=(6,4))\n",
    "    plt.plot(time, A, time, B, time, C, linewidth=3);  # plotting the results\n",
    "    plt.xlabel(\"Time [Time Unit]\"); plt.ylabel(\"Mass [g]\") # placing axis labels\n",
    "    plt.legend(label, loc=0);plt.grid(); plt.xlim([0,n_simulation]); plt.ylim(bottom=0) # legends, grids, x,y limits\n",
    "    plt.show() # display plot\n",
    "    \n",
    "    return print(df.round(2)) \n",
    "\n",
    "N = widgets.BoundedIntText(value=20,min=0,max=100,step=1,description= '&Delta; t (day)',disabled=False)\n",
    "\n",
    "A = widgets.BoundedFloatText(value=100,min=0,max=1000.0,step=1,description='M<sub>A</sub> (kg)',disabled=False)\n",
    "\n",
    "B = widgets.BoundedFloatText(value=5,min=0,max=1000.0,step=1,description='M<sub>B</sub> (kg)',disabled=False)\n",
    "\n",
    "C = widgets.BoundedFloatText(value=10,min=0,max=1000,step=0.1,description='M<sub>C</sub> (kg)',disabled=False)\n",
    "\n",
    "RA = widgets.BoundedFloatText(value=0.2,min=0,max=100,step=0.1,description='R<sub>A</sub> (day<sup>-1 </sup>)',disabled=False)\n",
    "\n",
    "RB = widgets.BoundedFloatText(value=0.2,min=0,max=100,step=0.1,description='R<sub>B</sub> (day<sup>-1 </sup>)',disabled=False)\n",
    "\n",
    "interactive_plot = widgets.interactive(mass_bal, n_simulation = N, MA=A, MB=B, MC=C, R_A=RA, R_B=RB,)\n",
    "output = interactive_plot.children[-1]  \n",
    "#output.layout.height = '350px'\n",
    "interactive_plot"
   ]
  },
  {
   "cell_type": "code",
   "execution_count": null,
   "metadata": {},
   "outputs": [],
   "source": []
  }
 ],
 "metadata": {
  "hide_input": false,
  "kernelspec": {
   "display_name": "Python 3",
   "language": "python",
   "name": "python3"
  },
  "language_info": {
   "codemirror_mode": {
    "name": "ipython",
    "version": 3
   },
   "file_extension": ".py",
   "mimetype": "text/x-python",
   "name": "python",
   "nbconvert_exporter": "python",
   "pygments_lexer": "ipython3",
   "version": "3.8.3"
  },
  "latex_envs": {
   "LaTeX_envs_menu_present": true,
   "autoclose": true,
   "autocomplete": true,
   "bibliofile": "biblio.bib",
   "cite_by": "apalike",
   "current_citInitial": 1,
   "eqLabelWithNumbers": false,
   "eqNumInitial": 1,
   "hotkeys": {
    "equation": "Ctrl-E",
    "itemize": "Ctrl-I"
   },
   "labels_anchors": false,
   "latex_user_defs": false,
   "report_style_numbering": false,
   "user_envs_cfg": false
  },
  "varInspector": {
   "cols": {
    "lenName": 16,
    "lenType": 16,
    "lenVar": 40
   },
   "kernels_config": {
    "python": {
     "delete_cmd_postfix": "",
     "delete_cmd_prefix": "del ",
     "library": "var_list.py",
     "varRefreshCmd": "print(var_dic_list())"
    },
    "r": {
     "delete_cmd_postfix": ") ",
     "delete_cmd_prefix": "rm(",
     "library": "var_list.r",
     "varRefreshCmd": "cat(var_dic_list()) "
    }
   },
   "position": {
    "height": "617.4px",
    "left": "1166px",
    "right": "20px",
    "top": "120px",
    "width": "350px"
   },
   "types_to_exclude": [
    "module",
    "function",
    "builtin_function_or_method",
    "instance",
    "_Feature"
   ],
   "window_display": false
  }
 },
 "nbformat": 4,
 "nbformat_minor": 4
}
