{
 "cells": [
  {
   "cell_type": "markdown",
   "metadata": {},
   "source": [
    "## Retardation Factor"
   ]
  },
  {
   "cell_type": "code",
   "execution_count": 5,
   "metadata": {},
   "outputs": [
    {
     "name": "stdout",
     "output_type": "stream",
     "text": [
      "\u001b[1m\u001b[4mA quick example:\u001b[0m You can change the provided values.\n",
      "\n",
      "Calculate the retardation factor.\n",
      "\n",
      "\u001b[1mProvided are:\u001b[0m\n",
      "effective porosity = 0.4\n",
      "density of solid material = 1.25 kg/m³\n",
      "Distribution or partition coefficient = 0.2 m³/kg\n",
      "\n",
      "\u001b[1mSolution:\u001b[0m\n",
      "The resulting retardation factor is \u001b[1m1.375\u001b[0m.\n"
     ]
    }
   ],
   "source": [
    "print(\"\\033[1m\\033[4mA quick example:\\033[0m You can change the provided values.\\n\")\n",
    "print(\"Calculate the retardation factor.\\n\\n\\033[1mProvided are:\\033[0m\")\n",
    "\n",
    "ne = 0.4 #effective porosity [-]\n",
    "rho = 1.25 # density of solid material [kg/m³]\n",
    "Kd = 0.2 # distribution or partition coefficient [m³/kg]\n",
    "\n",
    "#intermediate calculation\n",
    "rho_b = (1-ne)*rho\n",
    "\n",
    "#solution\n",
    "R=1+(rho_b/ne)*Kd\n",
    "\n",
    "print(\"effective porosity = {}\\ndensity of solid material = {} kg/m³\\nDistribution or partition coefficient = {} m³/kg\\n\".format(ne, rho, Kd))\n",
    "print(\"\\033[1mSolution:\\033[0m\\nThe resulting retardation factor is \\033[1m{:02.4}\\033[0m.\".format(R))\n",
    "\n"
   ]
  },
  {
   "cell_type": "code",
   "execution_count": null,
   "metadata": {},
   "outputs": [],
   "source": []
  }
 ],
 "metadata": {
  "kernelspec": {
   "display_name": "Python 3",
   "language": "python",
   "name": "python3"
  },
  "language_info": {
   "codemirror_mode": {
    "name": "ipython",
    "version": 3
   },
   "file_extension": ".py",
   "mimetype": "text/x-python",
   "name": "python",
   "nbconvert_exporter": "python",
   "pygments_lexer": "ipython3",
   "version": "3.7.6"
  }
 },
 "nbformat": 4,
 "nbformat_minor": 4
}
