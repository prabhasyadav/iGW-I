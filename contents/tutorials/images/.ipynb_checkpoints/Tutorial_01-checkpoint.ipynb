{
 "cells": [
  {
   "cell_type": "code",
   "execution_count": 1,
   "metadata": {
    "hide_input": true,
    "slideshow": {
     "slide_type": "skip"
    }
   },
   "outputs": [],
   "source": [
    "import numpy as np\n",
    "import matplotlib.pyplot as plt\n",
    "import pandas as pd "
   ]
  },
  {
   "cell_type": "markdown",
   "metadata": {
    "slideshow": {
     "slide_type": "slide"
    }
   },
   "source": [
    "# Tutorial 1 #\n",
    "\n",
    " 1. **Tutorial problems on aquifer storage properties**\n",
    " 2. **Homework problems on aquifer storage properties**\n"
   ]
  },
  {
   "cell_type": "markdown",
   "metadata": {
    "slideshow": {
     "slide_type": "slide"
    }
   },
   "source": [
    "### Tutorial Problem 1: \n",
    "\n",
    "The park called ,,Grosser Garten'' in Dresden is underlain by an unconfined aquifer consisting of alluvial deposits. \n",
    "How much additional water is stored under the park if groundwater levels rise by 3 m during a wet period?\n",
    "\n",
    "<img src=\"images/T01_TP1.PNG\" alt=\"Grosser Garten Map\"  width=\"50%\" height=\"100%\" > "
   ]
  },
  {
   "cell_type": "markdown",
   "metadata": {
    "slideshow": {
     "slide_type": "subslide"
    }
   },
   "source": [
    "### Tutorial Problem 1 – Solution ###\n",
    "\n",
    "basic configuration of an unconfined aquifer:\n",
    "\n",
    "<img src=\"images/T01_TP1_2.PNG\" alt=\"Grosser Garten Map\"  width=\"100%\" height=\"100%\" > \n",
    "\n",
    "In this problem we have:"
   ]
  },
  {
   "cell_type": "code",
   "execution_count": 8,
   "metadata": {
    "slideshow": {
     "slide_type": "subslide"
    }
   },
   "outputs": [
    {
     "name": "stdout",
     "output_type": "stream",
     "text": [
      "Park Area is 5.0E+06 m²\n",
      "Increase in total volume: 1.5E+07 m³\n",
      "Additional water volume: 9.0E+06 m³\n"
     ]
    }
   ],
   "source": [
    "L = 5 # km as length of garten\n",
    "W = 1 # km as Width of garten\n",
    "DP = 3 # m change in pressure head\n",
    "n = 0.6 # porosity that we assume to be 30%\n",
    "\n",
    "A = L * W *1e6 # Area in m2\n",
    "DV = A * DP # increase in total volume due to change in pressure head\n",
    "AW = n * DV # additional Water volumne\n",
    "\n",
    "print(\"Park Area is {0:1.1E}\".format(A),\"m\\u00b2\")  \n",
    "print(\"Increase in total volume: {0:1.1E}\".format(DV),\"m\\u00b3\") \n",
    "print(\"Additional water volume: {0:1.1E}\".format(AW),\"m\\u00b3\") \n"
   ]
  },
  {
   "cell_type": "markdown",
   "metadata": {
    "slideshow": {
     "slide_type": "slide"
    }
   },
   "source": [
    "## Tutorial Problem 2:  ##\n",
    "\n",
    "The lithological information derived from three boreholes is given in the figure.\n",
    "\n",
    "Try to correlate the layers to obtain a 2D cross section of the subsurface structure.\n",
    "<br>\n",
    "<br>\n",
    "\n",
    "\n",
    "<img src=\"images/T01_TP2_1.PNG\" alt=\"Lithology sample\"  width=\"400\">  \n"
   ]
  },
  {
   "cell_type": "markdown",
   "metadata": {
    "slideshow": {
     "slide_type": "subslide"
    }
   },
   "source": [
    "### Tutorial Problem 2 – Solution ###\n",
    "\n",
    "Few correlations between the layers are presented in the figure below:\n",
    "\n",
    "<img src=\"images/T01_TP2_2.PNG\" alt=\"Lithology correlated\"  width=\"800\">  "
   ]
  },
  {
   "cell_type": "markdown",
   "metadata": {
    "slideshow": {
     "slide_type": "slide"
    }
   },
   "source": [
    "## Tutorial Problem 3:  ##\n",
    "\n",
    "This problem addresses a confined aquifer with a thickness of 61 m and a specific storage of $1.2 \\times 10^{-5}$ 1/m. Due to water injection the pressure head rises by 0.75 m on average over an area 230 m in diameter.\n",
    "How much water is injected?\n",
    "### Tutorial Problem 3 – Solution ###\n",
    "\n",
    "Basic configuration of a confined aquifer:\n",
    "\n",
    "<img src=\"images/T01_TP3.PNG\" alt=\"Problem Geometry\"  width=\"600\">  \n",
    "\n",
    "specific storage: $S_s = \\frac{\\Delta V_w}{V_T \\cdot \\Delta \\psi } $ <br>\n",
    "with <br>\n",
    "$\\Delta V_w$ = change in water volume [L$^3$] <br>\n",
    "$V_T$ = total volume [L$^3$]<br>\n",
    "$\\Delta \\psi$ = change in pressure head [L]\n"
   ]
  },
  {
   "cell_type": "code",
   "execution_count": 3,
   "metadata": {
    "slideshow": {
     "slide_type": "subslide"
    }
   },
   "outputs": [
    {
     "name": "stdout",
     "output_type": "stream",
     "text": [
      "The Aquifer Area is 4.15E+04 m²\n",
      "The Total Volume is 2.53E+06 m³\n",
      "The Additional Water is 228.10 m³\n"
     ]
    }
   ],
   "source": [
    "# Given data\n",
    "d = 230 # m,  diameter of the aquifer\n",
    "m = 61 # m, thickness of the aquifer\n",
    "Ss = 1.2 * 10e-5 # 1/m, specific storage\n",
    "DP_h = 0.75 # m, pressure head difference\n",
    "\n",
    "# Calculations\n",
    "\n",
    "A = np.pi *(d/2)**2 # m^2, area of the aquifer\n",
    "Vt = A*m # m^3 Total volume of the aquifer\n",
    "DV_w = Ss*Vt*DP_h # m^3, additional water volume\n",
    "\n",
    "print(\"The Aquifer Area is {0:1.2E}\".format(A),\"m\\u00b2\") \n",
    "print(\"The Total Volume is {0:1.2E}\".format(Vt),\"m\\u00b3\") \n",
    "print(\"The Additional Water is {0:1.2f}\".format(DV_w),\"m\\u00b3\")   "
   ]
  },
  {
   "cell_type": "markdown",
   "metadata": {
    "slideshow": {
     "slide_type": "slide"
    }
   },
   "source": [
    "## Tutorial Problem 4:  ##\n",
    "\n",
    "We consider an unconfined aquifer with a storage coefficient of 0.19. During a dry period the following water level drawdowns are observed in four sub-areas:  \n",
    "\n",
    "| Sub-area | Size (Km$^2$) | drawdown (m) | Change in Water volume m$^3$ |\n",
    "|:--------:|:-------------:|:------------:|:----------------------------:|\n",
    "|     a    |       36      |     0.85     |                              |\n",
    "|     b    |       18      |     1.09     |                              |\n",
    "|     c    |       72      |     1.65     |                              |\n",
    "|     d    |       85      |     2.37     |      \n",
    "\n",
    "What is the total water volume represented by the drawdown?  \n",
    "\n",
    "### Tutorial Problem 4 – Solution ###\n",
    "\n",
    "Storage Coefficient: $S$ = $\\frac{\\Delta V_w}{A \\cdot \\Delta \\psi } $ <br>\n",
    "with <br>\n",
    "$\\Delta V_w$ = change in water volume [L$^3$³] <br>\n",
    "$A$ = Domain area [L$^2$]<br>\n",
    "$\\Delta \\psi$ = change in pressure head [L]"
   ]
  },
  {
   "cell_type": "code",
   "execution_count": 9,
   "metadata": {
    "slideshow": {
     "slide_type": "subslide"
    }
   },
   "outputs": [
    {
     "name": "stdout",
     "output_type": "stream",
     "text": [
      "The total change in water Volume is 1.037E+08 m³\n"
     ]
    },
    {
     "data": {
      "text/html": [
       "<div>\n",
       "<style scoped>\n",
       "    .dataframe tbody tr th:only-of-type {\n",
       "        vertical-align: middle;\n",
       "    }\n",
       "\n",
       "    .dataframe tbody tr th {\n",
       "        vertical-align: top;\n",
       "    }\n",
       "\n",
       "    .dataframe thead th {\n",
       "        text-align: right;\n",
       "    }\n",
       "</style>\n",
       "<table border=\"1\" class=\"dataframe\">\n",
       "  <thead>\n",
       "    <tr style=\"text-align: right;\">\n",
       "      <th></th>\n",
       "      <th>Sub_Area</th>\n",
       "      <th>Area</th>\n",
       "      <th>Drawdown</th>\n",
       "      <th>Change in water volume</th>\n",
       "    </tr>\n",
       "  </thead>\n",
       "  <tbody>\n",
       "    <tr>\n",
       "      <th>0</th>\n",
       "      <td>a</td>\n",
       "      <td>36</td>\n",
       "      <td>0.85</td>\n",
       "      <td>8568000.0</td>\n",
       "    </tr>\n",
       "    <tr>\n",
       "      <th>1</th>\n",
       "      <td>b</td>\n",
       "      <td>18</td>\n",
       "      <td>1.09</td>\n",
       "      <td>5493600.0</td>\n",
       "    </tr>\n",
       "    <tr>\n",
       "      <th>2</th>\n",
       "      <td>c</td>\n",
       "      <td>72</td>\n",
       "      <td>1.65</td>\n",
       "      <td>33264000.0</td>\n",
       "    </tr>\n",
       "    <tr>\n",
       "      <th>3</th>\n",
       "      <td>d</td>\n",
       "      <td>85</td>\n",
       "      <td>2.37</td>\n",
       "      <td>56406000.0</td>\n",
       "    </tr>\n",
       "  </tbody>\n",
       "</table>\n",
       "</div>"
      ],
      "text/plain": [
       "  Sub_Area  Area  Drawdown  Change in water volume\n",
       "0        a    36      0.85               8568000.0\n",
       "1        b    18      1.09               5493600.0\n",
       "2        c    72      1.65              33264000.0\n",
       "3        d    85      2.37              56406000.0"
      ]
     },
     "execution_count": 9,
     "metadata": {},
     "output_type": "execute_result"
    }
   ],
   "source": [
    "# Given data\n",
    "S = 0.28 # unitless, storage coefficient\n",
    "A = ([36, 18, 72, 85]) # m^2 given area\n",
    "D_n = ([0.85, 1.09, 1.65, 2.37])\n",
    "\n",
    "# Calculation\n",
    "DV_w4 = (S*np.multiply(A, D_n)*10**6) #  m^3, change in water volume \n",
    "T_w4 = np.sum(DV_w4)\n",
    "\n",
    "#Output\n",
    "d = {\"Sub_Area\": ['a', 'b', 'c', 'd'],\"Area\": A, \"Drawdown\": D_n, \"Change in water volume\": DV_w4}\n",
    "df1 = pd.DataFrame(d, columns=[\"Sub_Area\", \"Area\", \"Drawdown\", \"Change in water volume\"])  \n",
    "print(\"The total change in water Volume is {0:04.3E}\" .format(T_w4), \"m\\u00b3\" ) \n",
    "df1 "
   ]
  },
  {
   "cell_type": "markdown",
   "metadata": {
    "slideshow": {
     "slide_type": "slide"
    }
   },
   "source": [
    "## Tutorial Problem 5:  ##\n",
    "\n",
    "A confined aquifer is considered in this problem. Specific storage and total porosity equal $7.5\\times 10^{-6}$ 1/m and 30%, respectively. \n",
    "What is the compressibility of the porous medium? (compressibility of water: $4.6\\times 10^{-10}$ m$^2$/N, density of water: 998 kg/m$^3$)\n",
    "\n",
    "### Tutorial Problem 5 – Solution ###\n",
    "\n",
    "Specific Storage, $S_s = (n\\alpha_w + \\alpha_{pm})\\rho_w g$\n",
    "\n",
    "with: $n$ = Total porosity [-]<br>\n",
    "$g$ = acceleration of gravity [L/T$^2$] <br>\n",
    "$\\alpha_w$ = compressibility of water [LT$^2$/M]   <br> \n",
    "$\\alpha_{pm}$ =\tcompressibility of porous \tmedium [LT$^2$/M]<br> \n",
    "$\\rho_w$ = density of water [M/L$^3$]\n",
    "\n",
    "Solve for $\\alpha_{pm}$: $\\frac{S_s}{\\rho_w g} -n\\alpha_w = \\alpha_{pm}$"
   ]
  },
  {
   "cell_type": "code",
   "execution_count": 5,
   "metadata": {
    "slideshow": {
     "slide_type": "subslide"
    }
   },
   "outputs": [
    {
     "name": "stdout",
     "output_type": "stream",
     "text": [
      "The Compressibility of Porous mdeid is 6.28E-10 m²/N\n"
     ]
    }
   ],
   "source": [
    "# Given data\n",
    " \n",
    "n = 0.3 # unitless, total porosity\n",
    "rho_w = 998 # kg/m3, density of water\n",
    "g = 9.81 # m/s2, accl. due to gravity\n",
    "alpha_w = 4.6*1e-10 # m2/N, compressibility of water\n",
    "S_s = 7.5*1e-6 # 1/m, specific storage \n",
    "\n",
    "# calculated land subsidence (LS)\n",
    "alpha_pm5 = S_s/(rho_w*g) - n*alpha_w\n",
    "\n",
    "print(\"The Compressibility of Porous mdeid is {0:0.2E}\".format(alpha_pm5), \"m\\u00b2/N\")"
   ]
  },
  {
   "cell_type": "markdown",
   "metadata": {
    "slideshow": {
     "slide_type": "slide"
    }
   },
   "source": [
    "## Tutorial Problem 6:  ##\n",
    "\n",
    "A confined aquifer is considered in this problem. Specific storage and total porosity equal $7.5\\times 10^{-6}$ 1/m and 30%, respectively. \n",
    "What is the compressibility of the porous medium? (compressibility of water: $4.6 \\times 10^{-10}$ m$^2$/N, density of water: 998 kg/m$^3$)\n",
    "\n",
    "What is the amount of land subsidence resulting from the water extraction? \n",
    "\n",
    "\n",
    "\n",
    "\n"
   ]
  },
  {
   "cell_type": "markdown",
   "metadata": {
    "slideshow": {
     "slide_type": "subslide"
    }
   },
   "source": [
    "### Tutorial Problem 6 – Solution ###\n",
    "\n",
    "Change in total volume due to $\\Delta p_{pm}$: $\\Delta V_T = \\alpha_{pm} V_T\\rho_w g \\Delta \\psi$<br>\n",
    "with:\n",
    "$\\alpha_{pm}$ =\tcompressibility of porous medium [LT$^2$/M] <br>                   $V_T$ = total volume [L$^3$] <br>                                          $\\rho_w$ = density of water [M/L$^3$]      <br>                               $g$ = acceleration of gravity [L/T$^2$]   <br>                        $\\Delta \\psi$ = change in pressure head [L]\n",
    "\n",
    "$\\Delta V_T = A\\times\\Delta m$ and <br>\n",
    "$V_T = A\\times m$ and <br>\n",
    "with $A$ = area of the aquifer [L/T$^2$] and $m$ = Thickness of the aquifer [L] \n",
    "Substituting these relation in the above equation we get:\n",
    "\n",
    "$\\Delta m = \\alpha_{pm} m\\rho_w g \\Delta \\psi$<br>"
   ]
  },
  {
   "cell_type": "code",
   "execution_count": 6,
   "metadata": {
    "slideshow": {
     "slide_type": "subslide"
    }
   },
   "outputs": [
    {
     "name": "stdout",
     "output_type": "stream",
     "text": [
      "The land subsidence is 9.89 m\n"
     ]
    }
   ],
   "source": [
    "# Given data\n",
    "alpha_pm = 6.9 * 1e-8 # m2/N, compressibility of porous medium \n",
    "m = 80 # m, thickness\n",
    "rho_w = 998 # kg/m3, density of water\n",
    "g = 9.81 # m/s2, accl. due to gravity\n",
    "DP_h = 183 # m, change in pressure head\n",
    "\n",
    "# calculated land subsidence (LS)\n",
    "LS = alpha_pm*m*rho_w*g*DP_h\n",
    "\n",
    "print(\"The land subsidence is {0:0.2f}\".format(LS), \"m\")"
   ]
  },
  {
   "cell_type": "markdown",
   "metadata": {
    "slideshow": {
     "slide_type": "slide"
    }
   },
   "source": [
    "# HOME WORK PROBLEMS #\n",
    "\n",
    "### Homework Problem 1 ###\n",
    "\n",
    "The pressure head in an aquifer extending over 200 km$^2$ is decreased by 1.60 m.\n",
    "Determine the loss of groundwater in the aquifer for two scenarios:\n",
    "  The aquifer is unconfined (storage coefficient 0.13).\n",
    "  The aquifer is confined (storage coefficient 0.0005).\n",
    "\n",
    "\n",
    "### Homework Problem 2 ###\n",
    "\n",
    "Conduct a sieve analysis for a dried soil sample (see data in the table below):\n",
    "1. Draw the granulometric curve (cumulative mass distribution) and briefly characterise the sediment with regard to its major constituent(s).\n",
    "2. What is the coefficient of uniformity?\n",
    "\n",
    "| mesh   size  [mm] \t| residue in the sieve [g] \t| ∑ total \t| ∑ / ∑  total \t|\n",
    "|:-----------------:\t|:------------------------:\t|:-------:\t|:------------:\t|\n",
    "|        6.3        \t|            11            \t|         \t|              \t\n",
    "|         2         \t|            62            \t|         \t|              \t\n",
    "|        0.63       \t|            288           \t|         \t|              \t\n",
    "|        0.2        \t|            189           \t|         \t|              \t\n",
    "|       0.063       \t|            42            \t|         \t|              \t\n",
    "|  < 0.063 ( cup )  \t             8            \t|         \t|              \t"
   ]
  }
 ],
 "metadata": {
  "author": "me",
  "celltoolbar": "Slideshow",
  "hide_input": false,
  "kernelspec": {
   "display_name": "Python 3",
   "language": "python",
   "name": "python3"
  },
  "language_info": {
   "codemirror_mode": {
    "name": "ipython",
    "version": 3
   },
   "file_extension": ".py",
   "mimetype": "text/x-python",
   "name": "python",
   "nbconvert_exporter": "python",
   "pygments_lexer": "ipython3",
   "version": "3.6.7"
  },
  "latex_envs": {
   "LaTeX_envs_menu_present": true,
   "autoclose": false,
   "autocomplete": true,
   "bibliofile": "biblio.bib",
   "cite_by": "apalike",
   "current_citInitial": 1,
   "eqLabelWithNumbers": false,
   "eqNumInitial": 1,
   "hotkeys": {
    "equation": "Ctrl-E",
    "itemize": "Ctrl-I"
   },
   "labels_anchors": false,
   "latex_user_defs": false,
   "report_style_numbering": false,
   "user_envs_cfg": false
  },
  "varInspector": {
   "cols": {
    "lenName": 16,
    "lenType": 16,
    "lenVar": 40
   },
   "kernels_config": {
    "python": {
     "delete_cmd_postfix": "",
     "delete_cmd_prefix": "del ",
     "library": "var_list.py",
     "varRefreshCmd": "print(var_dic_list())"
    },
    "r": {
     "delete_cmd_postfix": ") ",
     "delete_cmd_prefix": "rm(",
     "library": "var_list.r",
     "varRefreshCmd": "cat(var_dic_list()) "
    }
   },
   "position": {
    "height": "386.4px",
    "left": "1161.6px",
    "right": "20px",
    "top": "120px",
    "width": "354.4px"
   },
   "types_to_exclude": [
    "module",
    "function",
    "builtin_function_or_method",
    "instance",
    "_Feature"
   ],
   "window_display": false
  }
 },
 "nbformat": 4,
 "nbformat_minor": 2
}
