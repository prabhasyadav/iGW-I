{
 "cells": [
  {
   "cell_type": "markdown",
   "metadata": {},
   "source": [
    "# Contaminant Concentration"
   ]
  },
  {
   "cell_type": "markdown",
   "metadata": {},
   "source": [
    "\n",
    "## Task 1\n",
    "A saline solution with a concentration of 370mg/l is itroduced to a 2-m-longsand column in which the pores are initially filled with distilled water.If the solution drains through the column at an average linear velocity of 0.79 m/day and the dynamic dispersivity of the sand columnis 15 cm, what would the conceration of the effluent be at 1.8 days after the flow begins?\n",
    "\n",
    "source: \"Applied Hydrogeology\" by C.W. Fetter <br>\n"
   ]
  },
  {
   "cell_type": "code",
   "execution_count": 1,
   "metadata": {
    "ExecuteTime": {
     "end_time": "2021-01-09T10:23:49.178065Z",
     "start_time": "2021-01-09T10:23:48.776742Z"
    }
   },
   "outputs": [],
   "source": [
    "import math\n",
    "import scipy.special as sc"
   ]
  },
  {
   "cell_type": "code",
   "execution_count": 2,
   "metadata": {
    "ExecuteTime": {
     "end_time": "2021-01-09T10:23:50.450341Z",
     "start_time": "2021-01-09T10:23:50.423598Z"
    }
   },
   "outputs": [
    {
     "name": "stdout",
     "output_type": "stream",
     "text": [
      "A. Given information: \n",
      "Initial concentration = 370 mg/l\n",
      "length of the sand column = 2 m\n",
      "Linear velocity of groundwater flow = 0.79 m/d\n",
      "Dispersivity = 0.15 m\n",
      "Time=1.8 d \n",
      "\n",
      "B. Calculations: \n",
      "Error function of Y [erfc(Y)] is negligble or zero\n",
      "\n",
      "C. Output: \n",
      "Concentration after 1.8 days is:  69.59423437036702 mg/l\n"
     ]
    }
   ],
   "source": [
    "# A.inputs\n",
    "C0 = 370  #mg/l initial concentration\n",
    "L = 2 #m length of the sand column\n",
    "Vx = 0.79  #m/d linear velocity of groundwater flow\n",
    "Disp = 0.15 #m dispersivity of sand column\n",
    "t = 1.8  #days after the flow begins\n",
    "print(\"A. Given information: \")\n",
    "print(\"Initial concentration = {} mg/l\\nlength of the sand column = {} m\\nLinear velocity of groundwater flow = {} m/d\\nDispersivity = {} m\\nTime={} d\".format(C0, L, Vx, Disp, t),\"\\n\")\n",
    "\n",
    "\n",
    "\n",
    "# B.Calculations of :\n",
    "DL=Disp*Vx # longitudinal dispersivity coefficient\n",
    "\n",
    "X=(L-(Vx*t))/(2*((DL*t)**0.5))#  Error functions\n",
    "Y=(L+(Vx*t))/(2*((DL*t)**0.5))#  Error functions\n",
    "C=(C0/2)*(sc.erfc(X)+(math.exp((Vx*L)/DL)*sc.erfc(Y)))# Concentration after t days\n",
    "\n",
    "#  Defining a concentration function and conditional statemen based on error functions\n",
    "print(\"B. Calculations: \")\n",
    "\n",
    "if X>3 and Y<3:\n",
    "    sc.erfc(X)==0, print(\"Error function of X [erfc(X)] is negligible or zero\\n\")\n",
    "    C=(C0/2)*(math.exp((Vx*L)/DL)*sc.erfc(Y))\n",
    "    rsults=C  \n",
    "else :\n",
    "    (math.exp((Vx*L)/DL)*sc.erfc(Y))==0, print(\"Error function of Y [erfc(Y)] is negligble or zero\\n\")\n",
    "    C=(C0/2)*(math.erfc(X))\n",
    "    results= C\n",
    "\n",
    "    \n",
    "# C.output\n",
    "print(\"C. Output: \")\n",
    "print(\"Concentration after 1.8 days is: \", C, \"mg/l\")\n",
    "   "
   ]
  },
  {
   "cell_type": "code",
   "execution_count": null,
   "metadata": {},
   "outputs": [],
   "source": []
  }
 ],
 "metadata": {
  "kernelspec": {
   "display_name": "Python 3",
   "language": "python",
   "name": "python3"
  },
  "language_info": {
   "codemirror_mode": {
    "name": "ipython",
    "version": 3
   },
   "file_extension": ".py",
   "mimetype": "text/x-python",
   "name": "python",
   "nbconvert_exporter": "python",
   "pygments_lexer": "ipython3",
   "version": "3.8.3"
  },
  "latex_envs": {
   "LaTeX_envs_menu_present": true,
   "autoclose": false,
   "autocomplete": true,
   "bibliofile": "biblio.bib",
   "cite_by": "apalike",
   "current_citInitial": 1,
   "eqLabelWithNumbers": true,
   "eqNumInitial": 1,
   "hotkeys": {
    "equation": "Ctrl-E",
    "itemize": "Ctrl-I"
   },
   "labels_anchors": false,
   "latex_user_defs": false,
   "report_style_numbering": false,
   "user_envs_cfg": false
  },
  "toc": {
   "base_numbering": 1,
   "nav_menu": {},
   "number_sections": true,
   "sideBar": true,
   "skip_h1_title": false,
   "title_cell": "Table of Contents",
   "title_sidebar": "Contents",
   "toc_cell": false,
   "toc_position": {},
   "toc_section_display": true,
   "toc_window_display": false
  },
  "varInspector": {
   "cols": {
    "lenName": 16,
    "lenType": 16,
    "lenVar": 40
   },
   "kernels_config": {
    "python": {
     "delete_cmd_postfix": "",
     "delete_cmd_prefix": "del ",
     "library": "var_list.py",
     "varRefreshCmd": "print(var_dic_list())"
    },
    "r": {
     "delete_cmd_postfix": ") ",
     "delete_cmd_prefix": "rm(",
     "library": "var_list.r",
     "varRefreshCmd": "cat(var_dic_list()) "
    }
   },
   "types_to_exclude": [
    "module",
    "function",
    "builtin_function_or_method",
    "instance",
    "_Feature"
   ],
   "window_display": false
  }
 },
 "nbformat": 4,
 "nbformat_minor": 2
}
