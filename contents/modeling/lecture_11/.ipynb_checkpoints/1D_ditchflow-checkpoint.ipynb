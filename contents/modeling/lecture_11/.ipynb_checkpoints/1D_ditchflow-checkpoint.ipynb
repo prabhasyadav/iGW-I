{
 "cells": [
  {
   "cell_type": "markdown",
   "metadata": {},
   "source": [
    "# Simulating 1D Trench Flow*\n",
    "\n",
    "## Equation\n",
    "\n",
    "You can calculate the steady flow in an unconfined aquifer with this Equations:\n",
    "\n",
    "$$q' = \\frac{1}{2} \\cdot K \\cdot \\frac{H_o^2-H_u^2}{L}$$\n",
    "\n",
    "$$h(x)=\\sqrt{H_o^2 - \\frac{H_o^2-H_u^2}{L} \\cdot x+\\frac{R}{K} \\cdot x \\cdot(L-x)}$$\n",
    "\n",
    "with  \n",
    "$q'$ = flow per unit width $[m^2/s]$, \n",
    "$h$ = head at x $[m]$,  \n",
    "$x$ = distance from the origin $[m]$, \n",
    "$H_o$ = head at the origin $[m]$, \n",
    "$H_u$ = head at L $[m]$, \n",
    "$L$ = distance from the origin at the point $H_u$ is measured $[m]$, \n",
    "$K$ = hydraulic conductivity $[m/s]$, \n",
    "$R$ = recharge rate $[m/s]$\n",
    "\n",
    "**_Contributed by Ms. Anne Pförtner and Sophie Pförtner. The original concept from Prof. R. Liedl spreasheet code._**"
   ]
  },
  {
   "cell_type": "markdown",
   "metadata": {},
   "source": [
    "## Tasks"
   ]
  },
  {
   "cell_type": "markdown",
   "metadata": {},
   "source": [
    "**1. An unconfined aquifer has a hydraulic conductivity of 0.0002 m/s and an effective porosity of 0.27. The aquifer is in a bed of sand with a uniform thickness of 31m. At well 1, the water table is 21 m below the land surface. At well 2, located 175 m away, the water table is 23.5 m from the surfabe. There is no recharge** \n",
    "\n",
    "**a) What are the discharge per unit width <br>\n",
    "b) What are the average linear velocity at well 1 <br>\n",
    "c) What are the water table elevation midway betwenn the two wells**"
   ]
  },
  {
   "cell_type": "markdown",
   "metadata": {},
   "source": [
    "*Info 1: \n",
    "At first you must convert the values <br>\n",
    "Ho = 31m - 21m = 10m <br>\n",
    "Hu = 31m - 23.5m = 7.5m* \n",
    "\n",
    "*b) For solving this task, you can use: $v_x = \\frac{Q}{n_e \\cdot A} = \\frac {q'}{n_e*H_o}$ <br>\n",
    "c) Use the diagramm below*"
   ]
  },
  {
   "cell_type": "code",
   "execution_count": 1,
   "metadata": {},
   "outputs": [
    {
     "name": "stdout",
     "output_type": "stream",
     "text": [
      "Task 1a\n",
      "\n",
      "Let us find the discharge per unit width.\n",
      "\n",
      "Provided are:\n",
      "hydraulic conductivity = 0.0002 m\n",
      "head at origin = 10 m\n",
      "head at L = 7.5 m\n",
      "flow length = 175 m \n",
      "\n",
      "The resulting flow per unit width is 2.5e-05 m^2/s \n"
     ]
    }
   ],
   "source": [
    "print(\"Task 1a\\n\")\n",
    "\n",
    "print(\"Let us find the discharge per unit width.\\n\\nProvided are:\")\n",
    "\n",
    "K = 2E-4 # hydraulic conductivity [m/s]\n",
    "H_o = 10 # head at the origin [m]\n",
    "H_u = 7.5 # head at L [m]\n",
    "L = 175 #flow length [m]\n",
    "\n",
    "#solution\n",
    "q = 0.5 * K *((H_o **2 - H_u **2)/L)\n",
    "\n",
    "print(\"hydraulic conductivity = {} m\\nhead at origin = {} m\\nhead at L = {} m\\nflow length = {} m\".format(K, H_o, H_u, L),\"\\n\")\n",
    "print(\"The resulting flow per unit width is {} m^2/s \".format(q))"
   ]
  },
  {
   "cell_type": "code",
   "execution_count": 14,
   "metadata": {},
   "outputs": [
    {
     "name": "stdout",
     "output_type": "stream",
     "text": [
      "Task 1b\n",
      "\n",
      "Let us find the average velocity at well 1.\n",
      "\n",
      "Provided are:\n",
      "discharge per unit width = 2.5e-05 m^2/s\n",
      "effective porosity = 0.27 \n",
      "head at origin = 10 m \n",
      "\n",
      "The resulting average velocoity at well 1 is 9.26e-06 m^2/s \n"
     ]
    }
   ],
   "source": [
    "print(\"Task 1b\\n\")\n",
    "\n",
    "print(\"Let us find the average velocity at well 1.\\n\\nProvided are:\")\n",
    "\n",
    "q = 2.5E-5 # discharge per unit width [m^2/s]\n",
    "n_e = 0.27 # effective porosity [-]\n",
    "H_o = 10 # head at origin [m]\n",
    "\n",
    "\n",
    "#solution\n",
    "v_x = q/(n_e*H_o)\n",
    "\n",
    "print(\"discharge per unit width = {} m^2/s\\neffective porosity = {} \\nhead at origin = {} m\".format(q, n_e, H_o),\"\\n\")\n",
    "print(\"The resulting average velocoity at well 1 is {:0.2e} m^2/s \".format(v_x))"
   ]
  },
  {
   "cell_type": "markdown",
   "metadata": {},
   "source": [
    "**2. Determine what effect the following parameters have on the water table. You can use the values above.**\n",
    " \n",
    "**a) effective Porosity (ne)<br>\n",
    "b) Hydraulic conductivity (K)**"
   ]
  },
  {
   "cell_type": "markdown",
   "metadata": {},
   "source": [
    "*info 2:*\n",
    "\n",
    "*a) The parameter porosity have no effect on the water tabel at all, as there is no porosity in the Equotion. But as you can see, it would have an effect on the flow per unit width.*\n",
    "\n",
    "*b) Use the diagram below.<br> \n",
    "Hydraulic conductivity also has no influence on the groundwater table. Under the assumption that there is no groundwater recharge. Because then the last therm in the equation is eliminated.*"
   ]
  },
  {
   "cell_type": "markdown",
   "metadata": {},
   "source": [
    "**3. How is the effect on the water table, if you change the hydraulic conducivity (K) and there is an recharge rate (R), for example 150 mm/a.**"
   ]
  },
  {
   "cell_type": "markdown",
   "metadata": {},
   "source": [
    "*info 3: In the code you can see that there is an equotion, where the recharge is converted from mm/a in m/s. You can enter the Recharge with 150 mm/a*"
   ]
  },
  {
   "cell_type": "code",
   "execution_count": 9,
   "metadata": {},
   "outputs": [],
   "source": [
    "# Initialize librarys\n",
    "import matplotlib.pyplot as plt\n",
    "import numpy as np\n",
    "import math\n",
    "from ipywidgets import *"
   ]
  },
  {
   "cell_type": "code",
   "execution_count": 21,
   "metadata": {},
   "outputs": [
    {
     "data": {
      "application/vnd.jupyter.widget-view+json": {
       "model_id": "c03ac0a1ad444f24a23ecd567ad87a1e",
       "version_major": 2,
       "version_minor": 0
      },
      "text/plain": [
       "interactive(children=(BoundedFloatText(value=10.0, description='Ho:', max=1000.0, step=0.1), BoundedFloatText(…"
      ]
     },
     "metadata": {},
     "output_type": "display_data"
    },
    {
     "data": {
      "text/plain": [
       "<function __main__.head(Ho, Hu, L, R, K)>"
      ]
     },
     "execution_count": 21,
     "metadata": {},
     "output_type": "execute_result"
    }
   ],
   "source": [
    "# Definition of the function\n",
    "def head(Ho, Hu, L, R, K):\n",
    "\n",
    "    \"\"\"\n",
    "    Ho: inflow head in [m]\n",
    "    Hu: outflow head in [m]\n",
    "    L:  Domain length in [m]\n",
    "    R:  Recharge rate in [mm/d]\n",
    "    K: Hydraulic conductivity in [m/s]\n",
    "    \"\"\"\n",
    "    x = np.arange(0, L,L/1000)\n",
    "    R=R/1000/365.25/86400\n",
    "    h=(Ho**2-(Ho**2-Hu**2)/L*x+(R/K*x*(L-x)))**0.5\n",
    "    plt.plot(x, h)\n",
    "    plt.ylabel('head [m]')\n",
    "    plt.ylim(0,1.5*Ho)\n",
    "    plt.xlabel('x [m]')\n",
    "    plt.xlim(0,L)\n",
    "    plt.show()\n",
    "\n",
    "style = {'description_width': 'initial'}  \n",
    "interact(head,\n",
    "         Ho=widgets.BoundedFloatText(value=10, min=0, max=1000, step=0.1, description='Ho:', disabled=False),\n",
    "         Hu=widgets.BoundedFloatText(value=7.5, min=0, max=1000, step=0.1, description='Hu:', disabled=False),\n",
    "         L= widgets.BoundedFloatText(value=175,min=0, max=10000,step=1, description='L:' , disabled=False),\n",
    "         R=(-500,2500,10),\n",
    "         K=widgets.FloatLogSlider(value=0.0002,base=10,min=-6, max=-2, step=0.0001,readout_format='.2e'))"
   ]
  },
  {
   "cell_type": "code",
   "execution_count": 16,
   "metadata": {},
   "outputs": [
    {
     "data": {
      "text/plain": [
       "2.535047025122316e-08"
      ]
     },
     "execution_count": 16,
     "metadata": {},
     "output_type": "execute_result"
    }
   ],
   "source": [
    "R=800/1000/365.25/86400\n",
    "R "
   ]
  },
  {
   "cell_type": "code",
   "execution_count": null,
   "metadata": {},
   "outputs": [],
   "source": []
  }
 ],
 "metadata": {
  "kernelspec": {
   "display_name": "Python 3",
   "language": "python",
   "name": "python3"
  },
  "language_info": {
   "codemirror_mode": {
    "name": "ipython",
    "version": 3
   },
   "file_extension": ".py",
   "mimetype": "text/x-python",
   "name": "python",
   "nbconvert_exporter": "python",
   "pygments_lexer": "ipython3",
   "version": "3.8.3"
  }
 },
 "nbformat": 4,
 "nbformat_minor": 4
}
