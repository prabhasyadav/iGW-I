{
 "cells": [
  {
   "cell_type": "code",
   "execution_count": 2,
   "metadata": {
    "tags": [
     "hide-input"
    ]
   },
   "outputs": [],
   "source": [
    "import matplotlib.pyplot as plt\n",
    "import numpy as np\n",
    "import pandas as pd\n",
    "import ipywidgets as widgets\n",
    "%matplotlib widget\n",
    "import warnings; warnings.simplefilter('ignore')"
   ]
  },
  {
   "cell_type": "markdown",
   "metadata": {},
   "source": [
    "# Subsurface Structure"
   ]
  },
  {
   "cell_type": "markdown",
   "metadata": {},
   "source": [
    "## Porous Media\n",
    "The general definition of the porous media is a **solid which contains voids**. This definition applies to the subsurface contains solid material plus voids which represent storage and transmission of the water. The voids may have various shapes and contain fluids (mostly air and/or water). Moreover, voids may be connected to or disconnected from each other. \n",
    "Generally voids and their properties are important to determine water storage (how much water is or could be available?) and water transmission (How fast the water can move?). "
   ]
  },
  {
   "cell_type": "markdown",
   "metadata": {},
   "source": [
    "## Types of porous media in the subsurface"
   ]
  },
  {
   "cell_type": "markdown",
   "metadata": {},
   "source": [
    "```{image} images/L02_fig1.png\n",
    ":height: 400px\n",
    ":align: center\n",
    ":name: Unconsolidated porous medium\n",
    "```\n",
    "\n",
    "1. **unconsolidated porous medium (Sediments)**: it is non-cemented porous media and the grains can be taken away. The formation of such porous media is due to deposition of solid material mostly by water.\n",
    "\n",
    "```{image} images/L02_fig3.png\n",
    ":height: 300px\n",
    ":align: center\n",
    ":name: Unconsolidated porous medium\n",
    "```\n",
    "\n",
    "2. **Consolidated porous medium (Rocks)**: the formation is due to increased pressure acting together with thermal and chemical processes. It has two types:\n",
    "\n",
    "> Fractured porous media \n",
    "\n",
    "> Karstified porous media\n",
    "\n",
    "```{image} images/L02_fig4.png\n",
    ":height: 600px\n",
    ":align: center\n",
    ":name: Consolidated porous medium\n",
    "```\n"
   ]
  },
  {
   "cell_type": "markdown",
   "metadata": {},
   "source": [
    "## Porosity (Total porosity):\n",
    "Is defined as the volumetric share of voids in a porous media. It is a number between 0 and 1 and can be expressed as percentage (0%: no voids, 100%:no solid)\n",
    "\n",
    "$${n}=\\frac{V_{v}}{V_{T}}$$\n",
    "- $n$= total porosity\n",
    "- ${V_{v}}$= voids volume\n",
    "- ${V_{T}}$= total volume"
   ]
  },
  {
   "cell_type": "markdown",
   "metadata": {},
   "source": [
    "**Sample question**\n",
    "\n",
    "If the total volume of a media is 254 cubic meters, and the volume of the void is 27 cubic meters, what is the porosity (give as a percent)?\n"
   ]
  },
  {
   "cell_type": "code",
   "execution_count": 3,
   "metadata": {},
   "outputs": [
    {
     "name": "stdout",
     "output_type": "stream",
     "text": [
      " Total porosity is: 10.62992125984252 %\n"
     ]
    }
   ],
   "source": [
    "# input data\n",
    "V_T= 254 #m^3 total volume\n",
    "V_v=27 #m^3 voids volume\n",
    "\n",
    "#calculations\n",
    "n=(V_v/V_T)*100\n",
    "\n",
    "# Output\n",
    "print(\" Total porosity is:\", n, \"%\" )"
   ]
  },
  {
   "cell_type": "markdown",
   "metadata": {},
   "source": [
    "### Total porosity of artificial porous media: \n",
    "If “grains” have identical shape and are regularly arranged, it is possible to exactly compute total porosity, the pores should have the same size.\n",
    "\n",
    "\n",
    "```{image} images/L02_fig5.png\n",
    ":height: 300px\n",
    ":align: center\n",
    ":name: Total porosity of artificial porous media\n",
    "```\n",
    "\n",
    "\n",
    "- Loose packing(first picture): each hole placed on top of the hole underneath\n",
    "\n",
    "- Dense packing (second picture): each hole is placed at the deepest position possible\n",
    "\n",
    "These schematics provides a practical range of porosity in the subsurface. The general range is between 25% to about 50%. In more extreme cases porosity higher than 60% is possible, e.g., cobbles, gravel. The other extreme, subsurface with no porosity (0%) is also encountered in the subsurface, e.g., in consolidated rocks. \n"
   ]
  },
  {
   "cell_type": "markdown",
   "metadata": {},
   "source": [
    "### Total porosity of natural unconsolidated porous media:\n",
    "In the subsurface (natural unconsolidated porous media) there are grains of different size and total porosity depends on the grain size distribution.\n",
    "\n",
    "\n",
    "|               | grain  diameter  (mm) | Total  Porosity (%) |\n",
    "|---------------|-----------------------|---------------------|\n",
    "| Coarse gravel | 20 - 60               | 24 - 36             |\n",
    "| Fine gravel   | 2 - 6                 | 25 - 38             |\n",
    "| Coarse sand   | 0.6 - 2               | 31 - 46             |\n",
    "| Fine sand     | 0.006 - 0.2           | 26 - 53             |\n",
    "| Silt          | 0.002 - 0.06          | 34 - 61             |\n",
    "| Clay          | < 0.002               | 34 - 60             |\n",
    "\n",
    "\n",
    "|           | Total  Porosity (%) |\n",
    "|-----------|---------------------|\n",
    "| Siltstone | 21 - 41             |\n",
    "| Sandstone | 5 - 30              |\n",
    "| Basalt    | 3 - 35              |\n",
    "| Claystone | 1 - 10              |\n",
    "| Limestone | 1 - 10              |\n",
    "| Shale     | < 10                |\n",
    "| Granite   | < 1                 |\n",
    "\n",
    "\n",
    "Total porosity of consolidated porous media (rocks) is usually smaller than total porosity of unconsolidated porous media. However, weathering effect may lead to increase the value of porosity.\n",
    "only for unconsolidated porous media, total porosity tends to increase with decreasing grain size.\n"
   ]
  },
  {
   "cell_type": "markdown",
   "metadata": {},
   "source": [
    "# Grain size distribution of unconsolidated porous media\n",
    "Unconsolidated porous media are able to store and transmit water that can be influenced by grain size distribution. Therefore, the grain size distribution is frequently determined in laboratory experiments in order to deduce important flow properties. \n",
    "There are five major grain size classes (observed by increasing diameter): clay, silt, sand, and gravel (or debris). The classes for silt, clay and gavel are usually subdivided by “fine”, “medium”, and “coarse” (or “very fine”, “fine”, “medium”, “coarse”, and “very coarse”). Different ranges for individual grain size classes have been defined by different authorities or regulations. However, the standard method to determine the grain size distribution of a sample is sieve analysis.\n"
   ]
  },
  {
   "cell_type": "markdown",
   "metadata": {},
   "source": [
    "## Classification schemes:\n",
    "The diagrams below include a couple of classification schemes to define ranges of grain diameter for clay, silt, sand, and gravel:\n",
    "\n",
    "\n",
    "\n",
    "```{image} images/L02_fig7.png\n",
    ":height: 400px\n",
    ":align: center\n",
    ":name: grain size distribution\n",
    "```\n",
    "\n",
    "_USDA: United States Department of Agriculture_, _ISSS: International Soil Science Society (ISSS)_, _MIT: Massachusetts Institute of Technology_, _ASTM: American Society for Testing and Materials_, _AASHTO: American Association of State Highway and Transportation Officials_, _FAA: Federal Aviation Administration_   \n",
    "\n",
    "As can be observed that there exist several standards. These are often based on local requirements e.g., based on countries. In Germany the DIN standards are used. "
   ]
  },
  {
   "cell_type": "markdown",
   "metadata": {},
   "source": [
    "## Sieve analysis:\n",
    "The results from a sample consist of different grain size fractions should be transferred on granulometric curve. This curve provides cumulative information; vertical axis shows the mass fraction, and horizontal axis shows the grain diameter. For example, if 1mm grain diameter has 80% of cumulative mass fraction it means that 80% of this sample contains 1mm grain diameter or less than 1 mm (see the picture below).\n",
    "\n",
    "**How to get granulometric curve?**\n",
    "In order to perform sieve analysis we can use sieve machine. Sieve machine consist of sets of sieves from coarse sieve on top to fine sieve and a cup at the bottom. The mechanism is to shake the set. Finally, each sieve consists of grain sizes which are bigger than the sieve.\n",
    "\n",
    "\n",
    "```{image} images/L02_fig15.png\n",
    ":height: 400px\n",
    ":align: center\n",
    ":sieve machine\n",
    "```\n",
    "\n",
    "```{image} images/L02_fig8.png\n",
    ":height: 400px\n",
    ":align: center\n",
    ":name: grain size distribution\n",
    "```\n",
    "\n",
    "**dx and U**: From the granulometric curve, several parameters can be determined in order to characterize the sample. ${d_{x}}$   denotes the grain diameter for which x% (in mass or weight, not volume) of the sieve material is smaller than this diameter.\n",
    "\n",
    " ```{image} images/L02_fig9.png\n",
    ":height: 400px\n",
    ":align: center\n",
    ":name: grain size distribution\n",
    "```\n",
    "\n",
    "  Grain diameters ${d_{10}}, {d_{60}}, {d_{75}}$ are of practical importance with regard to groundwater flow properties. The     ratio of d60 and d10 is called **coefficient of uniformity, U**:\n",
    "  \n",
    "  $${U}=\\frac{d_{60}}{d_{10}}$$\n",
    "\n",
    "  ${d_{75}}$ is specifically used for well construction purpose (not covered by this lecture)"
   ]
  },
  {
   "cell_type": "markdown",
   "metadata": {},
   "source": [
    "# Subterranean water\n",
    "\n",
    "The subsurface can be regarded as a three-phase system consisting of a solid phase (soil particles), a water phase, and a gas phase. a schematic illustration for voids or pores in an unconsolidated porous medium is given in the figure below. Each phase has similar density and other properties. Sometimes it is possible for the fourth phase which is contamination.Voids are filled with water and gas. The volumetric ratio of water in voids can be calculated by water content.\n",
    "\n",
    "```{image} images/L02_fig10.png\n",
    ":height: 200px\n",
    ":align: center\n",
    ":name: subterranean water\n",
    "```\n",
    "\n",
    "## Water content:\n",
    "\n",
    "Water content is defined as the share of water in the porous medium:\n",
    "\n",
    "$${\\theta}=\\frac{V_{w}}{V_{T}}$$\n",
    "- ${\\theta}$= water content\n",
    "- ${V_{w}}$= water volume\n",
    "- ${V_{T}}$= total volume\n",
    "\n",
    "Water content cannot exceed the total porosity. i.e. θ≤n ( total porosity is independent of the fluid content of porous medium).\n",
    "\n",
    "## Degree of saturation:\n",
    "\n",
    "Another way to express the ratio of water in the porous medium is the degree of saturation, i.e. the ratio of water volume to void volume:\n",
    "\n",
    "$${S}=\\frac{V_{w}}{V_{v}}$$\n",
    "- ${S}$= degree of saturation\n",
    "- ${V_{w}}$= water volume\n",
    "- ${V_{v}}$= voids volume\n",
    "\n",
    "The degree of saturation is equal to $\\frac{θ}{n}$ . S can vary between 0 to 1 (or between 0% to 100%), S=0 means no water in the voids, whereas S=100 means voids are completely filled with water.\n"
   ]
  },
  {
   "cell_type": "markdown",
   "metadata": {},
   "source": [
    "**sample question**\n"
   ]
  },
  {
   "cell_type": "markdown",
   "metadata": {},
   "source": [
    "## Forcing act on subterranean water:\n",
    "\n",
    "Subterranean water is subject to several forces. The most important ones are:\n",
    "\n",
    "- gravity\n",
    "- attractive forces between the water molecules (cohesion)\n",
    "- attractive forces between water and solids (adhesion)\n",
    "\n",
    "```{image} images/L02_fig11.png\n",
    ":height: 250px\n",
    ":align: center\n",
    ":name: Forces on subterranean water\n",
    "```\n",
    "\n",
    "In the figure above, dotted area represent the solid phase. In the pore channel the dominant force is gravity, shown as G. getting closer to the solid surface, adhesive force become more important. The numbers indicate the required pressure to remove the corresponding layer of water from the solid surface. As an example, in order to remove the last layer of water from the solid surface, 31 bar pressure needs to be applied. Another easy way to remove the water is boiling the sample in the oven.\n",
    "\n",
    "## Surface tension:\n",
    "\n",
    "Cohesive forces acting on water molecules compensate each other if the molecule is not located near water-air or water-solid interface. This is no longer true at an interface: cohesive interaction is reduced on one side. The resulting force tends to minimize the interface area. Macroscopically, this effect is parametrized by the “surface tension”, which is defined as the energy needed to increase the area of the interface by one unit.\n",
    "\n",
    "\n",
    "```{image} images/L02_fig12.png\n",
    ":height: 300px\n",
    ":align: center\n",
    ":name: surface tension\n",
    "```\n",
    "\n",
    "Common units of the surface tension σ are $\\frac{J}{m^2}$ or $\\frac{N}{m}$ (Its dimension is $\\frac{M}{T^2}$). The surface tension of water is about 7.5 . 10 -2 $\\frac{N}{m}$ at 10 ֯C.\n",
    "\n",
    "## Capillary action:\n",
    "\n",
    "\n",
    "```{image} images/L02_fig13.png\n",
    ":height: 300px\n",
    ":align: center\n",
    ":name: capillary action\n",
    "```\n",
    "\n",
    "Water is subject to capillary action when adhesion is strongr than cohesion. The capillary rise of water in a tube depends on the surface tension and the tube redius. The maximum capillary rise is given by:\n",
    "\n",
    "\n",
    "$${h_{c}}=\\frac{2\\sigma{w}}{\\rho_{w}{g}{r}}$$\n",
    "\n",
    "- ${h_{c}}$= maximum capillary rise\n",
    "- $sigma{w}$= surface tension\n",
    "- $\\rho_{w}$= water density\n",
    "- ${g}$= acceleration of gravity\n",
    "- ${r}$= radius of the tube\n",
    "\n",
    "## Capillary action in the subsurface:\n",
    "\n",
    "Capillary actions play a dominant role in the subsurface. The capillaries are given by individual pore channels. Poor channels in poorly sorted material may strongly differ in diameter, such that a certain variability in capillary rise is observed.\n",
    "\n",
    "\n",
    "```{image} images/L02_fig14.png\n",
    ":height: 400px\n",
    ":align: center\n",
    ":name: capillary action in the subsurface\n",
    "```\n",
    "\n",
    "Left sketch shows the capillary rise in a perfectly sorted material which all the pores have the same size. So capillary rise is similar in every single pores. The right sketch, shows a real situation of subsurface. There are different grain size and then different pore channels, which results in various capillary rise.\n"
   ]
  },
  {
   "cell_type": "markdown",
   "metadata": {},
   "source": [
    "**Sample question**\n",
    " For water at at a tube with reduce of R, the surface tension is 73$\\frac{g}{s^2}$, the density is 0.999 $\\frac{g}{cm^3}$. Compute the rise of water in the capillary tube"
   ]
  },
  {
   "cell_type": "code",
   "execution_count": 4,
   "metadata": {},
   "outputs": [
    {
     "name": "stdout",
     "output_type": "stream",
     "text": [
      "the maximum water rise in this tube is: 0.14912872055729198 1/R cm\n"
     ]
    }
   ],
   "source": [
    "# input data\n",
    "sigma= 73 #g/s^2 surface tension\n",
    "rho= 0.999 # g/cm^3 water density\n",
    "g=980 #cm/s^2 acceleration of gravity\n",
    "\n",
    "#calculation\n",
    "h_c=(2*sigma)/(rho*g)\n",
    "\n",
    "#output\n",
    "print(\"the maximum water rise in this tube is:\", h_c,\"1/R\",  \"cm\")"
   ]
  },
  {
   "cell_type": "code",
   "execution_count": null,
   "metadata": {},
   "outputs": [],
   "source": []
  }
 ],
 "metadata": {
  "hide_input": false,
  "kernelspec": {
   "display_name": "Python 3",
   "language": "python",
   "name": "python3"
  },
  "language_info": {
   "codemirror_mode": {
    "name": "ipython",
    "version": 3
   },
   "file_extension": ".py",
   "mimetype": "text/x-python",
   "name": "python",
   "nbconvert_exporter": "python",
   "pygments_lexer": "ipython3",
   "version": "3.8.3"
  },
  "latex_envs": {
   "LaTeX_envs_menu_present": true,
   "autoclose": false,
   "autocomplete": true,
   "bibliofile": "biblio.bib",
   "cite_by": "apalike",
   "current_citInitial": 1,
   "eqLabelWithNumbers": true,
   "eqNumInitial": 1,
   "hotkeys": {
    "equation": "Ctrl-E",
    "itemize": "Ctrl-I"
   },
   "labels_anchors": false,
   "latex_user_defs": false,
   "report_style_numbering": false,
   "user_envs_cfg": false
  },
  "toc": {
   "base_numbering": 1,
   "nav_menu": {},
   "number_sections": true,
   "sideBar": true,
   "skip_h1_title": false,
   "title_cell": "Table of Contents",
   "title_sidebar": "Contents",
   "toc_cell": false,
   "toc_position": {},
   "toc_section_display": true,
   "toc_window_display": false
  },
  "varInspector": {
   "cols": {
    "lenName": 16,
    "lenType": 16,
    "lenVar": 40
   },
   "kernels_config": {
    "python": {
     "delete_cmd_postfix": "",
     "delete_cmd_prefix": "del ",
     "library": "var_list.py",
     "varRefreshCmd": "print(var_dic_list())"
    },
    "r": {
     "delete_cmd_postfix": ") ",
     "delete_cmd_prefix": "rm(",
     "library": "var_list.r",
     "varRefreshCmd": "cat(var_dic_list()) "
    }
   },
   "types_to_exclude": [
    "module",
    "function",
    "builtin_function_or_method",
    "instance",
    "_Feature"
   ],
   "window_display": false
  }
 },
 "nbformat": 4,
 "nbformat_minor": 4
}
