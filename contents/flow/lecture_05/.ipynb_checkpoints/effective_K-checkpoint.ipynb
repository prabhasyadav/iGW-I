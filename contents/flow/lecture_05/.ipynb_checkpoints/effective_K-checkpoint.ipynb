{
 "cells": [
  {
   "cell_type": "code",
   "execution_count": 4,
   "metadata": {},
   "outputs": [],
   "source": [
    "import matplotlib.pyplot as plt \n",
    "import numpy as np \n",
    "import pandas as pd\n",
    "import ipywidgets as widgets\n",
    "from ipywidgets import interact, interactive, fixed, interact_manual\n",
    "plt.rcParams[\"font.weight\"] = \"bold\"\n",
    "plt.rcParams[\"font.size\"] = 8\n",
    "import warnings\n",
    "warnings.filterwarnings('ignore')"
   ]
  },
  {
   "cell_type": "code",
   "execution_count": 11,
   "metadata": {},
   "outputs": [],
   "source": [
    "def eff_K(M1, M2, M3, K1, K2, K3):\n",
    "    K = [K1, K2, K3]\n",
    "    K_f = [\"%0.2e\" %elem for elem in K]\n",
    "    INPUT = {\"Thickness [L]\": [M1, M2, M3], \"Hydraulic Conductivity [L/T]\": K_f}\n",
    "    index = [\"Layer 1\", \"Layer 2\", \"Layer 3\"]\n",
    "    df = pd.DataFrame(INPUT, index=index)\n",
    "    tt = M1+M2 + M3  # m, totial thickness\n",
    "    \n",
    "    print(df)\n",
    "    # finding relative thickness, \n",
    "    RL1, RL2, RL3 = M1/tt, M2/tt, M3/tt \n",
    "    HRL1, HRL2, HRL3 = 1/K1, 1/K2, 1/K3 \n",
    "    WHK1, WHK2, WHK3 = RL1*K1, RL2*K2,RL3*K3\n",
    "    WHR1,WHR2, WHR3 = RL1/K1, RL2/K2, RL3/K3 \n",
    "    \n",
    "    # creating intermediate table\n",
    "    RL =  [RL1, RL2, RL3]\n",
    "    HRL = [HRL1, HRL2, HRL3]\n",
    "    WHK = [WHK1, WHK2, WHK3]\n",
    "    WHR = [WHR1,WHR2, WHR3]\n",
    "    RL_f = [ '%.2f' %elem for elem in RL ]\n",
    "    HRL_f = [ '%.2e' %elem for elem in HRL ]\n",
    "    WHK_f = [ '%.2e' %elem for elem in WHK ]\n",
    "    WHR_f = [ '%.2e' %elem for elem in WHR ]\n",
    "    \n",
    "    # making int. calculation table\n",
    "    index2 = [\"Layer 1\", \"Layer 2\", \"Layer 3\", \"Sum\"]\n",
    "    CAL1 = {\"Relative Thickness [-]\":RL_f, \"Hydraulic Resistance [T/L]\":HRL_f,\n",
    "            \"Weighted Hyd. Cond. [L/T]\": WHK_f, \"Weighted Hyd. Resistance [T/L]\": WHR_f}\n",
    "    df2 = pd.DataFrame(CAL1)\n",
    "    \n",
    "    # calculations Parallel flow\n",
    "    HR_eff = sum(WHR)\n",
    "    HR_eff_a = max(WHR)\n",
    "\n",
    "    HC_eff = 1/HR_eff\n",
    "    HC_eff_a = 1/HR_eff_a\n",
    "    \n",
    "    RT1 = 0 \n",
    "    RT2 = RT1+RL1\n",
    "    RT3 = RT2+RL2\n",
    "    RT4 = 1\n",
    "    \n",
    "    RH1 = 1\n",
    "    RH2 = 1-HC_eff*WHR1\n",
    "    RH3 = HC_eff*WHR3 \n",
    "    RH4 = 0\n",
    "\n",
    "      # creating data table \n",
    "    RH = [RH1, RH2, RH3, RH4]\n",
    "    RH_f = [\"%0.2f\" %elem for elem in RH]\n",
    "    RT = [RT1, RT2, RT3, RT4]\n",
    "    RT_f = [\"%0.2f\" %elem for elem in RT] # 0.2f is for number format\n",
    "\n",
    "    df3 = {\"Relative Thickness [-]\": RT_f, \"Relative Head [-]\": RH_f}\n",
    "    df3 = pd.DataFrame(df3)\n",
    "    \n",
    "\n",
    "    #fig, (ax1, ax2) = plt.subplots(1, 2)\n",
    "    fig = plt.figure()\n",
    "    ax = fig.add_subplot(1,1,1)\n",
    "    ax.set_xlim(0, 1.01); ax.set_ylim(0,1.01)\n",
    "    ax.xaxis.set_ticks_position('top') \n",
    "    ax.xaxis.set_label_position('top') \n",
    "    ax.set_xlabel(\"Relative head [-]\", fontsize=12)  \n",
    "    ax.set_ylabel(\"Relative thickness [-]\", fontsize=12)  \n",
    "    plt.gca().invert_yaxis()\n",
    "    ax.spines['right'].set_visible(False)\n",
    "    ax.spines['bottom'].set_visible(False)\n",
    "    \n",
    "    ax.axhline(y=0, color='r', linewidth=2)\n",
    "    ax.axhline(y=RT2, color='r', linewidth=2)\n",
    "    ax.axhline(y=RT3, color='r', linewidth=2)\n",
    "    ax.axhline(y=RT4, color='r', linewidth=2)\n",
    "    ax.plot(RH, RT)\n",
    "\n",
    "    plt.xticks(np.arange(0, 1.1, 0.1))\n",
    "    plt.yticks(np.arange(0, 1.1, 0.1))\n",
    "    \n",
    "    print(\"The Effective Hydraulic Conductivity is: {0:0.2e}\".format(HC_eff), \"m/s\\n\")\n",
    "    print(\"The Approximate Effective Hydraulic Conductivity is: {0:0.2e}\".format(HC_eff_a), \"m/s\\n\")\n",
    "    print(\"The Effective Hydraulic Resistance is: {0:0.2e}\".format(HR_eff), \"s/m\\n\")\n",
    "    print(\"The Approximate Effective Hydraulic Resistance is {0:0.2e}\".format(HR_eff_a), \"s/m\\n\")\n",
    "\n",
    "    \n",
    "    # Perpendendicular flow\n",
    "    \n",
    "    WHK_eff = sum(WHK)\n",
    "    WHK_eff_a = max(WHK)\n",
    "\n",
    "    WHR_eff = 1/WHK_eff\n",
    "    WHR_eff_a = 1/WHK_eff_a\n",
    "\n",
    "    RD1 = WHK1/WHK_eff\n",
    "    RD2 = WHK2/WHK_eff\n",
    "    RD3 = WHK3/WHK_eff\n",
    "\n",
    "    RD = [RD1, RD2, RD3]\n",
    "    RD_f = [\"%0.2f\" %elem for elem in RD]\n",
    "\n",
    "    #df4 = pd.DataFrame({\"Relative Discharge [-]\": RD_f}, index= index)\n",
    "    #df3 = pd.DataFrame(df3)\n",
    "    \n",
    "    fig2 = plt.figure()\n",
    "    plt.gca().invert_yaxis()\n",
    "    ay = fig2.add_subplot(1,1,1)\n",
    "    ay.barh(index, RD) \n",
    "    plt.xticks(np.arange(0, 1.1, 0.1))\n",
    "    ay.set_xlabel(\"Relative discharge [-]\", fontsize=12)\n",
    "    ay.set_xlabel(\"Layer number\", fontsize=12)\n",
    "\n"
   ]
  },
  {
   "cell_type": "code",
   "execution_count": 12,
   "metadata": {},
   "outputs": [
    {
     "name": "stdout",
     "output_type": "stream",
     "text": [
      "         Thickness [L] Hydraulic Conductivity [L/T]\n",
      "Layer 1              2                     1.00e-03\n",
      "Layer 2              3                     1.00e-02\n",
      "Layer 3              4                     1.00e-02\n",
      "The Effective Hydraulic Conductivity is: 3.33e-03 m/s\n",
      "\n",
      "The Approximate Effective Hydraulic Conductivity is: 4.50e-03 m/s\n",
      "\n",
      "The Effective Hydraulic Resistance is: 3.00e+02 s/m\n",
      "\n",
      "The Approximate Effective Hydraulic Resistance is 2.22e+02 s/m\n",
      "\n"
     ]
    },
    {
     "data": {
      "image/png": "[encoded data removed]",
      "text/plain": [
       "<Figure size 432x288 with 1 Axes>"
      ]
     },
     "metadata": {
      "needs_background": "light"
     },
     "output_type": "display_data"
    },
    {
     "data": {
      "image/png": "[encoded data removed]",
      "text/plain": [
       "<Figure size 432x288 with 1 Axes>"
      ]
     },
     "metadata": {
      "needs_background": "light"
     },
     "output_type": "display_data"
    }
   ],
   "source": [
    "eff_K(2,3,4, 0.001,0.01,0.01)"
   ]
  },
  {
   "cell_type": "code",
   "execution_count": null,
   "metadata": {},
   "outputs": [],
   "source": []
  }
 ],
 "metadata": {
  "kernelspec": {
   "display_name": "Python 3",
   "language": "python",
   "name": "python3"
  },
  "language_info": {
   "codemirror_mode": {
    "name": "ipython",
    "version": 3
   },
   "file_extension": ".py",
   "mimetype": "text/x-python",
   "name": "python",
   "nbconvert_exporter": "python",
   "pygments_lexer": "ipython3",
   "version": "3.8.3"
  }
 },
 "nbformat": 4,
 "nbformat_minor": 4
}
