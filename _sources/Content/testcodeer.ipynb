{
 "cells": [
  {
   "cell_type": "markdown",
   "id": "5151e9cf",
   "metadata": {},
   "source": [
    "# Testing the code for run "
   ]
  },
  {
   "cell_type": "markdown",
   "id": "1fed0038",
   "metadata": {},
   "source": [
    "<script type=\"text/x-thebe-config\">\n",
    "  {\n",
    "    requestKernel: true,\n",
    "    binderOptions: {\n",
    "      repo: \"matplotlib/ipympl\",\n",
    "      ref: \"0.6.1\",\n",
    "      repoProvider: \"github\",\n",
    "    },\n",
    "  }\n",
    "</script>\n",
    "<script src=\"https://unpkg.com/thebe@latest/lib/index.js\"></script>\n"
   ]
  },
  {
   "cell_type": "markdown",
   "id": "655bc63a",
   "metadata": {},
   "source": [
    "<link rel=\"stylesheet\" href=\"https://cdnjs.cloudflare.com/ajax/libs/font-awesome/4.7.0/css/font-awesome.css\" integrity=\"sha512-5A8nwdMOWrSz20fDsjczgUidUBR8liPYU+WymTZP1lmY9G6Oc7HlZv156XqnsgNUzTyMefFTcsFH/tnJE/+xBg==\" crossorigin=\"anonymous\" />\n",
    "<script src=\"https://cdnjs.cloudflare.com/ajax/libs/require.js/2.3.4/require.min.js\"></script>\n",
    "\n",
    "<script type=\"text/x-thebe-config\">\n",
    "  {\n",
    "     bootstrap: true\n",
    "     requestKernel: true\n",
    "     requestKernel: true,\n",
    "     binderOptions: {\n",
    "       repo: \"try1\",\n",
    "       ref: \"0.6.1\",\n",
    "      repoProvider: \"github\",\n",
    "     kernelOptions: {\n",
    "       kernelName: \"python3\",\n",
    "      },\n",
    "    },\n",
    "  }\n",
    "</script>\n",
    "\n",
    "\n",
    "\n",
    "<script src=\"https://unpkg.com/thebe@latest/lib/index.js\"></script>\n",
    "\n",
    "<button id=\"activateButton\" style=\"width: 120px; height: 45px; font-size: 1.5em;\">\n",
    "     Activate\n",
    "</button>\n",
    "<script>\n",
    "   var bootstrapThebe = function() {\n",
    "       thebe.bootstrap();\n",
    "   }\n",
    "   document.querySelector(\"#activateButton\").addEventListener('click', bootstrapThebe)\n",
    "</script>\n",
    "\n",
    "<div class=\"thebe-activate\"></div>\n",
    "<div class=\"thebe-status\"></div>\n",
    "\n",
    "   <pre data-executable=\"true\" data-language=\"python\">\n",
    "   %matplotlib widget\n",
    "   import ipywidgets as widgets\n",
    "   import matplotlib.pyplot as plt\n",
    "   import numpy as np\n",
    "\n",
    "   x = np.linspace(0,10)\n",
    "\n",
    "   def sine_func(x, w, amp):\n",
    "       return amp*np.sin(w*x)\n",
    "\n",
    "   @widgets.interact(w=(0, 4, 0.25), amp=(0, 4, .1))\n",
    "   def update(w = 1, amp = 1):\n",
    "       plt.clf()\n",
    "       plt.ylim(-4, 4)\n",
    "       plt.plot(x, sine_func(x, w, amp))\n",
    "   </pre>\n"
   ]
  },
  {
   "cell_type": "markdown",
   "id": "961c666f",
   "metadata": {},
   "source": [
    "<iframe src=\"https://www.amazon.de/\" frameborder=\"0\" width=\"960\" height=\"569\" allowfullscreen=\"true\" mozallowfullscreen=\"true\" webkitallowfullscreen=\"true\"></iframe>"
   ]
  },
  {
   "cell_type": "markdown",
   "id": "50a37fa4",
   "metadata": {},
   "source": [
    "<iframe src=\"https://docs.google.com/presentation/d/e/2PACX-1vRSvFibX6SY68wP7Mf6SWsqJOD7CF_rQ-IK6ZyNJL7quUuEaZlzYlF17CeOZKc8DAfNUtSFTQZIj4A9/embed?start=true&loop=false&delayms=60000\" frameborder=\"0\" width=\"960\" height=\"569\" allowfullscreen=\"true\" mozallowfullscreen=\"true\" webkitallowfullscreen=\"true\"></iframe>"
   ]
  }
 ],
 "metadata": {
  "kernelspec": {
   "display_name": "Python 3",
   "language": "python",
   "name": "python3"
  },
  "language_info": {
   "codemirror_mode": {
    "name": "ipython",
    "version": 3
   },
   "file_extension": ".py",
   "mimetype": "text/x-python",
   "name": "python",
   "nbconvert_exporter": "python",
   "pygments_lexer": "ipython3",
   "version": "3.7.11"
  }
 },
 "nbformat": 4,
 "nbformat_minor": 5
}
