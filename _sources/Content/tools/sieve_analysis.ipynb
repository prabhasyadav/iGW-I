{
 "cells": [
  {
   "cell_type": "code",
   "execution_count": 1,
   "metadata": {
    "tags": [
     "remove-cell"
    ]
   },
   "outputs": [],
   "source": [
    "from IPython.display import display, HTML, YouTubeVideo\n",
    "from IPython.display import Video"
   ]
  },
  {
   "cell_type": "code",
   "execution_count": 1,
   "metadata": {
    "tags": [
     "remove-input",
     "margin"
    ]
   },
   "outputs": [],
   "source": [
    "#display(YouTubeVideo(\"AM-NrQoRIYY\",\n",
    "                     #width=350,height=200,title=\"Argo Online School\",\n",
    "\n",
    "                     #allow=\"accelerometer; autoplay; clipboard-write; encrypted-media; gyroscope; picture-in-picture allowfullscreen\"))"
   ]
  },
  {
   "cell_type": "markdown",
   "metadata": {},
   "source": [
    "## Simulating Seive Analysis ##\n",
    "\n",
    "#### How to use the tool? ####\n",
    "\n",
    "1. Go to the Binder by clicking the rocket button (top-right of the page)\n",
    "2. Execute the code cell\n",
    "3. Change the values of different quantities in the box and click the **run interact**.\n",
    "4. From the resulting figure, using your mouse and selecting points in the figure obtain d10 and d60. \n",
    "5. Execute the second code-cell and provide d10, d60 and temperature date\n",
    "6. Click the exectute button.\n",
    "7. For re-simulations - changes the input values in the boxes and click the \"**run interact**\" button. \n",
    "\n",
    "\n",
    "\n",
    "\n",
    "This tool can also be downloaded and run locally. For that download the [_deacy.ipynb_](https://github.com/prabhasyadav/try1/blob/main/content/tools/sieve_analysis.ipynb) file and execute the process in any editor (e.g., JUPYTER notebook, JUPYTER lab) that is able to read and execute this file-type.\n",
    "\n",
    "The code may also be executed in the book page. \n",
    "\n",
    "The codes are licensed under CC by 4.0 [(use anyways, but acknowledge the original work)](https://creativecommons.org/licenses/by/4.0/deed.en)"
   ]
  },
  {
   "cell_type": "markdown",
   "metadata": {},
   "source": [
    "**The plot shown is interactive use the pointer and others tools in the graph to obtain d10 and d60 for the next step**"
   ]
  },
  {
   "cell_type": "code",
   "execution_count": 3,
   "metadata": {},
   "outputs": [
    {
     "name": "stdout",
     "output_type": "stream",
     "text": [
      "Please provide the seive data in the boxes:  \n"
     ]
    },
    {
     "data": {
      "application/vnd.jupyter.widget-view+json": {
       "model_id": "96c2d151903d4ef984e65b89fc5e29a9",
       "version_major": 2,
       "version_minor": 0
      },
      "text/plain": [
       "interactive(children=(FloatText(value=0.0, description='6 mm', style=DescriptionStyle(description_width='200px…"
      ]
     },
     "metadata": {},
     "output_type": "display_data"
    }
   ],
   "source": [
    "# used Python library\n",
    "import numpy as np # for calculation \n",
    "import matplotlib.pyplot as plt  # for plotting\n",
    "import pandas as pd  # for data table\n",
    "import ipywidgets as widgets # for widgets\n",
    "#%matplotlib widget\n",
    "import warnings; warnings.simplefilter('ignore')\n",
    "from scipy.interpolate import interp1d,CubicSpline,UnivariateSpline,Rbf\n",
    "from scipy import interpolate\n",
    "\n",
    "#from scipy.interpolate import Rbf\n",
    "\n",
    "print(\"Please provide the seive data in the boxes:  \")\n",
    "\n",
    "def SA(mu, m1, m2, m3, m4, ml,perdat):\n",
    "    dia = [6,2,0.6,0.2, 0.06, 0.01] # mm, diameter <0.06 (cup)= 0.01, >2 = 6\n",
    "    mass = [mu, m1, m2, m3, m4, ml] # g, the residue in seive \n",
    "    Total_mass = np.sum(mass)  # add the mass column to get total mass\n",
    "    retain_per = np.round(mass/Total_mass*100,3)   # retain percentage\n",
    "    retain_per_cumsum = np.round(np.cumsum(retain_per),3) # get the cummulative sum of the reatined\n",
    "    passing_per = np.round(100 - retain_per_cumsum, 3) # substract 100-cummsum to get passing %\n",
    "    data = {\"mesh diameter [mm]\": dia, \"residue in the sieve [g]\": mass, \"Σtotal\": retain_per, \"Σ/Σtotal\": passing_per }\n",
    "\n",
    "    df1= pd.DataFrame(data)\n",
    "    df1 = df1.set_index(\"mesh diameter [mm]\")\n",
    "    print(df1)\n",
    "\n",
    "    plt.rcParams['axes.linewidth']=2\n",
    "    #plt.rcParams[\"axes.edgecolor\"]='white'\n",
    "    plt.rcParams['grid.linestyle']='--'\n",
    "    plt.rcParams['grid.linewidth']=1\n",
    "    x = np.append([20],dia) # adding data to extend over 6 mm dia\n",
    "    y = np.append([100],passing_per) # adding 100% to plot\n",
    "    \n",
    "    \n",
    "    y.sort()\n",
    "    x.sort()\n",
    "    interp_func = interp1d(y,x)\n",
    "    \n",
    "    ######## Other Interpolation Functions #############\n",
    "    \n",
    "    #interp_func=interpolate.splev(y,x, der=0)\n",
    "    #interp_func = UnivariateSpline(y, x)\n",
    "    #interp_func = CubicSpline(y, x)\n",
    "    #interp_func = Rbf(y, x)\n",
    "    \n",
    "    Dd60 = interp_func(60)\n",
    "    Dd10=interp_func(10)\n",
    "    Ddx=interp_func(perdat)\n",
    "    \n",
    "\n",
    "    \n",
    "    print('\\n','\\n')\n",
    "    print(\"d60 =\",\"%.2f\" % Dd60)\n",
    "    print(\"d10 =\",\"%.2f\" % Dd10)\n",
    "    print ('d%d = %.2f' % (perdat, Ddx))\n",
    "    \n",
    "\n",
    "    \n",
    "    \n",
    "    fig,ax = plt.subplots(figsize=(15,10))\n",
    "    fig.canvas.header_visible = False\n",
    "    plt.semilogx(x, y, 'x-', color='red')  \n",
    "    tics=x.tolist()\n",
    "\n",
    "    ax.grid(which='major', color='k', alpha=0.7) \n",
    "    ax.grid(which='minor', color='k', alpha=0.3)\n",
    "    ax.set_xticks(x);  \n",
    "    ax.set_yticks(np.arange(0,110,10));\n",
    "    plt.title('grain size distribution');\n",
    "    plt.xlabel('grain size d [mm]');\n",
    "    plt.ylabel('grain fraction < d ins % of total mass');\n",
    "\n",
    "    plt.plot([0,Dd60,Dd60,Dd60],[60,60,0,60],ls='-',color='g');\n",
    "    plt.plot([0,Dd10,Dd10,Dd10],[10,10,0,10],ls='-',color='r');\n",
    "    plt.plot([0,Ddx,Ddx,Ddx],[perdat,perdat,0,perdat],ls='-',color='#8A2BE2')\n",
    "    ax.set_xlim(0, 30)\n",
    "    from matplotlib.ticker import StrMethodFormatter\n",
    "    ax.xaxis.set_major_formatter(StrMethodFormatter('{x:0.2f}'))\n",
    "    \n",
    "    #return(Dd60,Dd10)\n",
    "    \n",
    "style = {'description_width': '200px'}    \n",
    "\n",
    "Inter=widgets.interact_manual(SA, \n",
    "                       mu= widgets.FloatText(description=\"6 mm\", style=style),\n",
    "                       m1= widgets.FloatText(description=\"2 mm\",style=style),\n",
    "                       m2= widgets.FloatText(description=\"0.6 mm\", style=style),\n",
    "                       m3= widgets.FloatText(description=\"0.2 mm\", style=style),\n",
    "                       m4= widgets.FloatText(description=\"0.06 mm\", style=style),\n",
    "                       ml= widgets.FloatText(description=\"0.01 mm\", style=style),\n",
    "                       perdat= widgets.FloatText(description=\"Enter Fineness % \", style=style)     )\n",
    "\n"
   ]
  },
  {
   "cell_type": "code",
   "execution_count": 4,
   "metadata": {
    "ExecuteTime": {
     "end_time": "2020-11-26T09:21:16.424802Z",
     "start_time": "2020-11-26T09:21:16.354033Z"
    }
   },
   "outputs": [
    {
     "data": {
      "application/vnd.jupyter.widget-view+json": {
       "model_id": "e541497edcc54b2eb733906514db80bc",
       "version_major": 2,
       "version_minor": 0
      },
      "text/plain": [
       "interactive(children=(FloatText(value=0.0, description='d10 (mm)', style=DescriptionStyle(description_width='2…"
      ]
     },
     "metadata": {},
     "output_type": "display_data"
    }
   ],
   "source": [
    "def SA2(d10, d60, t):\n",
    "    U = d60/d10\n",
    "    K_h =  0.0116*(0.7+0.03*t)*d10**2\n",
    "    print(\"\\n The coefficient of non-uniformity: {0:0.2f}\".format(U), \"\\n\")\n",
    "    print(\"The Hydraulic Conductivity based on Hazen Formula: {0:0.2e} m/s\".format(K_h))\n",
    "\n",
    "style = {'description_width': '200px'}    \n",
    "\n",
    "Inter=widgets.interact_manual(SA2, \n",
    "                       d10= widgets.FloatText(description=\"d10 (mm)\", style=style),\n",
    "                       d60= widgets.FloatText(description=\"d60 (mm)\",style=style),\n",
    "                       t= widgets.FloatText(description=\"Temperature (°C)\", style=style))"
   ]
  },
  {
   "cell_type": "code",
   "execution_count": null,
   "metadata": {},
   "outputs": [],
   "source": []
  }
 ],
 "metadata": {
  "celltoolbar": "Tags",
  "hide_input": false,
  "kernelspec": {
   "display_name": "Python 3",
   "language": "python",
   "name": "python3"
  },
  "language_info": {
   "codemirror_mode": {
    "name": "ipython",
    "version": 3
   },
   "file_extension": ".py",
   "mimetype": "text/x-python",
   "name": "python",
   "nbconvert_exporter": "python",
   "pygments_lexer": "ipython3",
   "version": "3.7.11"
  },
  "latex_envs": {
   "LaTeX_envs_menu_present": true,
   "autoclose": false,
   "autocomplete": true,
   "bibliofile": "biblio.bib",
   "cite_by": "apalike",
   "current_citInitial": 1,
   "eqLabelWithNumbers": true,
   "eqNumInitial": 1,
   "hotkeys": {
    "equation": "Ctrl-E",
    "itemize": "Ctrl-I"
   },
   "labels_anchors": false,
   "latex_user_defs": false,
   "report_style_numbering": false,
   "user_envs_cfg": false
  },
  "toc": {
   "base_numbering": 1,
   "nav_menu": {},
   "number_sections": true,
   "sideBar": true,
   "skip_h1_title": false,
   "title_cell": "Table of Contents",
   "title_sidebar": "Contents",
   "toc_cell": false,
   "toc_position": {},
   "toc_section_display": true,
   "toc_window_display": false
  },
  "varInspector": {
   "cols": {
    "lenName": 16,
    "lenType": 16,
    "lenVar": 40
   },
   "kernels_config": {
    "python": {
     "delete_cmd_postfix": "",
     "delete_cmd_prefix": "del ",
     "library": "var_list.py",
     "varRefreshCmd": "print(var_dic_list())"
    },
    "r": {
     "delete_cmd_postfix": ") ",
     "delete_cmd_prefix": "rm(",
     "library": "var_list.r",
     "varRefreshCmd": "cat(var_dic_list()) "
    }
   },
   "types_to_exclude": [
    "module",
    "function",
    "builtin_function_or_method",
    "instance",
    "_Feature"
   ],
   "window_display": false
  }
 },
 "nbformat": 4,
 "nbformat_minor": 4
}
