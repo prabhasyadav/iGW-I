{
 "cells": [
  {
   "cell_type": "code",
   "execution_count": 2,
   "metadata": {
    "tags": [
     "hide-input"
    ]
   },
   "outputs": [],
   "source": [
    "import numpy as np\n",
    "import scipy.special as sci\n",
    "import matplotlib.pyplot as plt\n",
    "from scipy import stats # linregress\n",
    "import pandas as pd\n",
    "from IPython.display import Latex"
   ]
  },
  {
   "cell_type": "markdown",
   "metadata": {},
   "source": [
    "## Lecture 10:  Reactive Mass Transport\n",
    "\n",
    "_(The contents presented in this section were re-developed principally by Dr. P. K. Yadav. The original contents are from Prof. Rudolf Liedl)_\n",
    "\n",
    "---\n",
    "\n",
    "### Motivation ### \n",
    "\n",
    "The last lecture dealt with the  conservative transport processes and  quantified the mass flow and flux emanating from those processes. The effects of these processes were evaluated as an isolated processes and as joint transport process. \n",
    "\n",
    "\n",
    "The last lecture dealt with the  conservative transport processes and  quantified the mass flow and flux emanating from those processes. The effects of these processes were evaluated as an isolated processes and as joint transport process. \n",
    "\n",
    "```{admonition} Important conclusions from last lecture\n",
    ">  $J_{adv}>J_{dis}>>J_{diff}$ is observed in normal aquifers. \n",
    "\n",
    "> $J_{diff}$ may only be useful as an individual processes in special aquifers, e.g., clayey aquifers. \n",
    "\n",
    "> In general aquifers, hydrodynamic dispersion $J_{hyd} = J_{dis} + J_{diff}$ is used in the analysis of solute transport process. \n",
    "```\n",
    " \n",
    "Finally, the last chapter introduced _Concentration Profile_ $(C-t)$ and _Breakthrough Curve_ $(C-x)$ to visually evaluate solute transport in aquifers using _Concentration_ $(C)$, a process output, as a function of _time_ $(t)$ and _space_ $(x)$.  "
   ]
  },
  {
   "cell_type": "markdown",
   "metadata": {},
   "source": [
    "This **Lecture** focuses on the _reactive transport processes,_ which as already discussed involves the transport of solute with _reaction_ processes. This course being an introductory groundwater course, _sorption_ and _degradation_ are the only two reaction types introduced and they are combined with the conservative transport processes- _advection_ and _dispersion_. Eventully, the section evaluates the joint action of conservative transport and reactive processes limiting to 1-D scenario. \n",
    "\n",
    "The lecture will, however, first deal with 3-D effects of dispersive process, which is more important to quantify the reactive processes."
   ]
  },
  {
   "cell_type": "markdown",
   "metadata": {},
   "source": [
    "### Dispersive Mass Flow in 3-D ##\n",
    "\n",
    "In the last lecture we saw that concentration gradient $\\frac{\\Delta C}{\\Delta L}$ and flow velocity $v$ drives dispersive and diffusive solute transport processes. \n",
    "\n",
    "\n",
    "However, in the natural aquifers $\\frac{\\Delta C}{\\Delta L}$ is normally varying with space $(x,y,z)$ and time $(t)$. Therefore, a differential operator $\\big(\\frac{\\mathrm{d}}{\\mathrm{d} x}\\big)$ is more suitable representation of gradient than the difference operator $\\frac{\\Delta C}{\\Delta x}$. The differential operator also generalizes the gradient case.\n",
    "\n",
    "Considering the differential operator, the diffusive mass flow and diffusive mass flux (= mass flow per unit area) in 1D is then expressed as:\n",
    "\n",
    "\n",
    "$$\n",
    "J_{diff} = - n_e \\cdot A \\cdot D_p \\cdot \\frac{\\mathrm{d} C}{\\mathrm{d}x} \n",
    "$$\n",
    "\n",
    "and \n",
    "$$\n",
    "j_{diff} = - n_e \\cdot D_p \\cdot \\frac{\\mathrm{d} C}{\\mathrm{d}x} \n",
    "$$\n",
    "\n",
    "Likewise, the dispersive mass flow and dispersive mass flux (1-D) is:\n",
    "\n",
    "$$\n",
    "J_{disp, h} = - n_e \\cdot A \\cdot D_{disp} \\cdot \\frac{\\mathrm{d} C}{\\mathrm{d}x} \n",
    "$$\n",
    "\n",
    "$$\n",
    "j_{disp, h} = - n_e \\cdot D_{disp} \\cdot \\frac{\\mathrm{d} C}{\\mathrm{d}x} \n",
    "$$\n",
    "\n",
    "The examples of these relations are presented in the last lecture [Conservative Transport](/contents/transport/lecture_09/21_conservative_transport) \n"
   ]
  },
  {
   "cell_type": "markdown",
   "metadata": {},
   "source": [
    "### 3-D concentration Gradient\n",
    "\n",
    "The concentration gradient  $\\frac{\\mathrm{d}C}{\\mathrm{d}x}$  for 1-D solute transport problems is uni-directional, i.e, direction is fixed, and thus only the magnitude of the gradient is the important factor. However in higher dimensions, 2-D or 3-D, solute transport problems, the _direction_ of gradient along with it's _magnitude_ in that direction has to be specified. Thus, for higher dimension solute transport problems, the _concentration gradient_ becomes **concentration vector**, i.e., a quantity providing both magnitude and direction. \n",
    "\n",
    "Thus, the representation of concentration gradient in Cartesian coordinate in 2-D and 3-D is:\n",
    "\n",
    "$$\n",
    "\\mathrm{grad}\\,C = \\nabla C=  \\begin{pmatrix}\n",
    "\\frac{\\partial C}{\\partial x}\\\\\n",
    "\\frac{\\partial C}{\\partial y}\n",
    "\\end{pmatrix}\n",
    "$$\n",
    "\n",
    "and\n",
    "\n",
    "$$\n",
    "\\mathrm{grad} \\,C = \\nabla C=  \\begin{pmatrix}\n",
    "\\frac{\\partial C}{\\partial x}\\\\\n",
    "\\frac{\\partial C}{\\partial y}\\\\\n",
    "\\frac{\\partial C}{\\partial z}\n",
    "\\end{pmatrix}\n",
    "$$\n",
    "\n",
    "The $\\nabla$, the inverted Delta symbol, is called the **del** or **nabla** operator. The vector **grad $C$** in the above relations points in the direction of the _steepest increase_ of $C$. However, for the **Hydrogeologists**, the concentration gradients as well the grad $C$ points to the _steepest decrease_ of $C$. \n"
   ]
  },
  {
   "cell_type": "markdown",
   "metadata": {
    "variables": {
     "disp, h": "<p><strong>NameError</strong>: name &#39;disp&#39; is not defined</p>\n",
     "disp,\\, h": "<p><strong>SyntaxError</strong>: unexpected character after line continuation character (<ipython-input-1-5de2dd44ada9>, line 1)</p>\n",
     "disp,\\, hx": "<p><strong>SyntaxError</strong>: unexpected character after line continuation character (<ipython-input-1-3038f1dae650>, line 1)</p>\n",
     "disp,\\, hy": "<p><strong>SyntaxError</strong>: unexpected character after line continuation character (<ipython-input-1-499c87e5376c>, line 1)</p>\n",
     "disp,\\, hz": "<p><strong>SyntaxError</strong>: unexpected character after line continuation character (<ipython-input-1-f38be2413eed>, line 1)</p>\n"
    }
   },
   "source": [
    "### Isotropic and Anisotropic  Dispersion\n",
    "\n",
    "Corresponding the expression for the concentration gradient at higher dimensions, the expression for mass flow and flux becomes:\n",
    "\n",
    "$$\n",
    "J_{disp,\\, h} = \\begin{pmatrix}\n",
    "J_{disp,\\, hx}\\\\\n",
    "J_{disp,\\, hy}\\\\\n",
    "J_{disp,\\, hz}\n",
    "\\end{pmatrix}\n",
    "$$\n",
    "and the 3-D mass flux is:\n",
    "\n",
    "$$\n",
    "j_{disp,\\, h} = \\begin{pmatrix}\n",
    "j_{disp,\\, hx}\\\\\n",
    "j_{disp,\\, hy}\\\\\n",
    "j_{disp,\\, hz}\n",
    "\\end{pmatrix}\n",
    "$$\n",
    "\n",
    "The subscript in ${{disp, h}}$ refers to _hydrodynamic dispersion_ which is sum of _mechanical dispersion_ and _diffusion_. Likewise, the subscript ${{disp,\\, hx}}$, ${{disp,\\, hy}}$ and ${{disp,\\, hz}}$ refers to dispersion components along the Cartesian coordinates. The corresponding mass flow and mass flux in the higher dimension is then:\n",
    "\n",
    "$$\n",
    "J_{disp,\\, h} = - n_e \\cdot A \\cdot D_{hyd} \\cdot \\text{grad}C\n",
    "$$\n",
    "\n",
    "and\n",
    "\n",
    "###  Isotropic and Anisotropic  Dispersion\n",
    "\n",
    "Corresponding the expression for the concentration gradient at higher dimensions, the expression for mass flow and flux becomes:\n",
    "\n",
    "$$\n",
    "J_{disp,\\, h} = \\begin{pmatrix}\n",
    "J_{disp,\\, hx}\\\\\n",
    "J_{disp,\\, hy}\\\\\n",
    "J_{disp,\\, hz}\n",
    "\\end{pmatrix}\n",
    "$$\n",
    "and the 3-D mass flux is:\n",
    "\n",
    "$$\n",
    "j_{disp,\\, h} = \\begin{pmatrix}\n",
    "j_{disp,\\, hx}\\\\\n",
    "j_{disp,\\, hy}\\\\\n",
    "j_{disp,\\, hz}\n",
    "\\end{pmatrix}\n",
    "$$\n",
    "\n",
    "The subscript in ${{disp,\\, h}}$ refers to _hydrodynamic dispersion_ which is sum of _mechanical dispersion_ and _diffusion_. Likewise, the subscript ${{disp,\\, hx}}$, ${{disp,\\, hy}}$ and ${{disp,\\, hz}}$ refers to dispersion components along the Cartesian coordinates. The corresponding mass flow and mass flux in the higher dimension is then:\n",
    "\n",
    "$$\n",
    "J_{disp,\\, h} = - n_e \\cdot A \\cdot D_{hyd} \\cdot \\text{grad}C\n",
    "$$\n",
    "\n",
    "and\n",
    "\n",
    "$$\n",
    "j_{disp,\\, h} = - n_e \\cdot A \\cdot D_{hyd} \\cdot \\text{grad}C\n",
    "$$\n",
    "\n",
    "The **isotropic dispersion**, rather an _exceptional,_ the $D_{hyd}$ in this case is:\n",
    "\n",
    "$$\n",
    "D_{hyd} = \\alpha \\cdot |v| + n_e \\cdot D \n",
    "$$\n",
    "where, $D$ is direction independent dispersion coefficient and $\\alpha$ $[L]$ is dispersivity, which in:\n",
    "\n",
    "**heterogeneous aquifer**: $\\alpha = \\alpha(x,y,z)$ and in \n",
    "\n",
    "**homogeneous aquifer**: $\\alpha = \\text{constant}$  \n",
    "\n",
    "\n",
    "\n"
   ]
  },
  {
   "cell_type": "markdown",
   "metadata": {},
   "source": [
    "For more practical cases and in normal aquifers, the 2-D and 3-D the dispersion for solute transport is _direction dependent,_ i.e. **anisotropic**. Hence the $D_{hyd}$ is not an scalar quantity but a _matrix (tensor),_ which relates the concentration gradient (vector) to the dispersive mass flow (vector). However, if the princopal axes of the dispersion tensor $D_{hyd}$ is made to coincide with the axes of a Cartesian coordinate system _and_ the groundwater flow is considered uniform along the $x-$axis, the dispersive mass flux can be obtained from\n",
    "\n",
    "$$\n",
    "\\begin{pmatrix} J_x \\\\ j_y \\\\ j_z \\end{pmatrix} =\n",
    "\\begin{pmatrix} \\alpha_L \\cdot v_x + n_e \\cdot D & 0 & 0 \\\\\n",
    "0 & \\alpha_{Th} \\cdot v_x + n_e \\cdot D & 0\\\\\n",
    "0 & 0 & \\alpha_{Tv} \\cdot v_x + n_e \\cdot D\n",
    "\\end{pmatrix}\n",
    "\\cdot\n",
    "\\begin{pmatrix} \\frac{\\partial C}{\\partial x} \\\\ \\frac{\\partial C}{\\partial y} \\\\ \\frac{\\partial C}{\\partial z} \\end{pmatrix} \n",
    "$$\n",
    "\n",
    "with $\\alpha_L$, $\\alpha_{Th}$ and $\\alpha_{Tv}$ are longitudinal dispersivity, horizontal transverse dispversity and vertical transverse dispersivity, respectively. The statistical analysis of dispersivity data shows that $\\alpha_{L}>\\alpha_{Th}>\\alpha_{Tv}$ and the values differ roughly by an order of magnitude. This, however, is just a rule of thumb.\n"
   ]
  },
  {
   "cell_type": "markdown",
   "metadata": {},
   "source": [
    "```{admonition} A quick example\n",
    ":class: tip\n",
    "Discuss the role of 2D dispersitvity in  column when discharge is limited at 10 m$^3$/d of a chemical with concentration 1 mg/L. The flow velocity can be assumed to be 0.05 m/d.\n",
    "```"
   ]
  },
  {
   "cell_type": "code",
   "execution_count": 6,
   "metadata": {},
   "outputs": [
    {
     "name": "stderr",
     "output_type": "stream",
     "text": [
      "<ipython-input-6-e11ea190257a>:27: MatplotlibDeprecationWarning: The 'extend' parameter to Colorbar has no effect because it is overridden by the mappable; it is deprecated since 3.3 and will be removed two minor releases later.\n",
      "  CB = fig.colorbar(CS, shrink=0.8, extend='both');\n"
     ]
    },
    {
     "data": {
      "image/png": "[encoded data removed]",
      "text/plain": [
       "<Figure size 432x288 with 2 Axes>"
      ]
     },
     "metadata": {
      "needs_background": "light"
     },
     "output_type": "display_data"
    }
   ],
   "source": [
    "# Analytical solution from Bear (1976) - Line source, 1st-type input and infinte plane\n",
    "\n",
    "# Input (values can be changed)\n",
    "Co = 1 # mg/L, input concentration \n",
    "Dx = 3 # m, Dispersion in x direction \n",
    "Dy = Dx/10 # m\n",
    "v = 0.05 # m/d\n",
    "Q = 10 # m^3/d\n",
    "\n",
    "## domain dimension and descritization (values can be changed)\n",
    "xmin = -100; xmax= 101  \n",
    "ymin = 0.1; ymax = 11\n",
    "[x, y] = np.meshgrid(np.linspace(xmin, xmax, 1000), np.linspace(ymin, ymax, 100)) # mesh\n",
    "\n",
    "# Bear (1976) solution Implementation \n",
    "#\"k0: Modified Bessel function of second type and zero Order\"\n",
    "\n",
    "term1 = (Co*Q)/(2*np.pi* np.sqrt(Dx*Dy))\n",
    "term2 = (x*v)/(2*Dx)\n",
    "args = (v**2*x**2)/(4*Dx**2) + (v**2*y**2)/(4*Dx*Dy)\n",
    "sol = term1*np.exp(term2)*sci.k0(args)\n",
    "\n",
    "# plots\n",
    "fig, ax = plt.subplots()\n",
    "CS = ax.contour(x,y,sol, cmap='flag')\n",
    "ax.clabel(CS, inline=1, fontsize= 10)\n",
    "CB = fig.colorbar(CS, shrink=0.8, extend='both');"
   ]
  },
  {
   "cell_type": "markdown",
   "metadata": {},
   "source": [
    "### Equilibrium Sorption ###\n",
    "\n",
    "\n",
    "A reactive transport system can include a single reactive process, e.g., degradation, or combination of several multiple reactive processes, e.g. degradation and sorption. The inclusion of the reactive process(es) in the transport studies are site specific. The important to note is that an inclusion of a reactive process increases the complexity of transport problem.\n",
    "\n",
    "In this course we limit ourselves with the following two types of reaction processes:\n",
    "\n",
    "**1. Sorption**\n",
    "\n",
    "**2. Degradation**\n",
    "\n",
    "Acid-base reaction, precipitation-dissolution reaction, organic combustion etc. are among the reactions type that can be part of the reactive process individually or in any combination. \n",
    "\n",
    "Also an important distinction is the rate or speed of the reaction. One distinguishes between time-dependent reaction (kinetics) or time-independent reactions (steady-state or equilibrium). Special reaction rates such as instantaneous reaction (extremely fast reaction) can also be part of the reaction process in the transport system.\n",
    "\n",
    "\n"
   ]
  },
  {
   "cell_type": "markdown",
   "metadata": {},
   "source": [
    "### Sorption Basics\n",
    "\n",
    "**Sorption** is a rather a general term used to indicate both **adsorption** and **absorption**. But in this course the _sorption_ refers to only _adsorption._\n",
    "\n",
    "**Adsorption** can be more formally defined as the process of accumulation of dissolved chemicals on the surface of a solid, e.g., accumulation of a chemicals dissolved in groundwater on the surface of the aquifer material.\n",
    "\n",
    "The figure below clarifies the _adsorption_ process.\n",
    "\n",
    "```{figure} images/T10_f1.png\n",
    "---\n",
    "scale: 30%\n",
    "align: center\n",
    "name: Sorption\n",
    "---\n",
    "Sorption terminology\n",
    "```\n",
    "\n",
    "\n",
    "In the figure _chemical in solution_ (the circular objects) more often called **solute** in the water is found to attach is the solid surface. The figure presents the following two important terms part of the adsorption process:\n",
    "\n",
    "> **Adsorbent**: The solid onto which the chemicals are attached. More formally, _adsorbents_ provide adsorption sites for solutes.\n",
    "\n",
    "> **Adsorbate**: These are solutes that are attached on the _adsorbent._ \n",
    "\n",
    "Based on the figure, _adsorption_ can be considered as a partition process that divides the chemical originally present in water between adsorbent and water. \n",
    "\n",
    "Quite often adsorption is a reversible process, i.e., adsorbed chemicals can get back to water phase. This process is called **desorption**. \n",
    "\n",
    "Speaking about _equilibrium,_ this is reached when\n",
    "\n",
    "> _adsorption rate_  $\\rightleftharpoons $ _desorption rate_\n",
    "\n",
    "Adsorption in groundwater is often a rapid process. Although sorption kinetics can be important, the description in this introductory level course is limited to equilibrium sorption. Thus, we learn next to quantify equilibrium sorption.  "
   ]
  },
  {
   "cell_type": "markdown",
   "metadata": {},
   "source": [
    "### Adsorption Isotherms\n",
    "\n",
    "The adsorption process that has reached equilibrium can be relatively easily quantified with the use of empirical models called **isotherms**. These models are often simple algebraic equation that relates solute concentrations partitioned between the adsorbate and adsorbent at constant temperature. More than 15 different _isotherm_ models can be found in the literature. However, in groundwater reactive transport studies the following three are the two most commonly used isotherms:\n",
    "\n",
    "1. **Henry or Linear isotherm** <br>\n",
    "2. **Freundlich isotherm** \n",
    "\n",
    "For quantification, laboratory based experiments are performed using solids from subsurface and chemicals of interest. The laboratory observations are then graphically fitted with empirical isotherm models to quantify adsorption properties. Figure below shows isotherms that are particularly observed in groundwater transport studies. As can be observed in the figure sorption coefficient ($K$) is the common quantities obtained from isotherm models. \n",
    "\n",
    "```{figure} images/T10_f2.png\n",
    "---\n",
    "scale: 40%\n",
    "align: center\n",
    "name: sorption type\n",
    "---\n",
    "Different types of sorption isotherms\n",
    "```"
   ]
  },
  {
   "cell_type": "markdown",
   "metadata": {},
   "source": [
    "### Henry Isotherm\n",
    "\n",
    "The **Henry isotherm** (Henry, 1803) is based on the idea of a _linear_ relationship between the solute concentration **$C$** and the _adsorbate:adsorbent_ mass ratio $C_a$. Henry isotherm is quite often also called _linear isotherm_ or the $K_d$ model. Mathematically, the Henry isotherm is:\n",
    "\n",
    "$$\n",
    "C_a = K_d \\cdot C\n",
    "$$\n",
    "\n",
    "with\n",
    "\n",
    "$C$ = solute concentration [ML$^{-3}$]<br>\n",
    "$C_a$ = mass ratio adsorbate:adsorbent [M:M]<br>\n",
    "$K_d$ = distribution or partitioning coefficient [L$^3$M$^{-1}$].\n",
    "\n",
    "Often symbols $C_s$ or $s$ are used instead of $C_a$. \n",
    "\n",
    "The Henry model has been most widely used in groundwater transport studies. This is largely because of the simplicity (see equation) of the model and it's applicability in representing adsorption process more generally observed in groundwater studies. $K_d$, the partitioning coefficient, is particularly used in groundwater transport studies. It is equal to the slope of the Henry isotherm.  "
   ]
  },
  {
   "cell_type": "markdown",
   "metadata": {},
   "source": [
    "```{admonition} A quick example\n",
    ":class: tip\n",
    "From the experimental data provided below, obtain the Henry distribution coefficient.\n",
    "```"
   ]
  },
  {
   "cell_type": "code",
   "execution_count": 14,
   "metadata": {},
   "outputs": [
    {
     "name": "stdout",
     "output_type": "stream",
     "text": [
      "slope = 0.192    intercept= 0.775  R-squared=0.9990 \n",
      "\n",
      "The required partition coefficient = slope,= 0.192 L/g \n"
     ]
    },
    {
     "data": {
      "image/png": "[encoded data removed]",
      "text/plain": [
       "<Figure size 432x288 with 1 Axes>"
      ]
     },
     "metadata": {
      "needs_background": "light"
     },
     "output_type": "display_data"
    }
   ],
   "source": [
    "# Example of Henry isotherm (Source: Fetter et al. 2018)\n",
    "\n",
    "# Following sorption data are available:\n",
    "\n",
    "C = np.array([7, 15, 174, 249, 362]) # ug/L, Eq. concentration \n",
    "Ca = np.array([2, 4, 33, 50, 70]) # ug/g, Eq. sorbed mass \n",
    "\n",
    "# linear- fit y = m*x+c\n",
    "\n",
    "slope, intercept, r_value, p_value, std_err = stats.linregress(C, Ca)\n",
    "print(\"slope = %0.3f    intercept= %0.3f  R-squared=%0.4f\" % (slope, intercept, r_value**2),'\\n')\n",
    "fit_line = slope*C + intercept\n",
    "\n",
    "#plot\n",
    "\n",
    "plt.scatter(C, Ca, label= \"Original data\") # data plot\n",
    "plt.plot(C, fit_line, color = \"red\", label = \"fit-line\")\n",
    "plt.legend(); plt.xlabel(r\"Equilibrium Aqueous Concentration, $C$ ($\\mu$g/L) \")\n",
    "plt.ylabel(r\"Mass sorbed per unit absorbent weight, $C_a$ ($\\mu$g/g) \");  \n",
    "plt.text(0, 50, '$C_a=%0.5s C + %0.5s$'%(slope, intercept), fontsize=10)\n",
    "plt.text(0, 40, '$R^2=%0.5s $'%(r_value**2), fontsize=10)\n",
    "\n",
    "# Output\n",
    "\n",
    "print(\"The required partition coefficient = slope,= %0.5s L/g \" % slope)"
   ]
  },
  {
   "cell_type": "markdown",
   "metadata": {},
   "source": [
    "### Freundlich Isotherm\n",
    "\n",
    "**Freundlich isotherm** (Freundlich, 1907) is a more general isotherm. It is based on the idea of a power law, i.e., includes also the non-linear behaviour, relating the solute concentration $C$ to the adsorbate:adsorbent mass ration $C_a$. The isotherm is mathematically given as\n",
    "\n",
    "$$\n",
    "C_a = K_{Fr} \\cdot C^N\n",
    "$$\n",
    "\n",
    "with\n",
    "\n",
    "$C$ = solute concentration [ML$^{-3}$]<br>\n",
    "$C_a$ = mass ratio adsorbate:adsorbent [M:M]<br>\n",
    "$n$ = Freundlich exponent [-]<br>\n",
    "$K_{Fr}$ = Freundlich partitioning coefficient [(M:M)/(M/L$^3)^n$].\n",
    "\n",
    "The Freundlich isotherm equation can be easily linearized by applying logarithmic transformation of the equation, which gives\n",
    "\n",
    "\\begin{eqnarray*}\n",
    "\\log C_a = \\log K_{Fr} + n\\cdot \\log C \n",
    "\\end{eqnarray*}\n",
    "\n",
    "The above equation resembles the straight line equation $y = b + a \\cdot x b$, in which $b\\equiv \\log K_{Fr}$ is the intercept and $a\\equiv n$ the slope. Thus, from fitting the adsoprtion experimental results with the above equation, both $n$ and $K_{Fr}$ can be obtained.\n"
   ]
  },
  {
   "cell_type": "markdown",
   "metadata": {},
   "source": [
    "```{admonition} A quick example\n",
    ":class: tip\n",
    "From the experimental data provided below, obtain the Freundlich partitioning coefficient and Freundlich exponent.\n",
    "```"
   ]
  },
  {
   "cell_type": "code",
   "execution_count": 23,
   "metadata": {},
   "outputs": [
    {
     "name": "stdout",
     "output_type": "stream",
     "text": [
      "slope: 0.433    intercept: 2.283  R-squared: 0.999\n",
      "Freundlich partitioning coefficient =  191.8 (mg/g)1/n (mg/L) and  Freundlich exponent = 0.43\n"
     ]
    },
    {
     "data": {
      "image/png": "[encoded data removed]",
      "text/plain": [
       "<Figure size 720x288 with 2 Axes>"
      ]
     },
     "metadata": {
      "needs_background": "light"
     },
     "output_type": "display_data"
    }
   ],
   "source": [
    "# Example of Freundlich isotherm\n",
    "\n",
    "# Following sorption data are available:\n",
    "\n",
    "Cf= np.array([23.6, 6.67, 3.26, 0.322, 0.169, 0.114]) # mg/L, Eq. concentration \n",
    "Caf = np.array([737, 450, 318, 121, 85.2, 75.8]) # mg/g, Eq. sorbed mass \n",
    "\n",
    "logCf = np.log10(Cf) # log10 transformation of data\n",
    "logCaf = np.log10(Caf)\n",
    "\n",
    "# fitting: y = mx +c\n",
    "slope, intercept, r_value, p_value, std_err = stats.linregress(logCf, logCaf)\n",
    "print(\"slope: %0.3f    intercept: %0.3f  R-squared: %0.3f\" % (slope, intercept, r_value**2))\n",
    "fit_line = slope*logCf + intercept\n",
    "\n",
    "# plots\n",
    "plt.figure(figsize=(10,4))\n",
    "\n",
    "plt.subplot(121)\n",
    "plt.plot(Cf, Caf, \"*--\", label= \"Original data\")\n",
    "plt.legend(); plt.xlabel(r\"Eq. Aq. Conc., $C$ ($mg$g/L) \"); \n",
    "plt.ylabel(r\"Mass sorbed/absorbent weight, $C_a$ ($mg$g/g) \"); \n",
    "\n",
    "plt.subplot(122)\n",
    "plt.scatter(logCf, logCaf, label=\"Log transformed data\") \n",
    "plt.plot(logCf, fit_line, color=\"red\", label= \"linear fit line\")\n",
    "plt.legend(); plt.xlabel(r\"Eq. Aq. Conc., $\\log C$ ($mg$g/L) \"); \n",
    "plt.ylabel(r\"Mass sorbed/absorbent weight, $\\log C_a$ ($mg$/g) \"); \n",
    "plt.text(-1, 2.6, '$C_a=%0.5s C + %0.5s$'%(slope, intercept), fontsize=10)\n",
    "plt.text(-1, 2.5, '$R^2=%0.5s $'%(r_value**2), fontsize=10)\n",
    "plt.subplots_adjust(wspace=0.35)\n",
    "\n",
    "print(\"Freundlich partitioning coefficient =  %0.5s (mg/g)1/n (mg/L) and  Freundlich exponent = %0.4s\"  % (10**intercept, slope))"
   ]
  },
  {
   "cell_type": "markdown",
   "metadata": {},
   "source": [
    "### Retardation Factor (for Henry Isotherm)\n",
    "\n",
    "The net effect of adsorption is the retarded movement of solute in comparison to the average flow of the groundwater. The term **Retardation Factor** $(R)$ is defined that quantifies the retarded movement of solute. The formulation of $R$ is based on the type of isotherm. For Henry isotherm $R$ can be straightforwardly calculated with the help of a mass budget. \n",
    "\n",
    "For this purpose, an aquifer volume $V$ with the effective porosity $n_e$ is considered (see fig. below)\n",
    "\n",
    "```{figure} images/T10_f3.png\n",
    "---\n",
    "scale: 70%\n",
    "align: center\n",
    "name: Retardation\n",
    "---\n",
    "Retardation factor\n",
    "```\n",
    "\n",
    "The steps involved are:\n",
    "\n",
    "- Total volume: $V$\n",
    "- Water volume: $n_e \\cdot V$\n",
    "- Mass of dissolved chemical: $n_e \\cdot V \\cdot C$\n",
    "- Volume of solid: $(1-n_e)\\cdot V$\n",
    "- Density of solid material: $\\rho$\n",
    "- Mass of solid: $\\rho \\cdot(1-n_e)\\cdot V$\n",
    "- Mass of adsorbate: $\\rho \\cdot(1-n_e)\\cdot V\\cdot C_a$ = $(1-n_e)\\cdot\\rho \\cdot V \\cdot K_d \\cdot C$\n",
    "- Total mass: $n_e\\cdot V \\cdot C + (1-n_e)\\cdot\\rho \\cdot V\\cdot K_d \\cdot C = n_e \\cdot R \\cdot V \\cdot C$ <br>\n",
    "with _Retardation factor_ $$R = 1 + \\frac{1-n_e}{n_e}\\cdot \\rho \\cdot K_d$$\n",
    "\n",
    "The expression for $R$ can be further modified  by using bulk density $\\rho_b$ $= (1-n_e)\\cdot \\rho$ = mass of solid/total volume. This leads to\n",
    "\n",
    "$$\n",
    "R = 1+\\frac{\\rho_b}{n_e} \\cdot K_d\n",
    "$$\n",
    "\n",
    "As can be observed from the equation, $R = 1$ when there is no adsorption, i.e., when $K_d= 0$.\n"
   ]
  },
  {
   "cell_type": "markdown",
   "metadata": {},
   "source": [
    "```{admonition} A quick example\n",
    ":class: tip\n",
    "Calculate the retardation factor from the provided data.\n",
    "```"
   ]
  },
  {
   "cell_type": "code",
   "execution_count": 25,
   "metadata": {},
   "outputs": [
    {
     "name": "stdout",
     "output_type": "stream",
     "text": [
      "\u001b[0m You can change the provided values.\n",
      "\n",
      "effective porosity = 0.4\n",
      "density of solid material = 1.25 kg/m³\n",
      "Distribution or partition coefficient = 0.2 m³/kg\n",
      "\n",
      "\u001b[1mSolution:\u001b[0m\n",
      "The resulting retardation factor is \u001b[1m1.375\u001b[0m.\n"
     ]
    }
   ],
   "source": [
    "print(\"\\033[0m You can change the provided values.\\n\")\n",
    "\n",
    "ne = 0.4 #effective porosity [-]\n",
    "rho = 1.25 # density of solid material [kg/m³]\n",
    "Kd = 0.2 # distribution or partition coefficient [m³/kg]\n",
    "\n",
    "#intermediate calculation\n",
    "rho_b = (1-ne)*rho\n",
    "\n",
    "#solution\n",
    "R=1+(rho_b/ne)*Kd\n",
    "\n",
    "print(\"effective porosity = {}\\ndensity of solid material = {} kg/m³\\nDistribution or partition coefficient = {} m³/kg\\n\".format(ne, rho, Kd))\n",
    "print(\"\\033[1mSolution:\\033[0m\\nThe resulting retardation factor is \\033[1m{:02.4}\\033[0m.\".format(R))\n",
    "\n"
   ]
  },
  {
   "cell_type": "markdown",
   "metadata": {},
   "source": [
    "### Degradation\n",
    "\n",
    "**Degradation** leads to alteration or transformation of chemical structure of chemicals. This contrasts to adsorption in which chemical structure is not altered. In adsorption (or desorption) the original chemical is partitioned between the solid particles and water. It is _degradation_ that eventually lead to removal of the _original_ chemical from the groundwater. The transformation of original chemical, due to degradation, results to so-called _daughter products (metabolites)._ The new chemical(s) can make groundwater more suitable (decrease contamination) or further contaminate it.  \n",
    "\n",
    "In groundwater studies, degradation can appear as:\n",
    "\n",
    "- **Radioactive decay**\n",
    "- **Microbial degradation (bio-degradation)**\n",
    "- **Chemical degradation**\n",
    "\n",
    "There are several approaches to quantify degradation process. \n",
    "A common aspect to most of them is the assumption of _time-dependency_ (or _Kinetics_ ).\n"
   ]
  },
  {
   "cell_type": "markdown",
   "metadata": {},
   "source": [
    "### $n^{th}$ - Order Degradation Kinetics\n",
    "\n",
    "The general equation for the degradation kinetics is:\n",
    "\n",
    "$$\n",
    "\\frac{\\text{d}C}{\\text{d} t} = - \\lambda \\cdot C^n\n",
    "$$\n",
    "\n",
    "with $t$ = time [t] <br> \n",
    "$C$ = solute concentration [ML$^{-3}$] <br>\n",
    "$n$ = order of the degradation kinetics [ - ] ($n\\geq 0)$ <br>\n",
    "$\\lambda$ = degradation rate constant [(ML$^{-3})^{(1-n)}$T$^{-1}$].\n",
    "\n",
    "Considering the initial concentration (or input concentration) $C_0$, the solutions of the kinetics equation are:\n",
    "\n",
    "$$\n",
    "C(t) = C_0\\cdot e^{-\\lambda \\cdot t} \\: \\: \\: \\text{if }\\: n = 1  \n",
    "$$\n",
    "\n",
    "and\n",
    "\n",
    "$$\n",
    "C(t) = [C_0^{1-n} - (1-n)\\cdot \\lambda t]^{\\frac{1}{1-n}} \\:\\:\\: \\text{if }\\: n\\neq 1 \n",
    "$$\n",
    "\n",
    "The **half life** $(T_{1/2})$, which is the time span elapsing until the initial concentration $C_0$ is reduced by half, is an important time-scale in the degradation analysis. $T_{1/2}$ is $C_0$ dependent in nearly all cases with an exception for 1$^\\text{st}$- order degradation kinetics. 0$^{th}$-order and the 1$^\\text{st}$- order degradation kinetics are most commonly observed in groundwater studies. The $(T_{1/2})$ of these orders are:\n",
    "\n",
    "$$\n",
    "T_{1/2} = \\frac{C_0}{2\\cdot \\lambda} \\:\\:\\: \\text{for } \\:0^{\\text{th}}\\text{-order}   \n",
    "$$\n",
    "\n",
    "$$\n",
    "T_{1/2} = \\frac{\\ln 2}{\\lambda} \\:\\:\\: \\text{for } \\:1^{\\text{st}}\\text{-order}   \n",
    "$$\n",
    "\n",
    "As can be observed above $T_{1/2}$ is independent of concentration for the 1$^{\\text{st}}$-order degradation kinetics. \n",
    "\n",
    "Another important properties of the degradation kinetics is that for $n\\geq 1$ the solute concentration _asymptotically_ approaches zero, whereas for $n<1$, the solute concentration actually reaches zero"
   ]
  },
  {
   "cell_type": "code",
   "execution_count": 204,
   "metadata": {
    "code_folding": [
     0
    ],
    "tags": [
     "hide-input"
    ]
   },
   "outputs": [
    {
     "data": {
      "image/png": "[encoded data removed]",
      "text/plain": [
       "<Figure size 720x288 with 2 Axes>"
      ]
     },
     "metadata": {
      "needs_background": "light"
     },
     "output_type": "display_data"
    }
   ],
   "source": [
    "# behaviour of degradation kinetics\n",
    "\n",
    "#input - you may change the values\n",
    "Co = 1 # mg/L, initial concentration\n",
    "la = 0.003 # unit is order dependent. For n=1, 1/t\n",
    "\n",
    "# main equation\n",
    "Z_order = lambda t: Co* np.exp(-la*t) # for n = 0\n",
    "F_order = lambda t: Co-la*t # for n = 1\n",
    "\n",
    "# simulation for t\n",
    "t = np.linspace(1,1000, 1000) # 1000 time units\n",
    "Z_results = Z_order(t)\n",
    "F_results = F_order(t)\n",
    "\n",
    "# plots\n",
    "plt.figure(figsize=(10,4))\n",
    "\n",
    "# n = 1\n",
    "plt.subplot(121)\n",
    "plt.plot(t, Z_results)\n",
    "plt.ylim(0, Co); plt.xlim(0)\n",
    "plt.text(400, Co*0.8, r\"$C(t) = C_0 \\cdot e^{-\\lambda \\cdot t} $\", fontsize = 12) \n",
    "plt.text (400, Co*0.9, r\"1$^{st}$-order kinetics\", color = \"red\", fontsize = 12)\n",
    "plt.text(0, Co/2, r\"$T_{1/2}= \\frac{\\ln 2}{\\lambda}$\", color= \"red\", fontsize=14)\n",
    "plt.xlabel(\"Time, t  (days)\"); plt.ylabel(r\"Concentration, $C(t)$ (mg/L)\")\n",
    "\n",
    "# n = 0\n",
    "plt.subplot(122)\n",
    "plt.plot(t, F_results)\n",
    "plt.ylim(0, Co); plt.xlim(0)\n",
    "plt.text(400, Co*0.8, r\"$C(t) = C_0 \\cdot-\\lambda \\cdot t} $\", fontsize = 12)\n",
    "plt.text (400, Co*0.9, r\"0$^{th}$-order kinetics\", color = \"red\", fontsize = 12)\n",
    "plt.text(0, Co/2, r\"$T_{1/2}= \\frac{C_0}{2\\cdot \\lambda}$\", color= \"red\", fontsize=14) \n",
    "plt.xlabel(\"Time, t  (days)\"); plt.ylabel(r\"Concentration, $C(t)$ (mg/L)\")\n",
    "\n",
    "plt.subplots_adjust(wspace=0.35)"
   ]
  },
  {
   "cell_type": "markdown",
   "metadata": {},
   "source": [
    "### Radioactive decay\n",
    "\n",
    "Radioactive decay is degradation of a chemical due to radiation. The radioactive decay is limited to radioactive chemicals such as Cobalt, Cesium, Iodine. This decay obeys the 1$^\\text{st}$- order degradation kinetics and therefore the half-life is $T_{1/2} = \\frac{\\ln 2}{\\lambda}$. $T_{1/2}$ is characteristic property of radioactive chemicals and it can be used to compute degradation rate ($\\lambda$).   \n",
    "\n"
   ]
  },
  {
   "cell_type": "code",
   "execution_count": 8,
   "metadata": {
    "code_folding": [
     0
    ],
    "tags": [
     "hide-input"
    ]
   },
   "outputs": [
    {
     "name": "stdout",
     "output_type": "stream",
     "text": [
      "   time (a)  Cobalt 60 (mg/L)  Strontium 90 (mg/L)\n",
      "0         0             10.00                10.00\n",
      "1         1              8.76                 9.76\n",
      "2         2              7.68                 9.52\n",
      "3         5              5.17                 8.84\n",
      "4        10              2.68                 7.81\n",
      "5        20              0.72                 6.10\n",
      "6        28              0.25                 5.00\n",
      "\n",
      " The degradation rate (λ) for Cobalt 60 = 0.024 1/y and for Strontium 90 = 0.131 1/y \n",
      "\n"
     ]
    },
    {
     "data": {
      "image/png": "[encoded data removed]",
      "text/plain": [
       "<Figure size 432x288 with 1 Axes>"
      ]
     },
     "metadata": {
      "needs_background": "light"
     },
     "output_type": "display_data"
    }
   ],
   "source": [
    "# Example of Radioactive decaly\n",
    "\n",
    "#experimental results\n",
    "\n",
    "t = [0, 1, 2, 5, 10, 20, 28 ] # yr, time\n",
    "Co_60 = [10, 8.76, 7.68, 5.17, 2.68, 0.72, 0.25] # mg/L, Cobalt 60 conc.\n",
    "So_90 = [10, 9.76, 9.52, 8.84, 7.81, 6.10, 5] # mg/L, Strontium 90 Conc.\n",
    "\n",
    "z_list = list(zip(t, Co_60, So_90))\n",
    "\n",
    "Cols= [\"time (a)\", \"Cobalt 60 (mg/L)\", \"Strontium 90 (mg/L)\"]\n",
    "df = pd.DataFrame(z_list, columns=Cols)\n",
    "print(df)\n",
    "\n",
    "# computing\n",
    "TH_Co60 = 28 # yr, Half life of Cobalt 60\n",
    "TH_St90 = 5.26 # yr, Half life of Strontium 90\n",
    "la_Co60 = np.log(2)/TH_Co60 # 1/yr, degradation rate of Cobalt 60\n",
    "la_St90 = np.log(2)/TH_St90 # 1/yr, degradation rate of Strontium 90\n",
    "\n",
    "# visualize\n",
    "plt.plot(t, Co_60, \"o--\", label = \"Cobalt 60\") \n",
    "plt.plot(t, So_90, \"v--\", label= \"Strontium 90\")\n",
    "plt.xlabel(\"Time (years)\"); plt.ylabel(\"Concentration (mg/L)\")\n",
    "plt.legend();\n",
    "\n",
    "print(\"\\n The degradation rate (\\u03BB) for Cobalt 60 = %0.5s 1/y and for Strontium 90 = %0.5s 1/y \\n\"  % (la_Co60, la_St90))"
   ]
  },
  {
   "cell_type": "markdown",
   "metadata": {},
   "source": [
    "### Joint Action of Conservative and Reactive Transport (1D)\n",
    "\n",
    "### Concentration Profile\n",
    "\n",
    "Figure below presents the joint action of conservative transport with equilibrium sorption (linear isotherm) and degradation. The figure shows the solute concentration $C$ (in water) at the same time-levels for various combinations of acting processes.\n",
    "\n",
    "```{figure} images/T10_f4.png\n",
    "---\n",
    "scale: 60%\n",
    "align: center\n",
    "name: 1D_cons_react\n",
    "---\n",
    "1D Conservative and Reactive Transport\n",
    "```\n",
    "\n",
    "\n",
    "The figure can be explained in the following way:\n",
    "\n",
    "(A): The solute is initially present at constant concentration in a limited area.\n",
    "\n",
    "(B): Solute spreads only due to advection. Due to absence of dispersion there is no (1D) spreading effect.\n",
    "\n",
    "(C): Inclusion of dispersion process causes spread of concentration. As retardation is absence the front centreline remains unchanged\n",
    "\n",
    "(D): The inclusion of retardation ($R$) with advection and dispersion leads to removal of chemicals from water and as well the retarded movement of the chemical front.\n",
    "\n",
    "(E): The inclusion of retardation along with degradation and conservative transport process leads to high removal of chemical from water.\n",
    "\n",
    "\n"
   ]
  },
  {
   "cell_type": "markdown",
   "metadata": {},
   "source": [
    "### Breakthrough Curve\n",
    "\n",
    "Breakthrough curves provide a _time-dependent_ spread of chemicals in the groundwater. The inclusion of multiple processes are normally solved using numerical models. Analytical models are available for limited processes and simplified problems. A 1-D analytical solution by Kinzelbach (1987) provide a transient (time-dependent) solution of reactive transport problem with inclusion of equilibrium linear sorption represented by retardation $(R)$, first-order degradation rate $(\\lambda)$ and the conservative transport quantities - dispersion $(D)$ and advection. The solution is given as:\n",
    "\n",
    "\n",
    "$$\n",
    "C(x,t) = C_0 \\cdot \\exp(-\\lambda\\cdot t)\\bigg(1- \\frac{1}{2}\\text{erfc}\\bigg(\\frac{R\\cdot x - v\\cdot t}{2\\cdot\\sqrt{D\\cdot R \\cdot t}}\\bigg) - \\frac{1}{2}\\exp\\bigg(\\frac{v\\cdot x}{D}\\bigg)\\text{erfc}\\bigg(\\frac{R\\cdot x + v\\cdot t}{2\\cdot\\sqrt{D\\cdot R \\cdot t}}\\bigg) \n",
    "$$\n",
    "\n",
    "with $C_0$ = input/source concentration [ML$^{-3}$] <br>\n",
    "$t$ = time [T]<br>\n",
    "$v$ = groundwater flow velocity [LT$^{-1}$]<br>\n",
    "erfc() = represents the complementary error function [See here for details](https://en.wikipedia.org/wiki/Error_function). erfc() can be easily computed using Python Scipy special function library."
   ]
  },
  {
   "cell_type": "code",
   "execution_count": 177,
   "metadata": {
    "code_folding": [
     0,
     10
    ],
    "tags": [
     "hide-input"
    ]
   },
   "outputs": [],
   "source": [
    "# Breakthrough curve using Kinzelbach (1987) analytical solution Main function\n",
    "\n",
    "# The main function - you may change the value of C_o, lam, R, Dx, v, x\n",
    "# C_o = input concentration, mg/L \n",
    "# lam = 0 # 1/d, degradation rate, 1/d \n",
    "# R = retardation factor, ()\n",
    "# Dx = dispersion coeff. along x, m^2/d\n",
    "# v = groundwater velocity, m/d\n",
    "# x = position where C is to be measured, m\n",
    "\n",
    "def Cx(t, C_o= 1, lam = 0, R=1, Dx=1, v= 10, x = 20):\n",
    "    sterm = C_o*np.exp(-lam*t)\n",
    "    erf_ag1 = (R*x-v*t)/(2*np.sqrt(Dx*R*t)) \n",
    "    erf_ag2 = (R*x+v*t)/(2*np.sqrt(Dx*R*t)) \n",
    "    \n",
    "    C = sterm*(1-(0.5*sci.erfc(erf_ag1)-0.5*np.exp((v*x)/Dx)*sci.erfc(erf_ag2)))\n",
    "    return C \n"
   ]
  },
  {
   "cell_type": "code",
   "execution_count": 206,
   "metadata": {
    "tags": [
     "hide-input"
    ]
   },
   "outputs": [
    {
     "data": {
      "text/plain": [
       "Text(5, 0.2, '$x= 20$ m')"
      ]
     },
     "execution_count": 206,
     "metadata": {},
     "output_type": "execute_result"
    },
    {
     "data": {
      "image/png": "[encoded data removed]",
      "text/plain": [
       "<Figure size 648x432 with 1 Axes>"
      ]
     },
     "metadata": {
      "needs_background": "light"
     },
     "output_type": "display_data"
    }
   ],
   "source": [
    "# Computing Case 1: Conservative process- R = 1, Lambda = 0\n",
    "t1 = np.linspace(1e-5,50,1000) # times, d\n",
    "C1 = Cx(t1, C_o= 1, lam = 0, R=1, Dx=1, v= 1, x = 20)\n",
    "\n",
    "# Computing Case 2: Conservative system + Retardation - R = 2, Lambda = 0\n",
    "t2 = np.linspace(1e-5,50,1000) # times, d\n",
    "C2 = Cx(t2, C_o= 1, lam = 0, R=2, Dx=1, v= 1, x = 20)\n",
    "\n",
    "# Computing Case 3: Conservative system + Retardation + degradation - R = 2, Lambda = 0.004\n",
    "t3 = np.linspace(1e-5,50,1000) # times, d\n",
    "C3 = Cx(t3, C_o= 1, lam = 0.004, R=2, Dx=1, v= 1, x = 20)\n",
    "\n",
    "# plots - this should be adjusted as required \n",
    "\n",
    "plt.figure(figsize=(9, 6))\n",
    "\n",
    "plt.plot(t1, C1, label=\"Conservative transport\")\n",
    "plt.plot(t2, C2, label = \"Reactive transport with sorption\")\n",
    "plt.plot(t3, C3, label = \"Reactive transport with sorption and degradation rate\")\n",
    "plt.legend(loc= 3); plt.xlim(0), plt.ylim(0)\n",
    "plt.xlabel(\"time (d)\"); plt.ylabel(r\"Concentration, $C$ (mg/L)\")\n",
    "plt.text(5, 0.2, r\"$x= 20$ m\") "
   ]
  },
  {
   "cell_type": "markdown",
   "metadata": {},
   "source": [
    "### Mass (Re-)Distribution During Injection / Extraction\n",
    "\n",
    "**Consider a scenario**: \n",
    "\n",
    "Water is _injected_ into a certain portion of an aquifer with total volume $V$, bulk density $\\rho_b$ and effective porosity $n_e$. Assume that the injected water contains a chemical of total mass $M$, which is adsorbed by the aquifer materials under equilibrium conditions according to Henry isotherm (quantified by $K_d$$).\n",
    "\n",
    "Bases on the assumption of sorption equilibrium, the total mass $M$ of the chemical is instantaneously(!) split up into a dissolved and a sorbed part. In such case, the mass distribution can be computed as follows (with $R$ = retardation factor, $\\rho_b$\n",
    "= bulk density):\n",
    "\n",
    "\\begin{align}\n",
    "M &= n_e \\cdot V \\cdot C + V\\cdot\\rho_b \\cdot C_a \\\\ \n",
    "&= n_e \\cdot V \\cdot C + V \\cdot \\rho_b \\cdot K_d \\cdot C\\\\ \n",
    "&= n_e \\cdot (1 + \\rho_b \\cdot K_d/n_e) \\cdot V \\cdot C\\\\\n",
    "&= n_e \\cdot R \\cdot V \\cdot C\n",
    "\\end{align}\n",
    "\n",
    "In which,\n",
    "\n",
    "$n_e \\cdot V \\cdot C$ = dissolved mass <br>\n",
    "\n",
    "$V\\cdot\\rho_b \\cdot C_a$ = mass of adsorbate\n",
    "\n",
    "For the dissolved mass we thus have $n_e \\cdot V \\cdot C = M/R$ and consequently the mass of adsorbate is:<br>\n",
    "$V\\cdot\\rho_b \\cdot C_a = M- M/R = (1-1/R)\\cdot M$\n",
    "\n",
    "The same approach can be adopted for the **extraction** scenarios, i.e. equilibrium desorption.\n",
    "\n",
    "\n"
   ]
  },
  {
   "cell_type": "markdown",
   "metadata": {},
   "source": [
    "### Additional Tool ###\n",
    "\n",
    "The additional tool: [1D-Advection-Dispersion Simulation Tool](/contents/tools/1D_advection_dispersion) simulates all the concepts that are provided above. The tool simulates:\n",
    "\n",
    "\n",
    "- 1D solute transport in porous media (e.g., laboratory column)\n",
    "- uses unifrom cross-section\n",
    "- steady-state water flow\n",
    "- input of tracer\n",
    "\n",
    "The output are then:\n",
    "\n",
    "- spreading of tracer due to advection and mechanical dispersion\n",
    "- computation and graphical representation of a breakthrough curve\n",
    "- comparison with measured data.\n"
   ]
  },
  {
   "cell_type": "markdown",
   "metadata": {},
   "source": [
    "\n"
   ]
  }
 ],
 "metadata": {
  "hide_input": false,
  "kernelspec": {
   "display_name": "Python 3",
   "language": "python",
   "name": "python3"
  },
  "language_info": {
   "codemirror_mode": {
    "name": "ipython",
    "version": 3
   },
   "file_extension": ".py",
   "mimetype": "text/x-python",
   "name": "python",
   "nbconvert_exporter": "python",
   "pygments_lexer": "ipython3",
   "version": "3.8.3"
  },
  "latex_envs": {
   "LaTeX_envs_menu_present": true,
   "autoclose": false,
   "autocomplete": true,
   "bibliofile": "biblio.bib",
   "cite_by": "apalike",
   "current_citInitial": 1,
   "eqLabelWithNumbers": false,
   "eqNumInitial": 1,
   "hotkeys": {
    "equation": "Ctrl-E",
    "itemize": "Ctrl-I"
   },
   "labels_anchors": false,
   "latex_user_defs": false,
   "report_style_numbering": false,
   "user_envs_cfg": false
  },
  "toc": {
   "base_numbering": 1,
   "nav_menu": {},
   "number_sections": true,
   "sideBar": true,
   "skip_h1_title": false,
   "title_cell": "Table of Contents",
   "title_sidebar": "Contents",
   "toc_cell": false,
   "toc_position": {},
   "toc_section_display": true,
   "toc_window_display": false
  },
  "varInspector": {
   "cols": {
    "lenName": 16,
    "lenType": 16,
    "lenVar": 40
   },
   "kernels_config": {
    "python": {
     "delete_cmd_postfix": "",
     "delete_cmd_prefix": "del ",
     "library": "var_list.py",
     "varRefreshCmd": "print(var_dic_list())"
    },
    "r": {
     "delete_cmd_postfix": ") ",
     "delete_cmd_prefix": "rm(",
     "library": "var_list.r",
     "varRefreshCmd": "cat(var_dic_list()) "
    }
   },
   "position": {
    "height": "531.4px",
    "left": "1157px",
    "right": "20px",
    "top": "120px",
    "width": "359px"
   },
   "types_to_exclude": [
    "module",
    "function",
    "builtin_function_or_method",
    "instance",
    "_Feature"
   ],
   "window_display": false
  }
 },
 "nbformat": 4,
 "nbformat_minor": 4
}
