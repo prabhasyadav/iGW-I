{
 "cells": [
  {
   "cell_type": "markdown",
   "metadata": {},
   "source": [
    "# Layered Systems"
   ]
  },
  {
   "cell_type": "code",
   "execution_count": 1,
   "metadata": {},
   "outputs": [],
   "source": [
    "import numpy as np"
   ]
  },
  {
   "cell_type": "markdown",
   "metadata": {},
   "source": [
    "## Case I - Flow Parallel to Layering"
   ]
  },
  {
   "cell_type": "code",
   "execution_count": 9,
   "metadata": {},
   "outputs": [
    {
     "name": "stdout",
     "output_type": "stream",
     "text": [
      "\u001b[1m\u001b[4mA quick example:\u001b[0m You can change the provided values.\n",
      "\n",
      "Calculate the effective hydraulic conductivity of the layer system consisting of 5 layers if the flow is parallel to the stratification.\n",
      "\n",
      "\u001b[1mProvided are:\u001b[0m\n",
      "thickness of layer 1 = 3 m\n",
      "thickness of layer 2 = 2.5 m\n",
      "thickness of layer 3 = 1.75 m\n",
      "conductivity of layer 1 = 3.5e-03 m/s\n",
      "conductivity of layer 2 = 2.0e-02 m/s\n",
      "conductivity of layer 3 5.0e-04 m/s\n",
      "\n",
      "\u001b[1mSolution:\u001b[0m\n",
      "The resulting hydraulic conductivity of the layer system is \u001b[1m8.5e-03 m/s\u001b[0m.\n"
     ]
    }
   ],
   "source": [
    "print(\"\\033[1m\\033[4mA quick example:\\033[0m You can change the provided values.\\n\")\n",
    "print(\"Calculate the effective hydraulic conductivity of the layer system consisting of 5 layers if the flow is parallel to the stratification.\\n\\n\\033[1mProvided are:\\033[0m\")\n",
    "\n",
    "#Thickness of i-th layer [m]\n",
    "m1 = 3 \n",
    "m2 = 2.5\n",
    "m3 = 1.75\n",
    "\n",
    "#conductivity of i-th layer [m/s]\n",
    "K1 = 3.5e-3\n",
    "K2 = 2e-2\n",
    "K3 = 5e-4\n",
    "\n",
    "\n",
    "#intermediate calculation\n",
    "m = m1+m2+m3\n",
    "\n",
    "#solution\n",
    "K = (m1*K1+m2*K2+m3*K3)/m\n",
    "print(\"thickness of layer 1 = {}\".format(m1), \"m\\nthickness of layer 2 = {}\".format(m2),\"m\\nthickness of layer 3 = {}\".format(m3), \"m\\nconductivity of layer 1 = {:02.1e}\".format(K1),\n",
    "      \"m/s\\nconductivity of layer 2 = {:02.1e}\".format(K2), \"m/s\\nconductivity of layer 3 {:02.1e}\".format(K3), \"m/s\")\n",
    "print(\"\\n\\033[1mSolution:\\033[0m\\nThe resulting hydraulic conductivity of the layer system is \\033[1m{:02.1e} m/s\\033[0m.\".format(K))"
   ]
  },
  {
   "cell_type": "markdown",
   "metadata": {},
   "source": [
    "## Case II - Flow Perpendicular to Layering"
   ]
  },
  {
   "cell_type": "code",
   "execution_count": 11,
   "metadata": {},
   "outputs": [
    {
     "name": "stdout",
     "output_type": "stream",
     "text": [
      "\u001b[1m\u001b[4mA quick example:\u001b[0m You can change the provided values.\n",
      "\n",
      "Calculate the effective hydraulic conductivity of the layer system consisting of 5 layers if the flow is perpendicular to the layering.\n",
      "\n",
      "\u001b[1mProvided are:\u001b[0m\n",
      "thickness of layer 1 = 3 m\n",
      "thickness of layer 2 = 2.5 m\n",
      "thickness of layer 3 = 1.75 m\n",
      "conductivity of layer 1 = 3.5e-03 m/s\n",
      "conductivity of layer 2 = 2.0e-02 m/s\n",
      "conductivity of layer 3 5.0e-04 m/s\n",
      "\n",
      "\u001b[1mSolution:\u001b[0m\n",
      "The resulting hydraulic conductivity of the layer system is \u001b[1m1.6e-03 m/s\u001b[0m.\n"
     ]
    }
   ],
   "source": [
    "print(\"\\033[1m\\033[4mA quick example:\\033[0m You can change the provided values.\\n\")\n",
    "print(\"Calculate the effective hydraulic conductivity of the layer system consisting of 5 layers if the flow is perpendicular to the layering.\\n\\n\\033[1mProvided are:\\033[0m\")\n",
    "\n",
    "#Thickness of i-th layer [m]\n",
    "m1 = 3 \n",
    "m2 = 2.5\n",
    "m3 = 1.75\n",
    "\n",
    "#conductivity of i-th layer [m/s]\n",
    "K1 = 3.5e-3\n",
    "K2 = 2e-2\n",
    "K3 = 5e-4\n",
    "\n",
    "#intermediate calculation\n",
    "m = m1+m2+m3\n",
    "\n",
    "#solution\n",
    "K = m/(m1/K1+m2/K2+m3/K3)\n",
    "\n",
    "print(\"thickness of layer 1 = {}\".format(m1), \"m\\nthickness of layer 2 = {}\".format(m2),\"m\\nthickness of layer 3 = {}\".format(m3), \"m\\nconductivity of layer 1 = {:02.1e}\".format(K1),\n",
    "      \"m/s\\nconductivity of layer 2 = {:02.1e}\".format(K2), \"m/s\\nconductivity of layer 3 {:02.1e}\".format(K3), \"m/s\")\n",
    "print(\"\\n\\033[1mSolution:\\033[0m\\nThe resulting hydraulic conductivity of the layer system is \\033[1m{:02.1e} m/s\\033[0m.\".format(K))"
   ]
  },
  {
   "cell_type": "code",
   "execution_count": null,
   "metadata": {},
   "outputs": [],
   "source": []
  }
 ],
 "metadata": {
  "kernelspec": {
   "display_name": "Python 3",
   "language": "python",
   "name": "python3"
  },
  "language_info": {
   "codemirror_mode": {
    "name": "ipython",
    "version": 3
   },
   "file_extension": ".py",
   "mimetype": "text/x-python",
   "name": "python",
   "nbconvert_exporter": "python",
   "pygments_lexer": "ipython3",
   "version": "3.8.3"
  }
 },
 "nbformat": 4,
 "nbformat_minor": 4
}
