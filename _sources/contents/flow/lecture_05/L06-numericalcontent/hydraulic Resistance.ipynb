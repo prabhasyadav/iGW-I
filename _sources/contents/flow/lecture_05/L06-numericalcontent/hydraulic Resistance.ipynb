{
 "cells": [
  {
   "cell_type": "markdown",
   "metadata": {},
   "source": [
    "# Hydraulic Resistance"
   ]
  },
  {
   "cell_type": "code",
   "execution_count": 3,
   "metadata": {},
   "outputs": [
    {
     "name": "stdout",
     "output_type": "stream",
     "text": [
      "\u001b[1m\u001b[4mA quick example:\u001b[0m You can change the provided values.\n",
      "\n",
      "Find the hydraulic resistance with the given hydraulic counductivity.\n",
      "\n",
      "\u001b[1mProvided are:\u001b[0m\n",
      "Hydraulic conductivity = 5.0e-04 m/s\n",
      "\n",
      "\u001b[1mSolution:\u001b[0m\n",
      "The resulting hydraulic resistance is \u001b[1m2.0e+03 s/m\u001b[0m.\n"
     ]
    }
   ],
   "source": [
    "print(\"\\033[1m\\033[4mA quick example:\\033[0m You can change the provided values.\\n\")\n",
    "print(\"Find the hydraulic resistance with the given hydraulic counductivity.\\n\\n\\033[1mProvided are:\\033[0m\")\n",
    "\n",
    "K = 5e-4 # m/s, hydraulic conductivity\n",
    "\n",
    "#solution\n",
    "R = 1/K\n",
    "\n",
    "print(\"Hydraulic conductivity = {:02.1e} m/s\".format(K))\n",
    "print(\"\\n\\033[1mSolution:\\033[0m\\nThe resulting hydraulic resistance is \\033[1m{:02.1e} s/m\\033[0m.\".format(R))"
   ]
  },
  {
   "cell_type": "code",
   "execution_count": null,
   "metadata": {},
   "outputs": [],
   "source": []
  },
  {
   "cell_type": "code",
   "execution_count": null,
   "metadata": {},
   "outputs": [],
   "source": []
  }
 ],
 "metadata": {
  "kernelspec": {
   "display_name": "Python 3",
   "language": "python",
   "name": "python3"
  },
  "language_info": {
   "codemirror_mode": {
    "name": "ipython",
    "version": 3
   },
   "file_extension": ".py",
   "mimetype": "text/x-python",
   "name": "python",
   "nbconvert_exporter": "python",
   "pygments_lexer": "ipython3",
   "version": "3.8.3"
  }
 },
 "nbformat": 4,
 "nbformat_minor": 4
}
